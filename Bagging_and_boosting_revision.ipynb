{
 "cells": [
  {
   "cell_type": "code",
   "execution_count": 1,
   "metadata": {},
   "outputs": [],
   "source": [
    "import numpy as np"
   ]
  },
  {
   "cell_type": "code",
   "execution_count": 2,
   "metadata": {},
   "outputs": [],
   "source": [
    "import pandas as pd"
   ]
  },
  {
   "cell_type": "code",
   "execution_count": 3,
   "metadata": {},
   "outputs": [],
   "source": [
    "titanic = pd.read_csv('titanic.csv')"
   ]
  },
  {
   "cell_type": "code",
   "execution_count": 4,
   "metadata": {},
   "outputs": [
    {
     "data": {
      "text/html": [
       "<div>\n",
       "<style scoped>\n",
       "    .dataframe tbody tr th:only-of-type {\n",
       "        vertical-align: middle;\n",
       "    }\n",
       "\n",
       "    .dataframe tbody tr th {\n",
       "        vertical-align: top;\n",
       "    }\n",
       "\n",
       "    .dataframe thead th {\n",
       "        text-align: right;\n",
       "    }\n",
       "</style>\n",
       "<table border=\"1\" class=\"dataframe\">\n",
       "  <thead>\n",
       "    <tr style=\"text-align: right;\">\n",
       "      <th></th>\n",
       "      <th>PassengerId</th>\n",
       "      <th>Survived</th>\n",
       "      <th>Pclass</th>\n",
       "      <th>Name</th>\n",
       "      <th>Sex</th>\n",
       "      <th>Age</th>\n",
       "      <th>SibSp</th>\n",
       "      <th>Parch</th>\n",
       "      <th>Ticket</th>\n",
       "      <th>Fare</th>\n",
       "      <th>Cabin</th>\n",
       "      <th>Embarked</th>\n",
       "    </tr>\n",
       "  </thead>\n",
       "  <tbody>\n",
       "    <tr>\n",
       "      <th>0</th>\n",
       "      <td>1</td>\n",
       "      <td>0</td>\n",
       "      <td>3</td>\n",
       "      <td>Braund, Mr. Owen Harris</td>\n",
       "      <td>male</td>\n",
       "      <td>22.0</td>\n",
       "      <td>1</td>\n",
       "      <td>0</td>\n",
       "      <td>A/5 21171</td>\n",
       "      <td>7.2500</td>\n",
       "      <td>NaN</td>\n",
       "      <td>S</td>\n",
       "    </tr>\n",
       "    <tr>\n",
       "      <th>1</th>\n",
       "      <td>2</td>\n",
       "      <td>1</td>\n",
       "      <td>1</td>\n",
       "      <td>Cumings, Mrs. John Bradley (Florence Briggs Th...</td>\n",
       "      <td>female</td>\n",
       "      <td>38.0</td>\n",
       "      <td>1</td>\n",
       "      <td>0</td>\n",
       "      <td>PC 17599</td>\n",
       "      <td>71.2833</td>\n",
       "      <td>C85</td>\n",
       "      <td>C</td>\n",
       "    </tr>\n",
       "    <tr>\n",
       "      <th>2</th>\n",
       "      <td>3</td>\n",
       "      <td>1</td>\n",
       "      <td>3</td>\n",
       "      <td>Heikkinen, Miss. Laina</td>\n",
       "      <td>female</td>\n",
       "      <td>26.0</td>\n",
       "      <td>0</td>\n",
       "      <td>0</td>\n",
       "      <td>STON/O2. 3101282</td>\n",
       "      <td>7.9250</td>\n",
       "      <td>NaN</td>\n",
       "      <td>S</td>\n",
       "    </tr>\n",
       "    <tr>\n",
       "      <th>3</th>\n",
       "      <td>4</td>\n",
       "      <td>1</td>\n",
       "      <td>1</td>\n",
       "      <td>Futrelle, Mrs. Jacques Heath (Lily May Peel)</td>\n",
       "      <td>female</td>\n",
       "      <td>35.0</td>\n",
       "      <td>1</td>\n",
       "      <td>0</td>\n",
       "      <td>113803</td>\n",
       "      <td>53.1000</td>\n",
       "      <td>C123</td>\n",
       "      <td>S</td>\n",
       "    </tr>\n",
       "    <tr>\n",
       "      <th>4</th>\n",
       "      <td>5</td>\n",
       "      <td>0</td>\n",
       "      <td>3</td>\n",
       "      <td>Allen, Mr. William Henry</td>\n",
       "      <td>male</td>\n",
       "      <td>35.0</td>\n",
       "      <td>0</td>\n",
       "      <td>0</td>\n",
       "      <td>373450</td>\n",
       "      <td>8.0500</td>\n",
       "      <td>NaN</td>\n",
       "      <td>S</td>\n",
       "    </tr>\n",
       "  </tbody>\n",
       "</table>\n",
       "</div>"
      ],
      "text/plain": [
       "   PassengerId  Survived  Pclass  \\\n",
       "0            1         0       3   \n",
       "1            2         1       1   \n",
       "2            3         1       3   \n",
       "3            4         1       1   \n",
       "4            5         0       3   \n",
       "\n",
       "                                                Name     Sex   Age  SibSp  \\\n",
       "0                            Braund, Mr. Owen Harris    male  22.0      1   \n",
       "1  Cumings, Mrs. John Bradley (Florence Briggs Th...  female  38.0      1   \n",
       "2                             Heikkinen, Miss. Laina  female  26.0      0   \n",
       "3       Futrelle, Mrs. Jacques Heath (Lily May Peel)  female  35.0      1   \n",
       "4                           Allen, Mr. William Henry    male  35.0      0   \n",
       "\n",
       "   Parch            Ticket     Fare Cabin Embarked  \n",
       "0      0         A/5 21171   7.2500   NaN        S  \n",
       "1      0          PC 17599  71.2833   C85        C  \n",
       "2      0  STON/O2. 3101282   7.9250   NaN        S  \n",
       "3      0            113803  53.1000  C123        S  \n",
       "4      0            373450   8.0500   NaN        S  "
      ]
     },
     "execution_count": 4,
     "metadata": {},
     "output_type": "execute_result"
    }
   ],
   "source": [
    "titanic.head()"
   ]
  },
  {
   "cell_type": "code",
   "execution_count": 5,
   "metadata": {},
   "outputs": [],
   "source": [
    "titanic = titanic.drop(columns=['PassengerId','Name','Ticket','Cabin','Embarked'])"
   ]
  },
  {
   "cell_type": "code",
   "execution_count": 6,
   "metadata": {},
   "outputs": [
    {
     "data": {
      "text/html": [
       "<div>\n",
       "<style scoped>\n",
       "    .dataframe tbody tr th:only-of-type {\n",
       "        vertical-align: middle;\n",
       "    }\n",
       "\n",
       "    .dataframe tbody tr th {\n",
       "        vertical-align: top;\n",
       "    }\n",
       "\n",
       "    .dataframe thead th {\n",
       "        text-align: right;\n",
       "    }\n",
       "</style>\n",
       "<table border=\"1\" class=\"dataframe\">\n",
       "  <thead>\n",
       "    <tr style=\"text-align: right;\">\n",
       "      <th></th>\n",
       "      <th>Survived</th>\n",
       "      <th>Pclass</th>\n",
       "      <th>Sex</th>\n",
       "      <th>Age</th>\n",
       "      <th>SibSp</th>\n",
       "      <th>Parch</th>\n",
       "      <th>Fare</th>\n",
       "    </tr>\n",
       "  </thead>\n",
       "  <tbody>\n",
       "    <tr>\n",
       "      <th>0</th>\n",
       "      <td>0</td>\n",
       "      <td>3</td>\n",
       "      <td>male</td>\n",
       "      <td>22.0</td>\n",
       "      <td>1</td>\n",
       "      <td>0</td>\n",
       "      <td>7.2500</td>\n",
       "    </tr>\n",
       "    <tr>\n",
       "      <th>1</th>\n",
       "      <td>1</td>\n",
       "      <td>1</td>\n",
       "      <td>female</td>\n",
       "      <td>38.0</td>\n",
       "      <td>1</td>\n",
       "      <td>0</td>\n",
       "      <td>71.2833</td>\n",
       "    </tr>\n",
       "    <tr>\n",
       "      <th>2</th>\n",
       "      <td>1</td>\n",
       "      <td>3</td>\n",
       "      <td>female</td>\n",
       "      <td>26.0</td>\n",
       "      <td>0</td>\n",
       "      <td>0</td>\n",
       "      <td>7.9250</td>\n",
       "    </tr>\n",
       "    <tr>\n",
       "      <th>3</th>\n",
       "      <td>1</td>\n",
       "      <td>1</td>\n",
       "      <td>female</td>\n",
       "      <td>35.0</td>\n",
       "      <td>1</td>\n",
       "      <td>0</td>\n",
       "      <td>53.1000</td>\n",
       "    </tr>\n",
       "    <tr>\n",
       "      <th>4</th>\n",
       "      <td>0</td>\n",
       "      <td>3</td>\n",
       "      <td>male</td>\n",
       "      <td>35.0</td>\n",
       "      <td>0</td>\n",
       "      <td>0</td>\n",
       "      <td>8.0500</td>\n",
       "    </tr>\n",
       "  </tbody>\n",
       "</table>\n",
       "</div>"
      ],
      "text/plain": [
       "   Survived  Pclass     Sex   Age  SibSp  Parch     Fare\n",
       "0         0       3    male  22.0      1      0   7.2500\n",
       "1         1       1  female  38.0      1      0  71.2833\n",
       "2         1       3  female  26.0      0      0   7.9250\n",
       "3         1       1  female  35.0      1      0  53.1000\n",
       "4         0       3    male  35.0      0      0   8.0500"
      ]
     },
     "execution_count": 6,
     "metadata": {},
     "output_type": "execute_result"
    }
   ],
   "source": [
    "titanic.head()"
   ]
  },
  {
   "cell_type": "code",
   "execution_count": 8,
   "metadata": {},
   "outputs": [
    {
     "data": {
      "text/plain": [
       "Survived      0\n",
       "Pclass        0\n",
       "Sex           0\n",
       "Age         177\n",
       "SibSp         0\n",
       "Parch         0\n",
       "Fare          0\n",
       "dtype: int64"
      ]
     },
     "execution_count": 8,
     "metadata": {},
     "output_type": "execute_result"
    }
   ],
   "source": [
    "titanic.isna().sum()"
   ]
  },
  {
   "cell_type": "code",
   "execution_count": 9,
   "metadata": {},
   "outputs": [],
   "source": [
    "titanic['Age'] = titanic['Age'].fillna(29.7)"
   ]
  },
  {
   "cell_type": "code",
   "execution_count": 10,
   "metadata": {},
   "outputs": [
    {
     "data": {
      "text/html": [
       "<div>\n",
       "<style scoped>\n",
       "    .dataframe tbody tr th:only-of-type {\n",
       "        vertical-align: middle;\n",
       "    }\n",
       "\n",
       "    .dataframe tbody tr th {\n",
       "        vertical-align: top;\n",
       "    }\n",
       "\n",
       "    .dataframe thead th {\n",
       "        text-align: right;\n",
       "    }\n",
       "</style>\n",
       "<table border=\"1\" class=\"dataframe\">\n",
       "  <thead>\n",
       "    <tr style=\"text-align: right;\">\n",
       "      <th></th>\n",
       "      <th>Survived</th>\n",
       "      <th>Pclass</th>\n",
       "      <th>Sex</th>\n",
       "      <th>Age</th>\n",
       "      <th>SibSp</th>\n",
       "      <th>Parch</th>\n",
       "      <th>Fare</th>\n",
       "    </tr>\n",
       "  </thead>\n",
       "  <tbody>\n",
       "    <tr>\n",
       "      <th>0</th>\n",
       "      <td>0</td>\n",
       "      <td>3</td>\n",
       "      <td>male</td>\n",
       "      <td>22.0</td>\n",
       "      <td>1</td>\n",
       "      <td>0</td>\n",
       "      <td>7.2500</td>\n",
       "    </tr>\n",
       "    <tr>\n",
       "      <th>1</th>\n",
       "      <td>1</td>\n",
       "      <td>1</td>\n",
       "      <td>female</td>\n",
       "      <td>38.0</td>\n",
       "      <td>1</td>\n",
       "      <td>0</td>\n",
       "      <td>71.2833</td>\n",
       "    </tr>\n",
       "    <tr>\n",
       "      <th>2</th>\n",
       "      <td>1</td>\n",
       "      <td>3</td>\n",
       "      <td>female</td>\n",
       "      <td>26.0</td>\n",
       "      <td>0</td>\n",
       "      <td>0</td>\n",
       "      <td>7.9250</td>\n",
       "    </tr>\n",
       "    <tr>\n",
       "      <th>3</th>\n",
       "      <td>1</td>\n",
       "      <td>1</td>\n",
       "      <td>female</td>\n",
       "      <td>35.0</td>\n",
       "      <td>1</td>\n",
       "      <td>0</td>\n",
       "      <td>53.1000</td>\n",
       "    </tr>\n",
       "    <tr>\n",
       "      <th>4</th>\n",
       "      <td>0</td>\n",
       "      <td>3</td>\n",
       "      <td>male</td>\n",
       "      <td>35.0</td>\n",
       "      <td>0</td>\n",
       "      <td>0</td>\n",
       "      <td>8.0500</td>\n",
       "    </tr>\n",
       "  </tbody>\n",
       "</table>\n",
       "</div>"
      ],
      "text/plain": [
       "   Survived  Pclass     Sex   Age  SibSp  Parch     Fare\n",
       "0         0       3    male  22.0      1      0   7.2500\n",
       "1         1       1  female  38.0      1      0  71.2833\n",
       "2         1       3  female  26.0      0      0   7.9250\n",
       "3         1       1  female  35.0      1      0  53.1000\n",
       "4         0       3    male  35.0      0      0   8.0500"
      ]
     },
     "execution_count": 10,
     "metadata": {},
     "output_type": "execute_result"
    }
   ],
   "source": [
    "titanic.head()"
   ]
  },
  {
   "cell_type": "code",
   "execution_count": 11,
   "metadata": {},
   "outputs": [
    {
     "data": {
      "text/plain": [
       "Survived    0\n",
       "Pclass      0\n",
       "Sex         0\n",
       "Age         0\n",
       "SibSp       0\n",
       "Parch       0\n",
       "Fare        0\n",
       "dtype: int64"
      ]
     },
     "execution_count": 11,
     "metadata": {},
     "output_type": "execute_result"
    }
   ],
   "source": [
    "titanic.isna().sum()"
   ]
  },
  {
   "cell_type": "code",
   "execution_count": 12,
   "metadata": {},
   "outputs": [],
   "source": [
    "from sklearn.preprocessing import LabelEncoder"
   ]
  },
  {
   "cell_type": "code",
   "execution_count": 13,
   "metadata": {},
   "outputs": [],
   "source": [
    "le = LabelEncoder()"
   ]
  },
  {
   "cell_type": "code",
   "execution_count": 14,
   "metadata": {},
   "outputs": [],
   "source": [
    "titanic['Sex'] = le.fit_transform(titanic['Sex'])"
   ]
  },
  {
   "cell_type": "code",
   "execution_count": 15,
   "metadata": {},
   "outputs": [
    {
     "data": {
      "text/html": [
       "<div>\n",
       "<style scoped>\n",
       "    .dataframe tbody tr th:only-of-type {\n",
       "        vertical-align: middle;\n",
       "    }\n",
       "\n",
       "    .dataframe tbody tr th {\n",
       "        vertical-align: top;\n",
       "    }\n",
       "\n",
       "    .dataframe thead th {\n",
       "        text-align: right;\n",
       "    }\n",
       "</style>\n",
       "<table border=\"1\" class=\"dataframe\">\n",
       "  <thead>\n",
       "    <tr style=\"text-align: right;\">\n",
       "      <th></th>\n",
       "      <th>Survived</th>\n",
       "      <th>Pclass</th>\n",
       "      <th>Sex</th>\n",
       "      <th>Age</th>\n",
       "      <th>SibSp</th>\n",
       "      <th>Parch</th>\n",
       "      <th>Fare</th>\n",
       "    </tr>\n",
       "  </thead>\n",
       "  <tbody>\n",
       "    <tr>\n",
       "      <th>0</th>\n",
       "      <td>0</td>\n",
       "      <td>3</td>\n",
       "      <td>1</td>\n",
       "      <td>22.0</td>\n",
       "      <td>1</td>\n",
       "      <td>0</td>\n",
       "      <td>7.2500</td>\n",
       "    </tr>\n",
       "    <tr>\n",
       "      <th>1</th>\n",
       "      <td>1</td>\n",
       "      <td>1</td>\n",
       "      <td>0</td>\n",
       "      <td>38.0</td>\n",
       "      <td>1</td>\n",
       "      <td>0</td>\n",
       "      <td>71.2833</td>\n",
       "    </tr>\n",
       "    <tr>\n",
       "      <th>2</th>\n",
       "      <td>1</td>\n",
       "      <td>3</td>\n",
       "      <td>0</td>\n",
       "      <td>26.0</td>\n",
       "      <td>0</td>\n",
       "      <td>0</td>\n",
       "      <td>7.9250</td>\n",
       "    </tr>\n",
       "    <tr>\n",
       "      <th>3</th>\n",
       "      <td>1</td>\n",
       "      <td>1</td>\n",
       "      <td>0</td>\n",
       "      <td>35.0</td>\n",
       "      <td>1</td>\n",
       "      <td>0</td>\n",
       "      <td>53.1000</td>\n",
       "    </tr>\n",
       "    <tr>\n",
       "      <th>4</th>\n",
       "      <td>0</td>\n",
       "      <td>3</td>\n",
       "      <td>1</td>\n",
       "      <td>35.0</td>\n",
       "      <td>0</td>\n",
       "      <td>0</td>\n",
       "      <td>8.0500</td>\n",
       "    </tr>\n",
       "  </tbody>\n",
       "</table>\n",
       "</div>"
      ],
      "text/plain": [
       "   Survived  Pclass  Sex   Age  SibSp  Parch     Fare\n",
       "0         0       3    1  22.0      1      0   7.2500\n",
       "1         1       1    0  38.0      1      0  71.2833\n",
       "2         1       3    0  26.0      0      0   7.9250\n",
       "3         1       1    0  35.0      1      0  53.1000\n",
       "4         0       3    1  35.0      0      0   8.0500"
      ]
     },
     "execution_count": 15,
     "metadata": {},
     "output_type": "execute_result"
    }
   ],
   "source": [
    "titanic.head()"
   ]
  },
  {
   "cell_type": "markdown",
   "metadata": {},
   "source": [
    "##### Data is Cleaned"
   ]
  },
  {
   "cell_type": "code",
   "execution_count": 16,
   "metadata": {},
   "outputs": [],
   "source": [
    "from sklearn.model_selection import train_test_split"
   ]
  },
  {
   "cell_type": "code",
   "execution_count": 20,
   "metadata": {},
   "outputs": [],
   "source": [
    "X_train,X_test,Y_train,Y_test = train_test_split(titanic.drop(columns= ['Survived']),titanic['Survived'],test_size=0.2,random_state=42)"
   ]
  },
  {
   "cell_type": "code",
   "execution_count": 21,
   "metadata": {},
   "outputs": [],
   "source": [
    "from sklearn.tree import DecisionTreeClassifier"
   ]
  },
  {
   "cell_type": "code",
   "execution_count": 22,
   "metadata": {},
   "outputs": [],
   "source": [
    "model = DecisionTreeClassifier(criterion='entropy')"
   ]
  },
  {
   "cell_type": "code",
   "execution_count": 24,
   "metadata": {},
   "outputs": [
    {
     "data": {
      "text/html": [
       "<style>#sk-container-id-1 {color: black;}#sk-container-id-1 pre{padding: 0;}#sk-container-id-1 div.sk-toggleable {background-color: white;}#sk-container-id-1 label.sk-toggleable__label {cursor: pointer;display: block;width: 100%;margin-bottom: 0;padding: 0.3em;box-sizing: border-box;text-align: center;}#sk-container-id-1 label.sk-toggleable__label-arrow:before {content: \"▸\";float: left;margin-right: 0.25em;color: #696969;}#sk-container-id-1 label.sk-toggleable__label-arrow:hover:before {color: black;}#sk-container-id-1 div.sk-estimator:hover label.sk-toggleable__label-arrow:before {color: black;}#sk-container-id-1 div.sk-toggleable__content {max-height: 0;max-width: 0;overflow: hidden;text-align: left;background-color: #f0f8ff;}#sk-container-id-1 div.sk-toggleable__content pre {margin: 0.2em;color: black;border-radius: 0.25em;background-color: #f0f8ff;}#sk-container-id-1 input.sk-toggleable__control:checked~div.sk-toggleable__content {max-height: 200px;max-width: 100%;overflow: auto;}#sk-container-id-1 input.sk-toggleable__control:checked~label.sk-toggleable__label-arrow:before {content: \"▾\";}#sk-container-id-1 div.sk-estimator input.sk-toggleable__control:checked~label.sk-toggleable__label {background-color: #d4ebff;}#sk-container-id-1 div.sk-label input.sk-toggleable__control:checked~label.sk-toggleable__label {background-color: #d4ebff;}#sk-container-id-1 input.sk-hidden--visually {border: 0;clip: rect(1px 1px 1px 1px);clip: rect(1px, 1px, 1px, 1px);height: 1px;margin: -1px;overflow: hidden;padding: 0;position: absolute;width: 1px;}#sk-container-id-1 div.sk-estimator {font-family: monospace;background-color: #f0f8ff;border: 1px dotted black;border-radius: 0.25em;box-sizing: border-box;margin-bottom: 0.5em;}#sk-container-id-1 div.sk-estimator:hover {background-color: #d4ebff;}#sk-container-id-1 div.sk-parallel-item::after {content: \"\";width: 100%;border-bottom: 1px solid gray;flex-grow: 1;}#sk-container-id-1 div.sk-label:hover label.sk-toggleable__label {background-color: #d4ebff;}#sk-container-id-1 div.sk-serial::before {content: \"\";position: absolute;border-left: 1px solid gray;box-sizing: border-box;top: 0;bottom: 0;left: 50%;z-index: 0;}#sk-container-id-1 div.sk-serial {display: flex;flex-direction: column;align-items: center;background-color: white;padding-right: 0.2em;padding-left: 0.2em;position: relative;}#sk-container-id-1 div.sk-item {position: relative;z-index: 1;}#sk-container-id-1 div.sk-parallel {display: flex;align-items: stretch;justify-content: center;background-color: white;position: relative;}#sk-container-id-1 div.sk-item::before, #sk-container-id-1 div.sk-parallel-item::before {content: \"\";position: absolute;border-left: 1px solid gray;box-sizing: border-box;top: 0;bottom: 0;left: 50%;z-index: -1;}#sk-container-id-1 div.sk-parallel-item {display: flex;flex-direction: column;z-index: 1;position: relative;background-color: white;}#sk-container-id-1 div.sk-parallel-item:first-child::after {align-self: flex-end;width: 50%;}#sk-container-id-1 div.sk-parallel-item:last-child::after {align-self: flex-start;width: 50%;}#sk-container-id-1 div.sk-parallel-item:only-child::after {width: 0;}#sk-container-id-1 div.sk-dashed-wrapped {border: 1px dashed gray;margin: 0 0.4em 0.5em 0.4em;box-sizing: border-box;padding-bottom: 0.4em;background-color: white;}#sk-container-id-1 div.sk-label label {font-family: monospace;font-weight: bold;display: inline-block;line-height: 1.2em;}#sk-container-id-1 div.sk-label-container {text-align: center;}#sk-container-id-1 div.sk-container {/* jupyter's `normalize.less` sets `[hidden] { display: none; }` but bootstrap.min.css set `[hidden] { display: none !important; }` so we also need the `!important` here to be able to override the default hidden behavior on the sphinx rendered scikit-learn.org. See: https://github.com/scikit-learn/scikit-learn/issues/21755 */display: inline-block !important;position: relative;}#sk-container-id-1 div.sk-text-repr-fallback {display: none;}</style><div id=\"sk-container-id-1\" class=\"sk-top-container\"><div class=\"sk-text-repr-fallback\"><pre>DecisionTreeClassifier(criterion=&#x27;entropy&#x27;)</pre><b>In a Jupyter environment, please rerun this cell to show the HTML representation or trust the notebook. <br />On GitHub, the HTML representation is unable to render, please try loading this page with nbviewer.org.</b></div><div class=\"sk-container\" hidden><div class=\"sk-item\"><div class=\"sk-estimator sk-toggleable\"><input class=\"sk-toggleable__control sk-hidden--visually\" id=\"sk-estimator-id-1\" type=\"checkbox\" checked><label for=\"sk-estimator-id-1\" class=\"sk-toggleable__label sk-toggleable__label-arrow\">DecisionTreeClassifier</label><div class=\"sk-toggleable__content\"><pre>DecisionTreeClassifier(criterion=&#x27;entropy&#x27;)</pre></div></div></div></div></div>"
      ],
      "text/plain": [
       "DecisionTreeClassifier(criterion='entropy')"
      ]
     },
     "execution_count": 24,
     "metadata": {},
     "output_type": "execute_result"
    }
   ],
   "source": [
    "model.fit(X_train,Y_train)"
   ]
  },
  {
   "cell_type": "code",
   "execution_count": 25,
   "metadata": {},
   "outputs": [],
   "source": [
    "Y_pred = model.predict(X_test)"
   ]
  },
  {
   "cell_type": "code",
   "execution_count": 26,
   "metadata": {},
   "outputs": [
    {
     "data": {
      "text/plain": [
       "array([0, 0, 0, 1, 1], dtype=int64)"
      ]
     },
     "execution_count": 26,
     "metadata": {},
     "output_type": "execute_result"
    }
   ],
   "source": [
    "Y_pred[:5]"
   ]
  },
  {
   "cell_type": "code",
   "execution_count": 27,
   "metadata": {},
   "outputs": [
    {
     "data": {
      "text/plain": [
       "709    1\n",
       "439    0\n",
       "840    0\n",
       "720    1\n",
       "39     1\n",
       "Name: Survived, dtype: int64"
      ]
     },
     "execution_count": 27,
     "metadata": {},
     "output_type": "execute_result"
    }
   ],
   "source": [
    "Y_test[:5]"
   ]
  },
  {
   "cell_type": "code",
   "execution_count": 28,
   "metadata": {},
   "outputs": [
    {
     "data": {
      "text/plain": [
       "0.770949720670391"
      ]
     },
     "execution_count": 28,
     "metadata": {},
     "output_type": "execute_result"
    }
   ],
   "source": [
    "model.score(X_test,Y_test)"
   ]
  },
  {
   "cell_type": "code",
   "execution_count": 30,
   "metadata": {},
   "outputs": [
    {
     "data": {
      "text/plain": [
       "0.9803370786516854"
      ]
     },
     "execution_count": 30,
     "metadata": {},
     "output_type": "execute_result"
    }
   ],
   "source": [
    "model.score(X_train,Y_train)"
   ]
  },
  {
   "cell_type": "code",
   "execution_count": 31,
   "metadata": {},
   "outputs": [
    {
     "data": {
      "text/plain": [
       "23"
      ]
     },
     "execution_count": 31,
     "metadata": {},
     "output_type": "execute_result"
    }
   ],
   "source": [
    "model.tree_.max_depth"
   ]
  },
  {
   "cell_type": "code",
   "execution_count": 32,
   "metadata": {},
   "outputs": [],
   "source": [
    "from sklearn import tree"
   ]
  },
  {
   "cell_type": "code",
   "execution_count": 33,
   "metadata": {},
   "outputs": [
    {
     "data": {
      "text/plain": [
       "[Text(0.34103414221218964, 0.9791666666666666, 'x[1] <= 0.5\\nentropy = 0.955\\nsamples = 712\\nvalue = [444, 268]'),\n",
       " Text(0.166196388261851, 0.9375, 'x[0] <= 2.5\\nentropy = 0.829\\nsamples = 245\\nvalue = [64, 181]'),\n",
       " Text(0.04740406320541761, 0.8958333333333334, 'x[2] <= 2.5\\nentropy = 0.235\\nsamples = 130\\nvalue = [5, 125]'),\n",
       " Text(0.01805869074492099, 0.8541666666666666, 'x[4] <= 1.5\\nentropy = 1.0\\nsamples = 2\\nvalue = [1, 1]'),\n",
       " Text(0.009029345372460496, 0.8125, 'entropy = 0.0\\nsamples = 1\\nvalue = [0, 1]'),\n",
       " Text(0.02708803611738149, 0.8125, 'entropy = 0.0\\nsamples = 1\\nvalue = [1, 0]'),\n",
       " Text(0.07674943566591422, 0.8541666666666666, 'x[2] <= 27.5\\nentropy = 0.201\\nsamples = 128\\nvalue = [4, 124]'),\n",
       " Text(0.045146726862302484, 0.8125, 'x[2] <= 23.5\\nentropy = 0.342\\nsamples = 47\\nvalue = [3, 44]'),\n",
       " Text(0.03611738148984198, 0.7708333333333334, 'entropy = 0.0\\nsamples = 29\\nvalue = [0, 29]'),\n",
       " Text(0.05417607223476298, 0.7708333333333334, 'x[2] <= 24.5\\nentropy = 0.65\\nsamples = 18\\nvalue = [3, 15]'),\n",
       " Text(0.03611738148984198, 0.7291666666666666, 'x[5] <= 13.75\\nentropy = 0.414\\nsamples = 12\\nvalue = [1, 11]'),\n",
       " Text(0.02708803611738149, 0.6875, 'entropy = 1.0\\nsamples = 2\\nvalue = [1, 1]'),\n",
       " Text(0.045146726862302484, 0.6875, 'entropy = 0.0\\nsamples = 10\\nvalue = [0, 10]'),\n",
       " Text(0.07223476297968397, 0.7291666666666666, 'x[0] <= 1.5\\nentropy = 0.918\\nsamples = 6\\nvalue = [2, 4]'),\n",
       " Text(0.06320541760722348, 0.6875, 'entropy = 0.0\\nsamples = 1\\nvalue = [1, 0]'),\n",
       " Text(0.08126410835214447, 0.6875, 'x[5] <= 17.429\\nentropy = 0.722\\nsamples = 5\\nvalue = [1, 4]'),\n",
       " Text(0.07223476297968397, 0.6458333333333334, 'entropy = 0.0\\nsamples = 2\\nvalue = [0, 2]'),\n",
       " Text(0.09029345372460497, 0.6458333333333334, 'x[4] <= 0.5\\nentropy = 0.918\\nsamples = 3\\nvalue = [1, 2]'),\n",
       " Text(0.08126410835214447, 0.6041666666666666, 'entropy = 0.0\\nsamples = 1\\nvalue = [1, 0]'),\n",
       " Text(0.09932279909706546, 0.6041666666666666, 'entropy = 0.0\\nsamples = 2\\nvalue = [0, 2]'),\n",
       " Text(0.10835214446952596, 0.8125, 'x[2] <= 49.5\\nentropy = 0.096\\nsamples = 81\\nvalue = [1, 80]'),\n",
       " Text(0.09932279909706546, 0.7708333333333334, 'entropy = 0.0\\nsamples = 65\\nvalue = [0, 65]'),\n",
       " Text(0.11738148984198646, 0.7708333333333334, 'x[2] <= 50.5\\nentropy = 0.337\\nsamples = 16\\nvalue = [1, 15]'),\n",
       " Text(0.10835214446952596, 0.7291666666666666, 'x[0] <= 1.5\\nentropy = 0.811\\nsamples = 4\\nvalue = [1, 3]'),\n",
       " Text(0.09932279909706546, 0.6875, 'entropy = 0.0\\nsamples = 1\\nvalue = [1, 0]'),\n",
       " Text(0.11738148984198646, 0.6875, 'entropy = 0.0\\nsamples = 3\\nvalue = [0, 3]'),\n",
       " Text(0.12641083521444696, 0.7291666666666666, 'entropy = 0.0\\nsamples = 12\\nvalue = [0, 12]'),\n",
       " Text(0.2849887133182844, 0.8958333333333334, 'x[5] <= 23.35\\nentropy = 1.0\\nsamples = 115\\nvalue = [59, 56]'),\n",
       " Text(0.208803611738149, 0.8541666666666666, 'x[5] <= 7.744\\nentropy = 0.979\\nsamples = 94\\nvalue = [39, 55]'),\n",
       " Text(0.14446952595936793, 0.8125, 'x[5] <= 6.987\\nentropy = 0.619\\nsamples = 13\\nvalue = [2, 11]'),\n",
       " Text(0.13544018058690746, 0.7708333333333334, 'entropy = 0.0\\nsamples = 1\\nvalue = [1, 0]'),\n",
       " Text(0.15349887133182843, 0.7708333333333334, 'x[5] <= 7.59\\nentropy = 0.414\\nsamples = 12\\nvalue = [1, 11]'),\n",
       " Text(0.14446952595936793, 0.7291666666666666, 'entropy = 0.0\\nsamples = 7\\nvalue = [0, 7]'),\n",
       " Text(0.16252821670428894, 0.7291666666666666, 'x[5] <= 7.64\\nentropy = 0.722\\nsamples = 5\\nvalue = [1, 4]'),\n",
       " Text(0.15349887133182843, 0.6875, 'entropy = 0.0\\nsamples = 1\\nvalue = [1, 0]'),\n",
       " Text(0.17155756207674944, 0.6875, 'entropy = 0.0\\nsamples = 4\\nvalue = [0, 4]'),\n",
       " Text(0.27313769751693, 0.8125, 'x[5] <= 15.373\\nentropy = 0.995\\nsamples = 81\\nvalue = [37, 44]'),\n",
       " Text(0.22121896162528218, 0.7708333333333334, 'x[5] <= 13.908\\nentropy = 0.992\\nsamples = 56\\nvalue = [31, 25]'),\n",
       " Text(0.1986455981941309, 0.7291666666666666, 'x[5] <= 10.825\\nentropy = 1.0\\nsamples = 48\\nvalue = [24, 24]'),\n",
       " Text(0.18961625282167044, 0.6875, 'x[5] <= 8.04\\nentropy = 0.985\\nsamples = 42\\nvalue = [24, 18]'),\n",
       " Text(0.15349887133182843, 0.6458333333333334, 'x[2] <= 25.5\\nentropy = 0.98\\nsamples = 24\\nvalue = [10, 14]'),\n",
       " Text(0.13544018058690746, 0.6041666666666666, 'x[2] <= 22.5\\nentropy = 0.971\\nsamples = 10\\nvalue = [6, 4]'),\n",
       " Text(0.12641083521444696, 0.5625, 'x[5] <= 7.89\\nentropy = 0.985\\nsamples = 7\\nvalue = [3, 4]'),\n",
       " Text(0.11738148984198646, 0.5208333333333334, 'x[2] <= 21.5\\nentropy = 0.971\\nsamples = 5\\nvalue = [3, 2]'),\n",
       " Text(0.10835214446952596, 0.4791666666666667, 'entropy = 0.0\\nsamples = 3\\nvalue = [3, 0]'),\n",
       " Text(0.12641083521444696, 0.4791666666666667, 'entropy = 0.0\\nsamples = 2\\nvalue = [0, 2]'),\n",
       " Text(0.13544018058690746, 0.5208333333333334, 'entropy = 0.0\\nsamples = 2\\nvalue = [0, 2]'),\n",
       " Text(0.14446952595936793, 0.5625, 'entropy = 0.0\\nsamples = 3\\nvalue = [3, 0]'),\n",
       " Text(0.17155756207674944, 0.6041666666666666, 'x[4] <= 1.0\\nentropy = 0.863\\nsamples = 14\\nvalue = [4, 10]'),\n",
       " Text(0.16252821670428894, 0.5625, 'x[2] <= 37.35\\nentropy = 0.779\\nsamples = 13\\nvalue = [3, 10]'),\n",
       " Text(0.15349887133182843, 0.5208333333333334, 'x[2] <= 27.5\\nentropy = 0.65\\nsamples = 12\\nvalue = [2, 10]'),\n",
       " Text(0.14446952595936793, 0.4791666666666667, 'entropy = 0.0\\nsamples = 3\\nvalue = [0, 3]'),\n",
       " Text(0.16252821670428894, 0.4791666666666667, 'x[5] <= 7.888\\nentropy = 0.764\\nsamples = 9\\nvalue = [2, 7]'),\n",
       " Text(0.15349887133182843, 0.4375, 'x[5] <= 7.815\\nentropy = 0.544\\nsamples = 8\\nvalue = [1, 7]'),\n",
       " Text(0.14446952595936793, 0.3958333333333333, 'entropy = 0.65\\nsamples = 6\\nvalue = [1, 5]'),\n",
       " Text(0.16252821670428894, 0.3958333333333333, 'entropy = 0.0\\nsamples = 2\\nvalue = [0, 2]'),\n",
       " Text(0.17155756207674944, 0.4375, 'entropy = 0.0\\nsamples = 1\\nvalue = [1, 0]'),\n",
       " Text(0.17155756207674944, 0.5208333333333334, 'entropy = 0.0\\nsamples = 1\\nvalue = [1, 0]'),\n",
       " Text(0.18058690744920994, 0.5625, 'entropy = 0.0\\nsamples = 1\\nvalue = [1, 0]'),\n",
       " Text(0.22573363431151242, 0.6458333333333334, 'x[2] <= 19.0\\nentropy = 0.764\\nsamples = 18\\nvalue = [14, 4]'),\n",
       " Text(0.2076749435665914, 0.6041666666666666, 'x[5] <= 10.152\\nentropy = 0.918\\nsamples = 3\\nvalue = [1, 2]'),\n",
       " Text(0.1986455981941309, 0.5625, 'entropy = 0.0\\nsamples = 2\\nvalue = [0, 2]'),\n",
       " Text(0.21670428893905191, 0.5625, 'entropy = 0.0\\nsamples = 1\\nvalue = [1, 0]'),\n",
       " Text(0.24379232505643342, 0.6041666666666666, 'x[2] <= 30.5\\nentropy = 0.567\\nsamples = 15\\nvalue = [13, 2]'),\n",
       " Text(0.23476297968397292, 0.5625, 'entropy = 0.0\\nsamples = 11\\nvalue = [11, 0]'),\n",
       " Text(0.2528216704288939, 0.5625, 'x[3] <= 0.5\\nentropy = 1.0\\nsamples = 4\\nvalue = [2, 2]'),\n",
       " Text(0.24379232505643342, 0.5208333333333334, 'x[5] <= 9.135\\nentropy = 0.918\\nsamples = 3\\nvalue = [1, 2]'),\n",
       " Text(0.23476297968397292, 0.4791666666666667, 'entropy = 0.0\\nsamples = 1\\nvalue = [0, 1]'),\n",
       " Text(0.2528216704288939, 0.4791666666666667, 'x[2] <= 50.0\\nentropy = 1.0\\nsamples = 2\\nvalue = [1, 1]'),\n",
       " Text(0.24379232505643342, 0.4375, 'entropy = 0.0\\nsamples = 1\\nvalue = [1, 0]'),\n",
       " Text(0.2618510158013544, 0.4375, 'entropy = 0.0\\nsamples = 1\\nvalue = [0, 1]'),\n",
       " Text(0.2618510158013544, 0.5208333333333334, 'entropy = 0.0\\nsamples = 1\\nvalue = [1, 0]'),\n",
       " Text(0.2076749435665914, 0.6875, 'entropy = 0.0\\nsamples = 6\\nvalue = [0, 6]'),\n",
       " Text(0.24379232505643342, 0.7291666666666666, 'x[4] <= 1.5\\nentropy = 0.544\\nsamples = 8\\nvalue = [7, 1]'),\n",
       " Text(0.23476297968397292, 0.6875, 'entropy = 0.0\\nsamples = 6\\nvalue = [6, 0]'),\n",
       " Text(0.2528216704288939, 0.6875, 'x[2] <= 29.35\\nentropy = 1.0\\nsamples = 2\\nvalue = [1, 1]'),\n",
       " Text(0.24379232505643342, 0.6458333333333334, 'entropy = 0.0\\nsamples = 1\\nvalue = [0, 1]'),\n",
       " Text(0.2618510158013544, 0.6458333333333334, 'entropy = 0.0\\nsamples = 1\\nvalue = [1, 0]'),\n",
       " Text(0.32505643340857787, 0.7708333333333334, 'x[2] <= 29.35\\nentropy = 0.795\\nsamples = 25\\nvalue = [6, 19]'),\n",
       " Text(0.30699774266365687, 0.7291666666666666, 'x[3] <= 2.5\\nentropy = 0.98\\nsamples = 12\\nvalue = [5, 7]'),\n",
       " Text(0.2979683972911964, 0.6875, 'x[2] <= 25.0\\nentropy = 0.881\\nsamples = 10\\nvalue = [3, 7]'),\n",
       " Text(0.28893905191873587, 0.6458333333333334, 'x[4] <= 0.5\\nentropy = 0.544\\nsamples = 8\\nvalue = [1, 7]'),\n",
       " Text(0.2799097065462754, 0.6041666666666666, 'x[5] <= 16.925\\nentropy = 1.0\\nsamples = 2\\nvalue = [1, 1]'),\n",
       " Text(0.2708803611738149, 0.5625, 'entropy = 0.0\\nsamples = 1\\nvalue = [0, 1]'),\n",
       " Text(0.28893905191873587, 0.5625, 'entropy = 0.0\\nsamples = 1\\nvalue = [1, 0]'),\n",
       " Text(0.2979683972911964, 0.6041666666666666, 'entropy = 0.0\\nsamples = 6\\nvalue = [0, 6]'),\n",
       " Text(0.30699774266365687, 0.6458333333333334, 'entropy = 0.0\\nsamples = 2\\nvalue = [2, 0]'),\n",
       " Text(0.3160270880361174, 0.6875, 'entropy = 0.0\\nsamples = 2\\nvalue = [2, 0]'),\n",
       " Text(0.3431151241534989, 0.7291666666666666, 'x[2] <= 30.35\\nentropy = 0.391\\nsamples = 13\\nvalue = [1, 12]'),\n",
       " Text(0.3340857787810384, 0.6875, 'entropy = 0.0\\nsamples = 8\\nvalue = [0, 8]'),\n",
       " Text(0.35214446952595935, 0.6875, 'x[2] <= 32.0\\nentropy = 0.722\\nsamples = 5\\nvalue = [1, 4]'),\n",
       " Text(0.3431151241534989, 0.6458333333333334, 'x[4] <= 0.5\\nentropy = 1.0\\nsamples = 2\\nvalue = [1, 1]'),\n",
       " Text(0.3340857787810384, 0.6041666666666666, 'entropy = 0.0\\nsamples = 1\\nvalue = [1, 0]'),\n",
       " Text(0.35214446952595935, 0.6041666666666666, 'entropy = 0.0\\nsamples = 1\\nvalue = [0, 1]'),\n",
       " Text(0.3611738148984199, 0.6458333333333334, 'entropy = 0.0\\nsamples = 3\\nvalue = [0, 3]'),\n",
       " Text(0.3611738148984199, 0.8541666666666666, 'x[2] <= 5.5\\nentropy = 0.276\\nsamples = 21\\nvalue = [20, 1]'),\n",
       " Text(0.35214446952595935, 0.8125, 'x[2] <= 3.5\\nentropy = 0.918\\nsamples = 3\\nvalue = [2, 1]'),\n",
       " Text(0.3431151241534989, 0.7708333333333334, 'entropy = 0.0\\nsamples = 2\\nvalue = [2, 0]'),\n",
       " Text(0.3611738148984199, 0.7708333333333334, 'entropy = 0.0\\nsamples = 1\\nvalue = [0, 1]'),\n",
       " Text(0.37020316027088035, 0.8125, 'entropy = 0.0\\nsamples = 18\\nvalue = [18, 0]'),\n",
       " Text(0.5158718961625283, 0.9375, 'x[2] <= 6.5\\nentropy = 0.694\\nsamples = 467\\nvalue = [380, 87]'),\n",
       " Text(0.38826185101580135, 0.8958333333333334, 'x[3] <= 2.5\\nentropy = 0.902\\nsamples = 22\\nvalue = [7, 15]'),\n",
       " Text(0.3792325056433409, 0.8541666666666666, 'entropy = 0.0\\nsamples = 14\\nvalue = [0, 14]'),\n",
       " Text(0.3972911963882618, 0.8541666666666666, 'x[2] <= 2.5\\nentropy = 0.544\\nsamples = 8\\nvalue = [7, 1]'),\n",
       " Text(0.38826185101580135, 0.8125, 'entropy = 0.0\\nsamples = 5\\nvalue = [5, 0]'),\n",
       " Text(0.40632054176072235, 0.8125, 'x[5] <= 31.331\\nentropy = 0.918\\nsamples = 3\\nvalue = [2, 1]'),\n",
       " Text(0.3972911963882618, 0.7708333333333334, 'entropy = 0.0\\nsamples = 2\\nvalue = [2, 0]'),\n",
       " Text(0.4153498871331828, 0.7708333333333334, 'entropy = 0.0\\nsamples = 1\\nvalue = [0, 1]'),\n",
       " Text(0.6434819413092551, 0.8958333333333334, 'x[0] <= 1.5\\nentropy = 0.639\\nsamples = 445\\nvalue = [373, 72]'),\n",
       " Text(0.43340857787810383, 0.8541666666666666, 'x[5] <= 26.144\\nentropy = 0.915\\nsamples = 91\\nvalue = [61, 30]'),\n",
       " Text(0.42437923250564336, 0.8125, 'entropy = 0.0\\nsamples = 7\\nvalue = [7, 0]'),\n",
       " Text(0.44243792325056436, 0.8125, 'x[5] <= 26.419\\nentropy = 0.94\\nsamples = 84\\nvalue = [54, 30]'),\n",
       " Text(0.43340857787810383, 0.7708333333333334, 'entropy = 0.0\\nsamples = 2\\nvalue = [0, 2]'),\n",
       " Text(0.45146726862302483, 0.7708333333333334, 'x[5] <= 387.665\\nentropy = 0.926\\nsamples = 82\\nvalue = [54, 28]'),\n",
       " Text(0.44243792325056436, 0.7291666666666666, 'x[5] <= 134.642\\nentropy = 0.91\\nsamples = 80\\nvalue = [54, 26]'),\n",
       " Text(0.43340857787810383, 0.6875, 'x[5] <= 115.442\\nentropy = 0.939\\nsamples = 73\\nvalue = [47, 26]'),\n",
       " Text(0.42437923250564336, 0.6458333333333334, 'x[2] <= 27.5\\nentropy = 0.923\\nsamples = 71\\nvalue = [47, 24]'),\n",
       " Text(0.40632054176072235, 0.6041666666666666, 'x[2] <= 23.0\\nentropy = 0.918\\nsamples = 9\\nvalue = [3, 6]'),\n",
       " Text(0.3972911963882618, 0.5625, 'x[4] <= 1.5\\nentropy = 0.811\\nsamples = 4\\nvalue = [3, 1]'),\n",
       " Text(0.38826185101580135, 0.5208333333333334, 'entropy = 0.0\\nsamples = 3\\nvalue = [3, 0]'),\n",
       " Text(0.40632054176072235, 0.5208333333333334, 'entropy = 0.0\\nsamples = 1\\nvalue = [0, 1]'),\n",
       " Text(0.4153498871331828, 0.5625, 'entropy = 0.0\\nsamples = 5\\nvalue = [0, 5]'),\n",
       " Text(0.44243792325056436, 0.6041666666666666, 'x[2] <= 75.0\\nentropy = 0.869\\nsamples = 62\\nvalue = [44, 18]'),\n",
       " Text(0.43340857787810383, 0.5625, 'x[2] <= 60.5\\nentropy = 0.854\\nsamples = 61\\nvalue = [44, 17]'),\n",
       " Text(0.42437923250564336, 0.5208333333333334, 'x[5] <= 37.55\\nentropy = 0.886\\nsamples = 56\\nvalue = [39, 17]'),\n",
       " Text(0.3905191873589165, 0.4791666666666667, 'x[2] <= 57.0\\nentropy = 0.975\\nsamples = 27\\nvalue = [16, 11]'),\n",
       " Text(0.38148984198645597, 0.4375, 'x[2] <= 28.5\\nentropy = 0.99\\nsamples = 25\\nvalue = [14, 11]'),\n",
       " Text(0.3724604966139955, 0.3958333333333333, 'entropy = 0.0\\nsamples = 1\\nvalue = [0, 1]'),\n",
       " Text(0.3905191873589165, 0.3958333333333333, 'x[2] <= 47.5\\nentropy = 0.98\\nsamples = 24\\nvalue = [14, 10]'),\n",
       " Text(0.36794582392776526, 0.3541666666666667, 'x[5] <= 29.1\\nentropy = 0.918\\nsamples = 18\\nvalue = [12, 6]'),\n",
       " Text(0.34988713318284426, 0.3125, 'x[5] <= 27.135\\nentropy = 0.592\\nsamples = 7\\nvalue = [6, 1]'),\n",
       " Text(0.34085778781038373, 0.2708333333333333, 'x[2] <= 37.35\\nentropy = 0.918\\nsamples = 3\\nvalue = [2, 1]'),\n",
       " Text(0.33182844243792325, 0.22916666666666666, 'entropy = 0.0\\nsamples = 1\\nvalue = [1, 0]'),\n",
       " Text(0.34988713318284426, 0.22916666666666666, 'entropy = 1.0\\nsamples = 2\\nvalue = [1, 1]'),\n",
       " Text(0.35891647855530473, 0.2708333333333333, 'entropy = 0.0\\nsamples = 4\\nvalue = [4, 0]'),\n",
       " Text(0.3860045146726862, 0.3125, 'x[2] <= 34.5\\nentropy = 0.994\\nsamples = 11\\nvalue = [6, 5]'),\n",
       " Text(0.37697516930022573, 0.2708333333333333, 'x[2] <= 29.35\\nentropy = 0.954\\nsamples = 8\\nvalue = [3, 5]'),\n",
       " Text(0.36794582392776526, 0.22916666666666666, 'entropy = 0.0\\nsamples = 1\\nvalue = [1, 0]'),\n",
       " Text(0.3860045146726862, 0.22916666666666666, 'x[5] <= 30.75\\nentropy = 0.863\\nsamples = 7\\nvalue = [2, 5]'),\n",
       " Text(0.37697516930022573, 0.1875, 'entropy = 0.0\\nsamples = 4\\nvalue = [0, 4]'),\n",
       " Text(0.39503386004514673, 0.1875, 'x[5] <= 35.25\\nentropy = 0.918\\nsamples = 3\\nvalue = [2, 1]'),\n",
       " Text(0.3860045146726862, 0.14583333333333334, 'entropy = 0.0\\nsamples = 2\\nvalue = [2, 0]'),\n",
       " Text(0.4040632054176072, 0.14583333333333334, 'entropy = 0.0\\nsamples = 1\\nvalue = [0, 1]'),\n",
       " Text(0.39503386004514673, 0.2708333333333333, 'entropy = 0.0\\nsamples = 3\\nvalue = [3, 0]'),\n",
       " Text(0.41309255079006774, 0.3541666666666667, 'x[2] <= 53.5\\nentropy = 0.918\\nsamples = 6\\nvalue = [2, 4]'),\n",
       " Text(0.4040632054176072, 0.3125, 'entropy = 0.0\\nsamples = 3\\nvalue = [0, 3]'),\n",
       " Text(0.4221218961625282, 0.3125, 'x[5] <= 33.0\\nentropy = 0.918\\nsamples = 3\\nvalue = [2, 1]'),\n",
       " Text(0.41309255079006774, 0.2708333333333333, 'entropy = 0.0\\nsamples = 2\\nvalue = [2, 0]'),\n",
       " Text(0.43115124153498874, 0.2708333333333333, 'entropy = 0.0\\nsamples = 1\\nvalue = [0, 1]'),\n",
       " Text(0.39954853273137697, 0.4375, 'entropy = 0.0\\nsamples = 2\\nvalue = [2, 0]'),\n",
       " Text(0.4582392776523702, 0.4791666666666667, 'x[3] <= 0.5\\nentropy = 0.736\\nsamples = 29\\nvalue = [23, 6]'),\n",
       " Text(0.4492099322799097, 0.4375, 'entropy = 0.0\\nsamples = 11\\nvalue = [11, 0]'),\n",
       " Text(0.4672686230248307, 0.4375, 'x[2] <= 56.0\\nentropy = 0.918\\nsamples = 18\\nvalue = [12, 6]'),\n",
       " Text(0.4582392776523702, 0.3958333333333333, 'x[2] <= 49.5\\nentropy = 0.874\\nsamples = 17\\nvalue = [12, 5]'),\n",
       " Text(0.4492099322799097, 0.3541666666666667, 'x[2] <= 30.0\\nentropy = 0.94\\nsamples = 14\\nvalue = [9, 5]'),\n",
       " Text(0.4401805869074492, 0.3125, 'entropy = 0.0\\nsamples = 2\\nvalue = [2, 0]'),\n",
       " Text(0.4582392776523702, 0.3125, 'x[5] <= 52.277\\nentropy = 0.98\\nsamples = 12\\nvalue = [7, 5]'),\n",
       " Text(0.4492099322799097, 0.2708333333333333, 'entropy = 0.0\\nsamples = 2\\nvalue = [2, 0]'),\n",
       " Text(0.4672686230248307, 0.2708333333333333, 'x[5] <= 59.087\\nentropy = 1.0\\nsamples = 10\\nvalue = [5, 5]'),\n",
       " Text(0.4582392776523702, 0.22916666666666666, 'entropy = 0.0\\nsamples = 2\\nvalue = [0, 2]'),\n",
       " Text(0.4762979683972912, 0.22916666666666666, 'x[2] <= 47.0\\nentropy = 0.954\\nsamples = 8\\nvalue = [5, 3]'),\n",
       " Text(0.4582392776523702, 0.1875, 'x[5] <= 86.737\\nentropy = 0.722\\nsamples = 5\\nvalue = [4, 1]'),\n",
       " Text(0.4492099322799097, 0.14583333333333334, 'entropy = 0.0\\nsamples = 3\\nvalue = [3, 0]'),\n",
       " Text(0.4672686230248307, 0.14583333333333334, 'x[3] <= 1.5\\nentropy = 1.0\\nsamples = 2\\nvalue = [1, 1]'),\n",
       " Text(0.4582392776523702, 0.10416666666666667, 'entropy = 0.0\\nsamples = 1\\nvalue = [0, 1]'),\n",
       " Text(0.4762979683972912, 0.10416666666666667, 'entropy = 0.0\\nsamples = 1\\nvalue = [1, 0]'),\n",
       " Text(0.49435665914221216, 0.1875, 'x[5] <= 99.994\\nentropy = 0.918\\nsamples = 3\\nvalue = [1, 2]'),\n",
       " Text(0.4853273137697517, 0.14583333333333334, 'entropy = 0.0\\nsamples = 2\\nvalue = [0, 2]'),\n",
       " Text(0.5033860045146726, 0.14583333333333334, 'entropy = 0.0\\nsamples = 1\\nvalue = [1, 0]'),\n",
       " Text(0.4672686230248307, 0.3541666666666667, 'entropy = 0.0\\nsamples = 3\\nvalue = [3, 0]'),\n",
       " Text(0.4762979683972912, 0.3958333333333333, 'entropy = 0.0\\nsamples = 1\\nvalue = [0, 1]'),\n",
       " Text(0.44243792325056436, 0.5208333333333334, 'entropy = 0.0\\nsamples = 5\\nvalue = [5, 0]'),\n",
       " Text(0.45146726862302483, 0.5625, 'entropy = 0.0\\nsamples = 1\\nvalue = [0, 1]'),\n",
       " Text(0.44243792325056436, 0.6458333333333334, 'entropy = 0.0\\nsamples = 2\\nvalue = [0, 2]'),\n",
       " Text(0.45146726862302483, 0.6875, 'entropy = 0.0\\nsamples = 7\\nvalue = [7, 0]'),\n",
       " Text(0.4604966139954853, 0.7291666666666666, 'entropy = 0.0\\nsamples = 2\\nvalue = [0, 2]'),\n",
       " Text(0.8535553047404063, 0.8541666666666666, 'x[2] <= 32.25\\nentropy = 0.525\\nsamples = 354\\nvalue = [312, 42]'),\n",
       " Text(0.7567720090293454, 0.8125, 'x[2] <= 31.5\\nentropy = 0.585\\nsamples = 264\\nvalue = [227, 37]'),\n",
       " Text(0.6309255079006773, 0.7708333333333334, 'x[3] <= 2.5\\nentropy = 0.539\\nsamples = 251\\nvalue = [220, 31]'),\n",
       " Text(0.6218961625282167, 0.7291666666666666, 'x[2] <= 10.0\\nentropy = 0.558\\nsamples = 238\\nvalue = [207, 31]'),\n",
       " Text(0.6128668171557562, 0.6875, 'entropy = 0.0\\nsamples = 2\\nvalue = [0, 2]'),\n",
       " Text(0.6309255079006773, 0.6875, 'x[0] <= 2.5\\nentropy = 0.538\\nsamples = 236\\nvalue = [207, 29]'),\n",
       " Text(0.5395033860045146, 0.6458333333333334, 'x[5] <= 14.454\\nentropy = 0.348\\nsamples = 46\\nvalue = [43, 3]'),\n",
       " Text(0.5304740406320542, 0.6041666666666666, 'x[5] <= 13.681\\nentropy = 0.459\\nsamples = 31\\nvalue = [28, 3]'),\n",
       " Text(0.5214446952595937, 0.5625, 'x[5] <= 5.25\\nentropy = 0.353\\nsamples = 30\\nvalue = [28, 2]'),\n",
       " Text(0.5124153498871332, 0.5208333333333334, 'entropy = 0.0\\nsamples = 5\\nvalue = [5, 0]'),\n",
       " Text(0.5304740406320542, 0.5208333333333334, 'x[2] <= 29.35\\nentropy = 0.402\\nsamples = 25\\nvalue = [23, 2]'),\n",
       " Text(0.5124153498871332, 0.4791666666666667, 'x[2] <= 20.0\\nentropy = 0.276\\nsamples = 21\\nvalue = [20, 1]'),\n",
       " Text(0.5033860045146726, 0.4375, 'x[5] <= 11.0\\nentropy = 0.592\\nsamples = 7\\nvalue = [6, 1]'),\n",
       " Text(0.49435665914221216, 0.3958333333333333, 'x[2] <= 17.5\\nentropy = 0.918\\nsamples = 3\\nvalue = [2, 1]'),\n",
       " Text(0.4853273137697517, 0.3541666666666667, 'entropy = 0.0\\nsamples = 1\\nvalue = [1, 0]'),\n",
       " Text(0.5033860045146726, 0.3541666666666667, 'entropy = 1.0\\nsamples = 2\\nvalue = [1, 1]'),\n",
       " Text(0.5124153498871332, 0.3958333333333333, 'entropy = 0.0\\nsamples = 4\\nvalue = [4, 0]'),\n",
       " Text(0.5214446952595937, 0.4375, 'entropy = 0.0\\nsamples = 14\\nvalue = [14, 0]'),\n",
       " Text(0.5485327313769752, 0.4791666666666667, 'x[2] <= 29.85\\nentropy = 0.811\\nsamples = 4\\nvalue = [3, 1]'),\n",
       " Text(0.5395033860045146, 0.4375, 'entropy = 0.0\\nsamples = 1\\nvalue = [0, 1]'),\n",
       " Text(0.5575620767494357, 0.4375, 'entropy = 0.0\\nsamples = 3\\nvalue = [3, 0]'),\n",
       " Text(0.5395033860045146, 0.5625, 'entropy = 0.0\\nsamples = 1\\nvalue = [0, 1]'),\n",
       " Text(0.5485327313769752, 0.6041666666666666, 'entropy = 0.0\\nsamples = 15\\nvalue = [15, 0]'),\n",
       " Text(0.7223476297968398, 0.6458333333333334, 'x[2] <= 29.35\\nentropy = 0.576\\nsamples = 190\\nvalue = [164, 26]'),\n",
       " Text(0.6410835214446953, 0.6041666666666666, 'x[2] <= 28.75\\nentropy = 0.667\\nsamples = 109\\nvalue = [90, 19]'),\n",
       " Text(0.6230248306997742, 0.5625, 'x[2] <= 27.5\\nentropy = 0.619\\nsamples = 104\\nvalue = [88, 16]'),\n",
       " Text(0.6139954853273137, 0.5208333333333334, 'x[2] <= 26.5\\nentropy = 0.662\\nsamples = 93\\nvalue = [77, 16]'),\n",
       " Text(0.6049661399548533, 0.4791666666666667, 'x[5] <= 40.323\\nentropy = 0.596\\nsamples = 90\\nvalue = [77, 13]'),\n",
       " Text(0.5959367945823928, 0.4375, 'x[5] <= 7.24\\nentropy = 0.571\\nsamples = 89\\nvalue = [77, 12]'),\n",
       " Text(0.5304740406320542, 0.3958333333333333, 'x[2] <= 19.5\\nentropy = 0.811\\nsamples = 16\\nvalue = [12, 4]'),\n",
       " Text(0.5214446952595937, 0.3541666666666667, 'entropy = 0.0\\nsamples = 5\\nvalue = [5, 0]'),\n",
       " Text(0.5395033860045146, 0.3541666666666667, 'x[5] <= 7.133\\nentropy = 0.946\\nsamples = 11\\nvalue = [7, 4]'),\n",
       " Text(0.5214446952595937, 0.3125, 'x[5] <= 2.006\\nentropy = 0.65\\nsamples = 6\\nvalue = [5, 1]'),\n",
       " Text(0.5124153498871332, 0.2708333333333333, 'entropy = 0.0\\nsamples = 1\\nvalue = [0, 1]'),\n",
       " Text(0.5304740406320542, 0.2708333333333333, 'entropy = 0.0\\nsamples = 5\\nvalue = [5, 0]'),\n",
       " Text(0.5575620767494357, 0.3125, 'x[2] <= 24.5\\nentropy = 0.971\\nsamples = 5\\nvalue = [2, 3]'),\n",
       " Text(0.5485327313769752, 0.2708333333333333, 'x[5] <= 7.227\\nentropy = 0.811\\nsamples = 4\\nvalue = [1, 3]'),\n",
       " Text(0.5395033860045146, 0.22916666666666666, 'entropy = 0.0\\nsamples = 2\\nvalue = [0, 2]'),\n",
       " Text(0.5575620767494357, 0.22916666666666666, 'x[2] <= 21.0\\nentropy = 1.0\\nsamples = 2\\nvalue = [1, 1]'),\n",
       " Text(0.5485327313769752, 0.1875, 'entropy = 0.0\\nsamples = 1\\nvalue = [0, 1]'),\n",
       " Text(0.5665914221218962, 0.1875, 'entropy = 0.0\\nsamples = 1\\nvalue = [1, 0]'),\n",
       " Text(0.5665914221218962, 0.2708333333333333, 'entropy = 0.0\\nsamples = 1\\nvalue = [1, 0]'),\n",
       " Text(0.6613995485327314, 0.3958333333333333, 'x[3] <= 0.5\\nentropy = 0.499\\nsamples = 73\\nvalue = [65, 8]'),\n",
       " Text(0.6297968397291196, 0.3541666666666667, 'x[5] <= 17.444\\nentropy = 0.362\\nsamples = 58\\nvalue = [54, 4]'),\n",
       " Text(0.6117381489841986, 0.3125, 'x[2] <= 21.5\\nentropy = 0.301\\nsamples = 56\\nvalue = [53, 3]'),\n",
       " Text(0.6027088036117382, 0.2708333333333333, 'x[5] <= 8.175\\nentropy = 0.431\\nsamples = 34\\nvalue = [31, 3]'),\n",
       " Text(0.5936794582392777, 0.22916666666666666, 'x[5] <= 7.785\\nentropy = 0.575\\nsamples = 22\\nvalue = [19, 3]'),\n",
       " Text(0.5846501128668171, 0.1875, 'entropy = 0.0\\nsamples = 7\\nvalue = [7, 0]'),\n",
       " Text(0.6027088036117382, 0.1875, 'x[5] <= 7.798\\nentropy = 0.722\\nsamples = 15\\nvalue = [12, 3]'),\n",
       " Text(0.5936794582392777, 0.14583333333333334, 'entropy = 0.0\\nsamples = 1\\nvalue = [0, 1]'),\n",
       " Text(0.6117381489841986, 0.14583333333333334, 'x[5] <= 7.988\\nentropy = 0.592\\nsamples = 14\\nvalue = [12, 2]'),\n",
       " Text(0.6027088036117382, 0.10416666666666667, 'entropy = 0.0\\nsamples = 8\\nvalue = [8, 0]'),\n",
       " Text(0.6207674943566591, 0.10416666666666667, 'x[2] <= 19.5\\nentropy = 0.918\\nsamples = 6\\nvalue = [4, 2]'),\n",
       " Text(0.6117381489841986, 0.0625, 'x[2] <= 17.5\\nentropy = 1.0\\nsamples = 4\\nvalue = [2, 2]'),\n",
       " Text(0.6027088036117382, 0.020833333333333332, 'entropy = 1.0\\nsamples = 2\\nvalue = [1, 1]'),\n",
       " Text(0.6207674943566591, 0.020833333333333332, 'entropy = 1.0\\nsamples = 2\\nvalue = [1, 1]'),\n",
       " Text(0.6297968397291196, 0.0625, 'entropy = 0.0\\nsamples = 2\\nvalue = [2, 0]'),\n",
       " Text(0.6117381489841986, 0.22916666666666666, 'entropy = 0.0\\nsamples = 12\\nvalue = [12, 0]'),\n",
       " Text(0.6207674943566591, 0.2708333333333333, 'entropy = 0.0\\nsamples = 22\\nvalue = [22, 0]'),\n",
       " Text(0.6478555304740407, 0.3125, 'x[2] <= 18.5\\nentropy = 1.0\\nsamples = 2\\nvalue = [1, 1]'),\n",
       " Text(0.6388261851015802, 0.2708333333333333, 'entropy = 0.0\\nsamples = 1\\nvalue = [1, 0]'),\n",
       " Text(0.6568848758465011, 0.2708333333333333, 'entropy = 0.0\\nsamples = 1\\nvalue = [0, 1]'),\n",
       " Text(0.6930022573363431, 0.3541666666666667, 'x[5] <= 15.921\\nentropy = 0.837\\nsamples = 15\\nvalue = [11, 4]'),\n",
       " Text(0.6839729119638827, 0.3125, 'x[2] <= 25.5\\nentropy = 0.991\\nsamples = 9\\nvalue = [5, 4]'),\n",
       " Text(0.6749435665914221, 0.2708333333333333, 'x[5] <= 7.89\\nentropy = 0.918\\nsamples = 6\\nvalue = [2, 4]'),\n",
       " Text(0.6659142212189616, 0.22916666666666666, 'x[2] <= 23.5\\nentropy = 0.918\\nsamples = 3\\nvalue = [2, 1]'),\n",
       " Text(0.6568848758465011, 0.1875, 'entropy = 0.0\\nsamples = 2\\nvalue = [2, 0]'),\n",
       " Text(0.6749435665914221, 0.1875, 'entropy = 0.0\\nsamples = 1\\nvalue = [0, 1]'),\n",
       " Text(0.6839729119638827, 0.22916666666666666, 'entropy = 0.0\\nsamples = 3\\nvalue = [0, 3]'),\n",
       " Text(0.6930022573363431, 0.2708333333333333, 'entropy = 0.0\\nsamples = 3\\nvalue = [3, 0]'),\n",
       " Text(0.7020316027088036, 0.3125, 'entropy = 0.0\\nsamples = 6\\nvalue = [6, 0]'),\n",
       " Text(0.6139954853273137, 0.4375, 'entropy = 0.0\\nsamples = 1\\nvalue = [0, 1]'),\n",
       " Text(0.6230248306997742, 0.4791666666666667, 'entropy = 0.0\\nsamples = 3\\nvalue = [0, 3]'),\n",
       " Text(0.6320541760722348, 0.5208333333333334, 'entropy = 0.0\\nsamples = 11\\nvalue = [11, 0]'),\n",
       " Text(0.6591422121896162, 0.5625, 'x[5] <= 7.973\\nentropy = 0.971\\nsamples = 5\\nvalue = [2, 3]'),\n",
       " Text(0.6501128668171557, 0.5208333333333334, 'entropy = 0.0\\nsamples = 2\\nvalue = [0, 2]'),\n",
       " Text(0.6681715575620768, 0.5208333333333334, 'x[5] <= 9.492\\nentropy = 0.918\\nsamples = 3\\nvalue = [2, 1]'),\n",
       " Text(0.6591422121896162, 0.4791666666666667, 'entropy = 0.0\\nsamples = 2\\nvalue = [2, 0]'),\n",
       " Text(0.6772009029345373, 0.4791666666666667, 'entropy = 0.0\\nsamples = 1\\nvalue = [0, 1]'),\n",
       " Text(0.8036117381489842, 0.6041666666666666, 'x[5] <= 22.465\\nentropy = 0.424\\nsamples = 81\\nvalue = [74, 7]'),\n",
       " Text(0.7787810383747178, 0.5625, 'x[2] <= 30.5\\nentropy = 0.353\\nsamples = 75\\nvalue = [70, 5]'),\n",
       " Text(0.7562076749435666, 0.5208333333333334, 'x[5] <= 7.802\\nentropy = 0.31\\nsamples = 72\\nvalue = [68, 4]'),\n",
       " Text(0.7381489841986456, 0.4791666666666667, 'x[5] <= 7.763\\nentropy = 0.459\\nsamples = 31\\nvalue = [28, 3]'),\n",
       " Text(0.7291196388261851, 0.4375, 'x[5] <= 7.227\\nentropy = 0.362\\nsamples = 29\\nvalue = [27, 2]'),\n",
       " Text(0.7200902934537246, 0.3958333333333333, 'entropy = 0.0\\nsamples = 6\\nvalue = [6, 0]'),\n",
       " Text(0.7381489841986456, 0.3958333333333333, 'x[2] <= 29.85\\nentropy = 0.426\\nsamples = 23\\nvalue = [21, 2]'),\n",
       " Text(0.7291196388261851, 0.3541666666666667, 'x[5] <= 7.24\\nentropy = 0.454\\nsamples = 21\\nvalue = [19, 2]'),\n",
       " Text(0.7200902934537246, 0.3125, 'entropy = 0.65\\nsamples = 6\\nvalue = [5, 1]'),\n",
       " Text(0.7381489841986456, 0.3125, 'x[5] <= 7.742\\nentropy = 0.353\\nsamples = 15\\nvalue = [14, 1]'),\n",
       " Text(0.7291196388261851, 0.2708333333333333, 'entropy = 0.0\\nsamples = 6\\nvalue = [6, 0]'),\n",
       " Text(0.7471783295711061, 0.2708333333333333, 'x[3] <= 0.5\\nentropy = 0.503\\nsamples = 9\\nvalue = [8, 1]'),\n",
       " Text(0.7381489841986456, 0.22916666666666666, 'entropy = 0.544\\nsamples = 8\\nvalue = [7, 1]'),\n",
       " Text(0.7562076749435666, 0.22916666666666666, 'entropy = 0.0\\nsamples = 1\\nvalue = [1, 0]'),\n",
       " Text(0.7471783295711061, 0.3541666666666667, 'entropy = 0.0\\nsamples = 2\\nvalue = [2, 0]'),\n",
       " Text(0.7471783295711061, 0.4375, 'entropy = 1.0\\nsamples = 2\\nvalue = [1, 1]'),\n",
       " Text(0.7742663656884876, 0.4791666666666667, 'x[5] <= 8.081\\nentropy = 0.165\\nsamples = 41\\nvalue = [40, 1]'),\n",
       " Text(0.7652370203160271, 0.4375, 'entropy = 0.0\\nsamples = 27\\nvalue = [27, 0]'),\n",
       " Text(0.7832957110609481, 0.4375, 'x[5] <= 8.388\\nentropy = 0.371\\nsamples = 14\\nvalue = [13, 1]'),\n",
       " Text(0.7742663656884876, 0.3958333333333333, 'entropy = 0.0\\nsamples = 1\\nvalue = [0, 1]'),\n",
       " Text(0.7923250564334086, 0.3958333333333333, 'entropy = 0.0\\nsamples = 13\\nvalue = [13, 0]'),\n",
       " Text(0.801354401805869, 0.5208333333333334, 'x[5] <= 7.85\\nentropy = 0.918\\nsamples = 3\\nvalue = [2, 1]'),\n",
       " Text(0.7923250564334086, 0.4791666666666667, 'entropy = 0.0\\nsamples = 2\\nvalue = [2, 0]'),\n",
       " Text(0.8103837471783296, 0.4791666666666667, 'entropy = 0.0\\nsamples = 1\\nvalue = [0, 1]'),\n",
       " Text(0.8284424379232506, 0.5625, 'x[5] <= 23.35\\nentropy = 0.918\\nsamples = 6\\nvalue = [4, 2]'),\n",
       " Text(0.8194130925507901, 0.5208333333333334, 'entropy = 0.0\\nsamples = 1\\nvalue = [0, 1]'),\n",
       " Text(0.837471783295711, 0.5208333333333334, 'x[5] <= 40.323\\nentropy = 0.722\\nsamples = 5\\nvalue = [4, 1]'),\n",
       " Text(0.8284424379232506, 0.4791666666666667, 'entropy = 0.0\\nsamples = 3\\nvalue = [3, 0]'),\n",
       " Text(0.8465011286681715, 0.4791666666666667, 'entropy = 1.0\\nsamples = 2\\nvalue = [1, 1]'),\n",
       " Text(0.6399548532731377, 0.7291666666666666, 'entropy = 0.0\\nsamples = 13\\nvalue = [13, 0]'),\n",
       " Text(0.8826185101580135, 0.7708333333333334, 'x[5] <= 20.925\\nentropy = 0.996\\nsamples = 13\\nvalue = [7, 6]'),\n",
       " Text(0.8645598194130926, 0.7291666666666666, 'x[5] <= 8.206\\nentropy = 0.918\\nsamples = 9\\nvalue = [6, 3]'),\n",
       " Text(0.8555304740406321, 0.6875, 'x[5] <= 7.988\\nentropy = 0.985\\nsamples = 7\\nvalue = [4, 3]'),\n",
       " Text(0.8465011286681715, 0.6458333333333334, 'x[5] <= 7.802\\nentropy = 0.918\\nsamples = 6\\nvalue = [4, 2]'),\n",
       " Text(0.837471783295711, 0.6041666666666666, 'entropy = 0.0\\nsamples = 1\\nvalue = [1, 0]'),\n",
       " Text(0.8555304740406321, 0.6041666666666666, 'x[5] <= 7.875\\nentropy = 0.971\\nsamples = 5\\nvalue = [3, 2]'),\n",
       " Text(0.8465011286681715, 0.5625, 'entropy = 0.0\\nsamples = 1\\nvalue = [0, 1]'),\n",
       " Text(0.8645598194130926, 0.5625, 'x[5] <= 7.91\\nentropy = 0.811\\nsamples = 4\\nvalue = [3, 1]'),\n",
       " Text(0.8555304740406321, 0.5208333333333334, 'entropy = 0.0\\nsamples = 1\\nvalue = [1, 0]'),\n",
       " Text(0.873589164785553, 0.5208333333333334, 'entropy = 0.918\\nsamples = 3\\nvalue = [2, 1]'),\n",
       " Text(0.8645598194130926, 0.6458333333333334, 'entropy = 0.0\\nsamples = 1\\nvalue = [0, 1]'),\n",
       " Text(0.873589164785553, 0.6875, 'entropy = 0.0\\nsamples = 2\\nvalue = [2, 0]'),\n",
       " Text(0.9006772009029346, 0.7291666666666666, 'x[5] <= 64.998\\nentropy = 0.811\\nsamples = 4\\nvalue = [1, 3]'),\n",
       " Text(0.891647855530474, 0.6875, 'entropy = 0.0\\nsamples = 3\\nvalue = [0, 3]'),\n",
       " Text(0.909706546275395, 0.6875, 'entropy = 0.0\\nsamples = 1\\nvalue = [1, 0]'),\n",
       " Text(0.9503386004514672, 0.8125, 'x[5] <= 13.25\\nentropy = 0.31\\nsamples = 90\\nvalue = [85, 5]'),\n",
       " Text(0.9413092550790068, 0.7708333333333334, 'x[5] <= 7.91\\nentropy = 0.404\\nsamples = 62\\nvalue = [57, 5]'),\n",
       " Text(0.9322799097065463, 0.7291666666666666, 'entropy = 0.0\\nsamples = 27\\nvalue = [27, 0]'),\n",
       " Text(0.9503386004514672, 0.7291666666666666, 'x[5] <= 7.988\\nentropy = 0.592\\nsamples = 35\\nvalue = [30, 5]'),\n",
       " Text(0.927765237020316, 0.6875, 'x[3] <= 1.0\\nentropy = 1.0\\nsamples = 4\\nvalue = [2, 2]'),\n",
       " Text(0.9187358916478555, 0.6458333333333334, 'x[2] <= 41.5\\nentropy = 0.918\\nsamples = 3\\nvalue = [1, 2]'),\n",
       " Text(0.909706546275395, 0.6041666666666666, 'entropy = 1.0\\nsamples = 2\\nvalue = [1, 1]'),\n",
       " Text(0.927765237020316, 0.6041666666666666, 'entropy = 0.0\\nsamples = 1\\nvalue = [0, 1]'),\n",
       " Text(0.9367945823927766, 0.6458333333333334, 'entropy = 0.0\\nsamples = 1\\nvalue = [1, 0]'),\n",
       " Text(0.9729119638826185, 0.6875, 'x[0] <= 2.5\\nentropy = 0.459\\nsamples = 31\\nvalue = [28, 3]'),\n",
       " Text(0.963882618510158, 0.6458333333333334, 'x[2] <= 59.5\\nentropy = 0.696\\nsamples = 16\\nvalue = [13, 3]'),\n",
       " Text(0.945823927765237, 0.6041666666666666, 'x[2] <= 45.0\\nentropy = 0.592\\nsamples = 14\\nvalue = [12, 2]'),\n",
       " Text(0.9367945823927766, 0.5625, 'x[5] <= 12.637\\nentropy = 0.764\\nsamples = 9\\nvalue = [7, 2]'),\n",
       " Text(0.927765237020316, 0.5208333333333334, 'entropy = 0.0\\nsamples = 3\\nvalue = [3, 0]'),\n",
       " Text(0.945823927765237, 0.5208333333333334, 'x[2] <= 40.5\\nentropy = 0.918\\nsamples = 6\\nvalue = [4, 2]'),\n",
       " Text(0.9367945823927766, 0.4791666666666667, 'x[2] <= 36.5\\nentropy = 0.811\\nsamples = 4\\nvalue = [3, 1]'),\n",
       " Text(0.927765237020316, 0.4375, 'entropy = 0.918\\nsamples = 3\\nvalue = [2, 1]'),\n",
       " Text(0.945823927765237, 0.4375, 'entropy = 0.0\\nsamples = 1\\nvalue = [1, 0]'),\n",
       " Text(0.9548532731376975, 0.4791666666666667, 'entropy = 1.0\\nsamples = 2\\nvalue = [1, 1]'),\n",
       " Text(0.9548532731376975, 0.5625, 'entropy = 0.0\\nsamples = 5\\nvalue = [5, 0]'),\n",
       " Text(0.981941309255079, 0.6041666666666666, 'x[2] <= 66.0\\nentropy = 1.0\\nsamples = 2\\nvalue = [1, 1]'),\n",
       " Text(0.9729119638826185, 0.5625, 'entropy = 0.0\\nsamples = 1\\nvalue = [0, 1]'),\n",
       " Text(0.9909706546275395, 0.5625, 'entropy = 0.0\\nsamples = 1\\nvalue = [1, 0]'),\n",
       " Text(0.981941309255079, 0.6458333333333334, 'entropy = 0.0\\nsamples = 15\\nvalue = [15, 0]'),\n",
       " Text(0.9593679458239278, 0.7708333333333334, 'entropy = 0.0\\nsamples = 28\\nvalue = [28, 0]')]"
      ]
     },
     "execution_count": 33,
     "metadata": {},
     "output_type": "execute_result"
    },
    {
     "data": {
      "image/png": "[encoded data removed]",
      "text/plain": [
       "<Figure size 640x480 with 1 Axes>"
      ]
     },
     "metadata": {},
     "output_type": "display_data"
    }
   ],
   "source": [
    "tree.plot_tree(model)"
   ]
  },
  {
   "cell_type": "code",
   "execution_count": 34,
   "metadata": {},
   "outputs": [],
   "source": [
    "model = DecisionTreeClassifier(criterion='entropy',max_depth=8)"
   ]
  },
  {
   "cell_type": "code",
   "execution_count": 35,
   "metadata": {},
   "outputs": [
    {
     "data": {
      "text/html": [
       "<style>#sk-container-id-2 {color: black;}#sk-container-id-2 pre{padding: 0;}#sk-container-id-2 div.sk-toggleable {background-color: white;}#sk-container-id-2 label.sk-toggleable__label {cursor: pointer;display: block;width: 100%;margin-bottom: 0;padding: 0.3em;box-sizing: border-box;text-align: center;}#sk-container-id-2 label.sk-toggleable__label-arrow:before {content: \"▸\";float: left;margin-right: 0.25em;color: #696969;}#sk-container-id-2 label.sk-toggleable__label-arrow:hover:before {color: black;}#sk-container-id-2 div.sk-estimator:hover label.sk-toggleable__label-arrow:before {color: black;}#sk-container-id-2 div.sk-toggleable__content {max-height: 0;max-width: 0;overflow: hidden;text-align: left;background-color: #f0f8ff;}#sk-container-id-2 div.sk-toggleable__content pre {margin: 0.2em;color: black;border-radius: 0.25em;background-color: #f0f8ff;}#sk-container-id-2 input.sk-toggleable__control:checked~div.sk-toggleable__content {max-height: 200px;max-width: 100%;overflow: auto;}#sk-container-id-2 input.sk-toggleable__control:checked~label.sk-toggleable__label-arrow:before {content: \"▾\";}#sk-container-id-2 div.sk-estimator input.sk-toggleable__control:checked~label.sk-toggleable__label {background-color: #d4ebff;}#sk-container-id-2 div.sk-label input.sk-toggleable__control:checked~label.sk-toggleable__label {background-color: #d4ebff;}#sk-container-id-2 input.sk-hidden--visually {border: 0;clip: rect(1px 1px 1px 1px);clip: rect(1px, 1px, 1px, 1px);height: 1px;margin: -1px;overflow: hidden;padding: 0;position: absolute;width: 1px;}#sk-container-id-2 div.sk-estimator {font-family: monospace;background-color: #f0f8ff;border: 1px dotted black;border-radius: 0.25em;box-sizing: border-box;margin-bottom: 0.5em;}#sk-container-id-2 div.sk-estimator:hover {background-color: #d4ebff;}#sk-container-id-2 div.sk-parallel-item::after {content: \"\";width: 100%;border-bottom: 1px solid gray;flex-grow: 1;}#sk-container-id-2 div.sk-label:hover label.sk-toggleable__label {background-color: #d4ebff;}#sk-container-id-2 div.sk-serial::before {content: \"\";position: absolute;border-left: 1px solid gray;box-sizing: border-box;top: 0;bottom: 0;left: 50%;z-index: 0;}#sk-container-id-2 div.sk-serial {display: flex;flex-direction: column;align-items: center;background-color: white;padding-right: 0.2em;padding-left: 0.2em;position: relative;}#sk-container-id-2 div.sk-item {position: relative;z-index: 1;}#sk-container-id-2 div.sk-parallel {display: flex;align-items: stretch;justify-content: center;background-color: white;position: relative;}#sk-container-id-2 div.sk-item::before, #sk-container-id-2 div.sk-parallel-item::before {content: \"\";position: absolute;border-left: 1px solid gray;box-sizing: border-box;top: 0;bottom: 0;left: 50%;z-index: -1;}#sk-container-id-2 div.sk-parallel-item {display: flex;flex-direction: column;z-index: 1;position: relative;background-color: white;}#sk-container-id-2 div.sk-parallel-item:first-child::after {align-self: flex-end;width: 50%;}#sk-container-id-2 div.sk-parallel-item:last-child::after {align-self: flex-start;width: 50%;}#sk-container-id-2 div.sk-parallel-item:only-child::after {width: 0;}#sk-container-id-2 div.sk-dashed-wrapped {border: 1px dashed gray;margin: 0 0.4em 0.5em 0.4em;box-sizing: border-box;padding-bottom: 0.4em;background-color: white;}#sk-container-id-2 div.sk-label label {font-family: monospace;font-weight: bold;display: inline-block;line-height: 1.2em;}#sk-container-id-2 div.sk-label-container {text-align: center;}#sk-container-id-2 div.sk-container {/* jupyter's `normalize.less` sets `[hidden] { display: none; }` but bootstrap.min.css set `[hidden] { display: none !important; }` so we also need the `!important` here to be able to override the default hidden behavior on the sphinx rendered scikit-learn.org. See: https://github.com/scikit-learn/scikit-learn/issues/21755 */display: inline-block !important;position: relative;}#sk-container-id-2 div.sk-text-repr-fallback {display: none;}</style><div id=\"sk-container-id-2\" class=\"sk-top-container\"><div class=\"sk-text-repr-fallback\"><pre>DecisionTreeClassifier(criterion=&#x27;entropy&#x27;, max_depth=8)</pre><b>In a Jupyter environment, please rerun this cell to show the HTML representation or trust the notebook. <br />On GitHub, the HTML representation is unable to render, please try loading this page with nbviewer.org.</b></div><div class=\"sk-container\" hidden><div class=\"sk-item\"><div class=\"sk-estimator sk-toggleable\"><input class=\"sk-toggleable__control sk-hidden--visually\" id=\"sk-estimator-id-2\" type=\"checkbox\" checked><label for=\"sk-estimator-id-2\" class=\"sk-toggleable__label sk-toggleable__label-arrow\">DecisionTreeClassifier</label><div class=\"sk-toggleable__content\"><pre>DecisionTreeClassifier(criterion=&#x27;entropy&#x27;, max_depth=8)</pre></div></div></div></div></div>"
      ],
      "text/plain": [
       "DecisionTreeClassifier(criterion='entropy', max_depth=8)"
      ]
     },
     "execution_count": 35,
     "metadata": {},
     "output_type": "execute_result"
    }
   ],
   "source": [
    "model.fit(X_train,Y_train)"
   ]
  },
  {
   "cell_type": "code",
   "execution_count": 36,
   "metadata": {},
   "outputs": [
    {
     "data": {
      "text/plain": [
       "0.8918539325842697"
      ]
     },
     "execution_count": 36,
     "metadata": {},
     "output_type": "execute_result"
    }
   ],
   "source": [
    "model.score(X_train,Y_train)"
   ]
  },
  {
   "cell_type": "code",
   "execution_count": 37,
   "metadata": {},
   "outputs": [
    {
     "data": {
      "text/plain": [
       "0.8268156424581006"
      ]
     },
     "execution_count": 37,
     "metadata": {},
     "output_type": "execute_result"
    }
   ],
   "source": [
    "model.score(X_test,Y_test)"
   ]
  },
  {
   "cell_type": "code",
   "execution_count": 38,
   "metadata": {},
   "outputs": [
    {
     "data": {
      "text/plain": [
       "[Text(0.46383928571428573, 0.9444444444444444, 'x[1] <= 0.5\\nentropy = 0.955\\nsamples = 712\\nvalue = [444, 268]'),\n",
       " Text(0.25357142857142856, 0.8333333333333334, 'x[0] <= 2.5\\nentropy = 0.829\\nsamples = 245\\nvalue = [64, 181]'),\n",
       " Text(0.075, 0.7222222222222222, 'x[2] <= 2.5\\nentropy = 0.235\\nsamples = 130\\nvalue = [5, 125]'),\n",
       " Text(0.02857142857142857, 0.6111111111111112, 'x[0] <= 1.5\\nentropy = 1.0\\nsamples = 2\\nvalue = [1, 1]'),\n",
       " Text(0.014285714285714285, 0.5, 'entropy = 0.0\\nsamples = 1\\nvalue = [1, 0]'),\n",
       " Text(0.04285714285714286, 0.5, 'entropy = 0.0\\nsamples = 1\\nvalue = [0, 1]'),\n",
       " Text(0.12142857142857143, 0.6111111111111112, 'x[2] <= 27.5\\nentropy = 0.201\\nsamples = 128\\nvalue = [4, 124]'),\n",
       " Text(0.07142857142857142, 0.5, 'x[2] <= 23.5\\nentropy = 0.342\\nsamples = 47\\nvalue = [3, 44]'),\n",
       " Text(0.05714285714285714, 0.3888888888888889, 'entropy = 0.0\\nsamples = 29\\nvalue = [0, 29]'),\n",
       " Text(0.08571428571428572, 0.3888888888888889, 'x[2] <= 24.5\\nentropy = 0.65\\nsamples = 18\\nvalue = [3, 15]'),\n",
       " Text(0.05714285714285714, 0.2777777777777778, 'x[5] <= 13.75\\nentropy = 0.414\\nsamples = 12\\nvalue = [1, 11]'),\n",
       " Text(0.04285714285714286, 0.16666666666666666, 'entropy = 1.0\\nsamples = 2\\nvalue = [1, 1]'),\n",
       " Text(0.07142857142857142, 0.16666666666666666, 'entropy = 0.0\\nsamples = 10\\nvalue = [0, 10]'),\n",
       " Text(0.11428571428571428, 0.2777777777777778, 'x[4] <= 1.5\\nentropy = 0.918\\nsamples = 6\\nvalue = [2, 4]'),\n",
       " Text(0.1, 0.16666666666666666, 'x[3] <= 0.5\\nentropy = 0.722\\nsamples = 5\\nvalue = [1, 4]'),\n",
       " Text(0.08571428571428572, 0.05555555555555555, 'entropy = 0.0\\nsamples = 2\\nvalue = [0, 2]'),\n",
       " Text(0.11428571428571428, 0.05555555555555555, 'entropy = 0.918\\nsamples = 3\\nvalue = [1, 2]'),\n",
       " Text(0.12857142857142856, 0.16666666666666666, 'entropy = 0.0\\nsamples = 1\\nvalue = [1, 0]'),\n",
       " Text(0.17142857142857143, 0.5, 'x[2] <= 49.5\\nentropy = 0.096\\nsamples = 81\\nvalue = [1, 80]'),\n",
       " Text(0.15714285714285714, 0.3888888888888889, 'entropy = 0.0\\nsamples = 65\\nvalue = [0, 65]'),\n",
       " Text(0.18571428571428572, 0.3888888888888889, 'x[2] <= 50.5\\nentropy = 0.337\\nsamples = 16\\nvalue = [1, 15]'),\n",
       " Text(0.17142857142857143, 0.2777777777777778, 'x[5] <= 27.356\\nentropy = 0.811\\nsamples = 4\\nvalue = [1, 3]'),\n",
       " Text(0.15714285714285714, 0.16666666666666666, 'entropy = 0.0\\nsamples = 3\\nvalue = [0, 3]'),\n",
       " Text(0.18571428571428572, 0.16666666666666666, 'entropy = 0.0\\nsamples = 1\\nvalue = [1, 0]'),\n",
       " Text(0.2, 0.2777777777777778, 'entropy = 0.0\\nsamples = 12\\nvalue = [0, 12]'),\n",
       " Text(0.43214285714285716, 0.7222222222222222, 'x[5] <= 23.35\\nentropy = 1.0\\nsamples = 115\\nvalue = [59, 56]'),\n",
       " Text(0.32142857142857145, 0.6111111111111112, 'x[5] <= 7.744\\nentropy = 0.979\\nsamples = 94\\nvalue = [39, 55]'),\n",
       " Text(0.22857142857142856, 0.5, 'x[5] <= 6.987\\nentropy = 0.619\\nsamples = 13\\nvalue = [2, 11]'),\n",
       " Text(0.21428571428571427, 0.3888888888888889, 'entropy = 0.0\\nsamples = 1\\nvalue = [1, 0]'),\n",
       " Text(0.24285714285714285, 0.3888888888888889, 'x[5] <= 7.59\\nentropy = 0.414\\nsamples = 12\\nvalue = [1, 11]'),\n",
       " Text(0.22857142857142856, 0.2777777777777778, 'entropy = 0.0\\nsamples = 7\\nvalue = [0, 7]'),\n",
       " Text(0.2571428571428571, 0.2777777777777778, 'x[5] <= 7.64\\nentropy = 0.722\\nsamples = 5\\nvalue = [1, 4]'),\n",
       " Text(0.24285714285714285, 0.16666666666666666, 'entropy = 0.0\\nsamples = 1\\nvalue = [1, 0]'),\n",
       " Text(0.2714285714285714, 0.16666666666666666, 'entropy = 0.0\\nsamples = 4\\nvalue = [0, 4]'),\n",
       " Text(0.4142857142857143, 0.5, 'x[5] <= 15.373\\nentropy = 0.995\\nsamples = 81\\nvalue = [37, 44]'),\n",
       " Text(0.34285714285714286, 0.3888888888888889, 'x[5] <= 13.908\\nentropy = 0.992\\nsamples = 56\\nvalue = [31, 25]'),\n",
       " Text(0.3142857142857143, 0.2777777777777778, 'x[5] <= 10.825\\nentropy = 1.0\\nsamples = 48\\nvalue = [24, 24]'),\n",
       " Text(0.3, 0.16666666666666666, 'x[5] <= 8.04\\nentropy = 0.985\\nsamples = 42\\nvalue = [24, 18]'),\n",
       " Text(0.2857142857142857, 0.05555555555555555, 'entropy = 0.98\\nsamples = 24\\nvalue = [10, 14]'),\n",
       " Text(0.3142857142857143, 0.05555555555555555, 'entropy = 0.764\\nsamples = 18\\nvalue = [14, 4]'),\n",
       " Text(0.32857142857142857, 0.16666666666666666, 'entropy = 0.0\\nsamples = 6\\nvalue = [0, 6]'),\n",
       " Text(0.37142857142857144, 0.2777777777777778, 'x[4] <= 1.5\\nentropy = 0.544\\nsamples = 8\\nvalue = [7, 1]'),\n",
       " Text(0.35714285714285715, 0.16666666666666666, 'entropy = 0.0\\nsamples = 6\\nvalue = [6, 0]'),\n",
       " Text(0.38571428571428573, 0.16666666666666666, 'x[2] <= 29.35\\nentropy = 1.0\\nsamples = 2\\nvalue = [1, 1]'),\n",
       " Text(0.37142857142857144, 0.05555555555555555, 'entropy = 0.0\\nsamples = 1\\nvalue = [0, 1]'),\n",
       " Text(0.4, 0.05555555555555555, 'entropy = 0.0\\nsamples = 1\\nvalue = [1, 0]'),\n",
       " Text(0.4857142857142857, 0.3888888888888889, 'x[2] <= 29.35\\nentropy = 0.795\\nsamples = 25\\nvalue = [6, 19]'),\n",
       " Text(0.45714285714285713, 0.2777777777777778, 'x[2] <= 25.0\\nentropy = 0.98\\nsamples = 12\\nvalue = [5, 7]'),\n",
       " Text(0.44285714285714284, 0.16666666666666666, 'x[3] <= 2.5\\nentropy = 0.881\\nsamples = 10\\nvalue = [3, 7]'),\n",
       " Text(0.42857142857142855, 0.05555555555555555, 'entropy = 0.544\\nsamples = 8\\nvalue = [1, 7]'),\n",
       " Text(0.45714285714285713, 0.05555555555555555, 'entropy = 0.0\\nsamples = 2\\nvalue = [2, 0]'),\n",
       " Text(0.4714285714285714, 0.16666666666666666, 'entropy = 0.0\\nsamples = 2\\nvalue = [2, 0]'),\n",
       " Text(0.5142857142857142, 0.2777777777777778, 'x[2] <= 30.35\\nentropy = 0.391\\nsamples = 13\\nvalue = [1, 12]'),\n",
       " Text(0.5, 0.16666666666666666, 'entropy = 0.0\\nsamples = 8\\nvalue = [0, 8]'),\n",
       " Text(0.5285714285714286, 0.16666666666666666, 'x[2] <= 32.0\\nentropy = 0.722\\nsamples = 5\\nvalue = [1, 4]'),\n",
       " Text(0.5142857142857142, 0.05555555555555555, 'entropy = 1.0\\nsamples = 2\\nvalue = [1, 1]'),\n",
       " Text(0.5428571428571428, 0.05555555555555555, 'entropy = 0.0\\nsamples = 3\\nvalue = [0, 3]'),\n",
       " Text(0.5428571428571428, 0.6111111111111112, 'x[2] <= 5.5\\nentropy = 0.276\\nsamples = 21\\nvalue = [20, 1]'),\n",
       " Text(0.5285714285714286, 0.5, 'x[2] <= 3.5\\nentropy = 0.918\\nsamples = 3\\nvalue = [2, 1]'),\n",
       " Text(0.5142857142857142, 0.3888888888888889, 'entropy = 0.0\\nsamples = 2\\nvalue = [2, 0]'),\n",
       " Text(0.5428571428571428, 0.3888888888888889, 'entropy = 0.0\\nsamples = 1\\nvalue = [0, 1]'),\n",
       " Text(0.5571428571428572, 0.5, 'entropy = 0.0\\nsamples = 18\\nvalue = [18, 0]'),\n",
       " Text(0.6741071428571429, 0.8333333333333334, 'x[2] <= 6.5\\nentropy = 0.694\\nsamples = 467\\nvalue = [380, 87]'),\n",
       " Text(0.5857142857142857, 0.7222222222222222, 'x[3] <= 2.5\\nentropy = 0.902\\nsamples = 22\\nvalue = [7, 15]'),\n",
       " Text(0.5714285714285714, 0.6111111111111112, 'entropy = 0.0\\nsamples = 14\\nvalue = [0, 14]'),\n",
       " Text(0.6, 0.6111111111111112, 'x[2] <= 2.5\\nentropy = 0.544\\nsamples = 8\\nvalue = [7, 1]'),\n",
       " Text(0.5857142857142857, 0.5, 'entropy = 0.0\\nsamples = 5\\nvalue = [5, 0]'),\n",
       " Text(0.6142857142857143, 0.5, 'x[2] <= 3.5\\nentropy = 0.918\\nsamples = 3\\nvalue = [2, 1]'),\n",
       " Text(0.6, 0.3888888888888889, 'entropy = 0.0\\nsamples = 1\\nvalue = [0, 1]'),\n",
       " Text(0.6285714285714286, 0.3888888888888889, 'entropy = 0.0\\nsamples = 2\\nvalue = [2, 0]'),\n",
       " Text(0.7625, 0.7222222222222222, 'x[0] <= 1.5\\nentropy = 0.639\\nsamples = 445\\nvalue = [373, 72]'),\n",
       " Text(0.6571428571428571, 0.6111111111111112, 'x[5] <= 26.144\\nentropy = 0.915\\nsamples = 91\\nvalue = [61, 30]'),\n",
       " Text(0.6428571428571429, 0.5, 'entropy = 0.0\\nsamples = 7\\nvalue = [7, 0]'),\n",
       " Text(0.6714285714285714, 0.5, 'x[5] <= 26.419\\nentropy = 0.94\\nsamples = 84\\nvalue = [54, 30]'),\n",
       " Text(0.6571428571428571, 0.3888888888888889, 'entropy = 0.0\\nsamples = 2\\nvalue = [0, 2]'),\n",
       " Text(0.6857142857142857, 0.3888888888888889, 'x[5] <= 387.665\\nentropy = 0.926\\nsamples = 82\\nvalue = [54, 28]'),\n",
       " Text(0.6714285714285714, 0.2777777777777778, 'x[5] <= 134.642\\nentropy = 0.91\\nsamples = 80\\nvalue = [54, 26]'),\n",
       " Text(0.6571428571428571, 0.16666666666666666, 'x[4] <= 1.5\\nentropy = 0.939\\nsamples = 73\\nvalue = [47, 26]'),\n",
       " Text(0.6428571428571429, 0.05555555555555555, 'entropy = 0.923\\nsamples = 71\\nvalue = [47, 24]'),\n",
       " Text(0.6714285714285714, 0.05555555555555555, 'entropy = 0.0\\nsamples = 2\\nvalue = [0, 2]'),\n",
       " Text(0.6857142857142857, 0.16666666666666666, 'entropy = 0.0\\nsamples = 7\\nvalue = [7, 0]'),\n",
       " Text(0.7, 0.2777777777777778, 'entropy = 0.0\\nsamples = 2\\nvalue = [0, 2]'),\n",
       " Text(0.8678571428571429, 0.6111111111111112, 'x[2] <= 32.25\\nentropy = 0.525\\nsamples = 354\\nvalue = [312, 42]'),\n",
       " Text(0.7928571428571428, 0.5, 'x[2] <= 31.5\\nentropy = 0.585\\nsamples = 264\\nvalue = [227, 37]'),\n",
       " Text(0.7428571428571429, 0.3888888888888889, 'x[3] <= 2.5\\nentropy = 0.539\\nsamples = 251\\nvalue = [220, 31]'),\n",
       " Text(0.7285714285714285, 0.2777777777777778, 'x[2] <= 10.0\\nentropy = 0.558\\nsamples = 238\\nvalue = [207, 31]'),\n",
       " Text(0.7142857142857143, 0.16666666666666666, 'entropy = 0.0\\nsamples = 2\\nvalue = [0, 2]'),\n",
       " Text(0.7428571428571429, 0.16666666666666666, 'x[0] <= 2.5\\nentropy = 0.538\\nsamples = 236\\nvalue = [207, 29]'),\n",
       " Text(0.7285714285714285, 0.05555555555555555, 'entropy = 0.348\\nsamples = 46\\nvalue = [43, 3]'),\n",
       " Text(0.7571428571428571, 0.05555555555555555, 'entropy = 0.576\\nsamples = 190\\nvalue = [164, 26]'),\n",
       " Text(0.7571428571428571, 0.2777777777777778, 'entropy = 0.0\\nsamples = 13\\nvalue = [13, 0]'),\n",
       " Text(0.8428571428571429, 0.3888888888888889, 'x[5] <= 20.925\\nentropy = 0.996\\nsamples = 13\\nvalue = [7, 6]'),\n",
       " Text(0.8142857142857143, 0.2777777777777778, 'x[5] <= 8.206\\nentropy = 0.918\\nsamples = 9\\nvalue = [6, 3]'),\n",
       " Text(0.8, 0.16666666666666666, 'x[5] <= 7.988\\nentropy = 0.985\\nsamples = 7\\nvalue = [4, 3]'),\n",
       " Text(0.7857142857142857, 0.05555555555555555, 'entropy = 0.918\\nsamples = 6\\nvalue = [4, 2]'),\n",
       " Text(0.8142857142857143, 0.05555555555555555, 'entropy = 0.0\\nsamples = 1\\nvalue = [0, 1]'),\n",
       " Text(0.8285714285714286, 0.16666666666666666, 'entropy = 0.0\\nsamples = 2\\nvalue = [2, 0]'),\n",
       " Text(0.8714285714285714, 0.2777777777777778, 'x[5] <= 64.998\\nentropy = 0.811\\nsamples = 4\\nvalue = [1, 3]'),\n",
       " Text(0.8571428571428571, 0.16666666666666666, 'entropy = 0.0\\nsamples = 3\\nvalue = [0, 3]'),\n",
       " Text(0.8857142857142857, 0.16666666666666666, 'entropy = 0.0\\nsamples = 1\\nvalue = [1, 0]'),\n",
       " Text(0.9428571428571428, 0.5, 'x[5] <= 13.25\\nentropy = 0.31\\nsamples = 90\\nvalue = [85, 5]'),\n",
       " Text(0.9285714285714286, 0.3888888888888889, 'x[5] <= 7.91\\nentropy = 0.404\\nsamples = 62\\nvalue = [57, 5]'),\n",
       " Text(0.9142857142857143, 0.2777777777777778, 'entropy = 0.0\\nsamples = 27\\nvalue = [27, 0]'),\n",
       " Text(0.9428571428571428, 0.2777777777777778, 'x[5] <= 7.988\\nentropy = 0.592\\nsamples = 35\\nvalue = [30, 5]'),\n",
       " Text(0.9142857142857143, 0.16666666666666666, 'x[3] <= 1.0\\nentropy = 1.0\\nsamples = 4\\nvalue = [2, 2]'),\n",
       " Text(0.9, 0.05555555555555555, 'entropy = 0.918\\nsamples = 3\\nvalue = [1, 2]'),\n",
       " Text(0.9285714285714286, 0.05555555555555555, 'entropy = 0.0\\nsamples = 1\\nvalue = [1, 0]'),\n",
       " Text(0.9714285714285714, 0.16666666666666666, 'x[5] <= 10.0\\nentropy = 0.459\\nsamples = 31\\nvalue = [28, 3]'),\n",
       " Text(0.9571428571428572, 0.05555555555555555, 'entropy = 0.0\\nsamples = 15\\nvalue = [15, 0]'),\n",
       " Text(0.9857142857142858, 0.05555555555555555, 'entropy = 0.696\\nsamples = 16\\nvalue = [13, 3]'),\n",
       " Text(0.9571428571428572, 0.3888888888888889, 'entropy = 0.0\\nsamples = 28\\nvalue = [28, 0]')]"
      ]
     },
     "execution_count": 38,
     "metadata": {},
     "output_type": "execute_result"
    },
    {
     "data": {
      "image/png": "[encoded data removed]",
      "text/plain": [
       "<Figure size 640x480 with 1 Axes>"
      ]
     },
     "metadata": {},
     "output_type": "display_data"
    }
   ],
   "source": [
    "tree.plot_tree(model)"
   ]
  },
  {
   "cell_type": "markdown",
   "metadata": {},
   "source": [
    "#### RandomForest"
   ]
  },
  {
   "cell_type": "code",
   "execution_count": 39,
   "metadata": {},
   "outputs": [],
   "source": [
    "from sklearn.ensemble import RandomForestClassifier"
   ]
  },
  {
   "cell_type": "code",
   "execution_count": 40,
   "metadata": {},
   "outputs": [],
   "source": [
    "rfc = RandomForestClassifier(n_estimators = 1000,max_depth = 11)"
   ]
  },
  {
   "cell_type": "code",
   "execution_count": 41,
   "metadata": {},
   "outputs": [
    {
     "data": {
      "text/html": [
       "<style>#sk-container-id-3 {color: black;}#sk-container-id-3 pre{padding: 0;}#sk-container-id-3 div.sk-toggleable {background-color: white;}#sk-container-id-3 label.sk-toggleable__label {cursor: pointer;display: block;width: 100%;margin-bottom: 0;padding: 0.3em;box-sizing: border-box;text-align: center;}#sk-container-id-3 label.sk-toggleable__label-arrow:before {content: \"▸\";float: left;margin-right: 0.25em;color: #696969;}#sk-container-id-3 label.sk-toggleable__label-arrow:hover:before {color: black;}#sk-container-id-3 div.sk-estimator:hover label.sk-toggleable__label-arrow:before {color: black;}#sk-container-id-3 div.sk-toggleable__content {max-height: 0;max-width: 0;overflow: hidden;text-align: left;background-color: #f0f8ff;}#sk-container-id-3 div.sk-toggleable__content pre {margin: 0.2em;color: black;border-radius: 0.25em;background-color: #f0f8ff;}#sk-container-id-3 input.sk-toggleable__control:checked~div.sk-toggleable__content {max-height: 200px;max-width: 100%;overflow: auto;}#sk-container-id-3 input.sk-toggleable__control:checked~label.sk-toggleable__label-arrow:before {content: \"▾\";}#sk-container-id-3 div.sk-estimator input.sk-toggleable__control:checked~label.sk-toggleable__label {background-color: #d4ebff;}#sk-container-id-3 div.sk-label input.sk-toggleable__control:checked~label.sk-toggleable__label {background-color: #d4ebff;}#sk-container-id-3 input.sk-hidden--visually {border: 0;clip: rect(1px 1px 1px 1px);clip: rect(1px, 1px, 1px, 1px);height: 1px;margin: -1px;overflow: hidden;padding: 0;position: absolute;width: 1px;}#sk-container-id-3 div.sk-estimator {font-family: monospace;background-color: #f0f8ff;border: 1px dotted black;border-radius: 0.25em;box-sizing: border-box;margin-bottom: 0.5em;}#sk-container-id-3 div.sk-estimator:hover {background-color: #d4ebff;}#sk-container-id-3 div.sk-parallel-item::after {content: \"\";width: 100%;border-bottom: 1px solid gray;flex-grow: 1;}#sk-container-id-3 div.sk-label:hover label.sk-toggleable__label {background-color: #d4ebff;}#sk-container-id-3 div.sk-serial::before {content: \"\";position: absolute;border-left: 1px solid gray;box-sizing: border-box;top: 0;bottom: 0;left: 50%;z-index: 0;}#sk-container-id-3 div.sk-serial {display: flex;flex-direction: column;align-items: center;background-color: white;padding-right: 0.2em;padding-left: 0.2em;position: relative;}#sk-container-id-3 div.sk-item {position: relative;z-index: 1;}#sk-container-id-3 div.sk-parallel {display: flex;align-items: stretch;justify-content: center;background-color: white;position: relative;}#sk-container-id-3 div.sk-item::before, #sk-container-id-3 div.sk-parallel-item::before {content: \"\";position: absolute;border-left: 1px solid gray;box-sizing: border-box;top: 0;bottom: 0;left: 50%;z-index: -1;}#sk-container-id-3 div.sk-parallel-item {display: flex;flex-direction: column;z-index: 1;position: relative;background-color: white;}#sk-container-id-3 div.sk-parallel-item:first-child::after {align-self: flex-end;width: 50%;}#sk-container-id-3 div.sk-parallel-item:last-child::after {align-self: flex-start;width: 50%;}#sk-container-id-3 div.sk-parallel-item:only-child::after {width: 0;}#sk-container-id-3 div.sk-dashed-wrapped {border: 1px dashed gray;margin: 0 0.4em 0.5em 0.4em;box-sizing: border-box;padding-bottom: 0.4em;background-color: white;}#sk-container-id-3 div.sk-label label {font-family: monospace;font-weight: bold;display: inline-block;line-height: 1.2em;}#sk-container-id-3 div.sk-label-container {text-align: center;}#sk-container-id-3 div.sk-container {/* jupyter's `normalize.less` sets `[hidden] { display: none; }` but bootstrap.min.css set `[hidden] { display: none !important; }` so we also need the `!important` here to be able to override the default hidden behavior on the sphinx rendered scikit-learn.org. See: https://github.com/scikit-learn/scikit-learn/issues/21755 */display: inline-block !important;position: relative;}#sk-container-id-3 div.sk-text-repr-fallback {display: none;}</style><div id=\"sk-container-id-3\" class=\"sk-top-container\"><div class=\"sk-text-repr-fallback\"><pre>RandomForestClassifier(max_depth=11, n_estimators=1000)</pre><b>In a Jupyter environment, please rerun this cell to show the HTML representation or trust the notebook. <br />On GitHub, the HTML representation is unable to render, please try loading this page with nbviewer.org.</b></div><div class=\"sk-container\" hidden><div class=\"sk-item\"><div class=\"sk-estimator sk-toggleable\"><input class=\"sk-toggleable__control sk-hidden--visually\" id=\"sk-estimator-id-3\" type=\"checkbox\" checked><label for=\"sk-estimator-id-3\" class=\"sk-toggleable__label sk-toggleable__label-arrow\">RandomForestClassifier</label><div class=\"sk-toggleable__content\"><pre>RandomForestClassifier(max_depth=11, n_estimators=1000)</pre></div></div></div></div></div>"
      ],
      "text/plain": [
       "RandomForestClassifier(max_depth=11, n_estimators=1000)"
      ]
     },
     "execution_count": 41,
     "metadata": {},
     "output_type": "execute_result"
    }
   ],
   "source": [
    "rfc.fit(X_train,Y_train)"
   ]
  },
  {
   "cell_type": "code",
   "execution_count": 42,
   "metadata": {},
   "outputs": [
    {
     "data": {
      "text/plain": [
       "0.8100558659217877"
      ]
     },
     "execution_count": 42,
     "metadata": {},
     "output_type": "execute_result"
    }
   ],
   "source": [
    "rfc.score(X_test,Y_test)"
   ]
  },
  {
   "cell_type": "code",
   "execution_count": 43,
   "metadata": {},
   "outputs": [
    {
     "data": {
      "text/plain": [
       "0.9480337078651685"
      ]
     },
     "execution_count": 43,
     "metadata": {},
     "output_type": "execute_result"
    }
   ],
   "source": [
    "rfc.score(X_train,Y_train)"
   ]
  },
  {
   "cell_type": "code",
   "execution_count": 44,
   "metadata": {},
   "outputs": [
    {
     "data": {
      "text/plain": [
       "[DecisionTreeClassifier(max_depth=11, max_features='sqrt', random_state=943888),\n",
       " DecisionTreeClassifier(max_depth=11, max_features='sqrt',\n",
       "                        random_state=1084570792),\n",
       " DecisionTreeClassifier(max_depth=11, max_features='sqrt',\n",
       "                        random_state=459020947),\n",
       " DecisionTreeClassifier(max_depth=11, max_features='sqrt',\n",
       "                        random_state=2142681226),\n",
       " DecisionTreeClassifier(max_depth=11, max_features='sqrt',\n",
       "                        random_state=984199206)]"
      ]
     },
     "execution_count": 44,
     "metadata": {},
     "output_type": "execute_result"
    }
   ],
   "source": [
    "rfc.estimators_[:5]"
   ]
  },
  {
   "cell_type": "markdown",
   "metadata": {},
   "source": [
    "#### Boosting Code"
   ]
  },
  {
   "cell_type": "code",
   "execution_count": 45,
   "metadata": {},
   "outputs": [],
   "source": [
    "from sklearn.ensemble import GradientBoostingClassifier"
   ]
  },
  {
   "cell_type": "code",
   "execution_count": 46,
   "metadata": {},
   "outputs": [],
   "source": [
    "gbdt = GradientBoostingClassifier(n_estimators=300)"
   ]
  },
  {
   "cell_type": "code",
   "execution_count": 47,
   "metadata": {},
   "outputs": [
    {
     "data": {
      "text/html": [
       "<style>#sk-container-id-4 {color: black;}#sk-container-id-4 pre{padding: 0;}#sk-container-id-4 div.sk-toggleable {background-color: white;}#sk-container-id-4 label.sk-toggleable__label {cursor: pointer;display: block;width: 100%;margin-bottom: 0;padding: 0.3em;box-sizing: border-box;text-align: center;}#sk-container-id-4 label.sk-toggleable__label-arrow:before {content: \"▸\";float: left;margin-right: 0.25em;color: #696969;}#sk-container-id-4 label.sk-toggleable__label-arrow:hover:before {color: black;}#sk-container-id-4 div.sk-estimator:hover label.sk-toggleable__label-arrow:before {color: black;}#sk-container-id-4 div.sk-toggleable__content {max-height: 0;max-width: 0;overflow: hidden;text-align: left;background-color: #f0f8ff;}#sk-container-id-4 div.sk-toggleable__content pre {margin: 0.2em;color: black;border-radius: 0.25em;background-color: #f0f8ff;}#sk-container-id-4 input.sk-toggleable__control:checked~div.sk-toggleable__content {max-height: 200px;max-width: 100%;overflow: auto;}#sk-container-id-4 input.sk-toggleable__control:checked~label.sk-toggleable__label-arrow:before {content: \"▾\";}#sk-container-id-4 div.sk-estimator input.sk-toggleable__control:checked~label.sk-toggleable__label {background-color: #d4ebff;}#sk-container-id-4 div.sk-label input.sk-toggleable__control:checked~label.sk-toggleable__label {background-color: #d4ebff;}#sk-container-id-4 input.sk-hidden--visually {border: 0;clip: rect(1px 1px 1px 1px);clip: rect(1px, 1px, 1px, 1px);height: 1px;margin: -1px;overflow: hidden;padding: 0;position: absolute;width: 1px;}#sk-container-id-4 div.sk-estimator {font-family: monospace;background-color: #f0f8ff;border: 1px dotted black;border-radius: 0.25em;box-sizing: border-box;margin-bottom: 0.5em;}#sk-container-id-4 div.sk-estimator:hover {background-color: #d4ebff;}#sk-container-id-4 div.sk-parallel-item::after {content: \"\";width: 100%;border-bottom: 1px solid gray;flex-grow: 1;}#sk-container-id-4 div.sk-label:hover label.sk-toggleable__label {background-color: #d4ebff;}#sk-container-id-4 div.sk-serial::before {content: \"\";position: absolute;border-left: 1px solid gray;box-sizing: border-box;top: 0;bottom: 0;left: 50%;z-index: 0;}#sk-container-id-4 div.sk-serial {display: flex;flex-direction: column;align-items: center;background-color: white;padding-right: 0.2em;padding-left: 0.2em;position: relative;}#sk-container-id-4 div.sk-item {position: relative;z-index: 1;}#sk-container-id-4 div.sk-parallel {display: flex;align-items: stretch;justify-content: center;background-color: white;position: relative;}#sk-container-id-4 div.sk-item::before, #sk-container-id-4 div.sk-parallel-item::before {content: \"\";position: absolute;border-left: 1px solid gray;box-sizing: border-box;top: 0;bottom: 0;left: 50%;z-index: -1;}#sk-container-id-4 div.sk-parallel-item {display: flex;flex-direction: column;z-index: 1;position: relative;background-color: white;}#sk-container-id-4 div.sk-parallel-item:first-child::after {align-self: flex-end;width: 50%;}#sk-container-id-4 div.sk-parallel-item:last-child::after {align-self: flex-start;width: 50%;}#sk-container-id-4 div.sk-parallel-item:only-child::after {width: 0;}#sk-container-id-4 div.sk-dashed-wrapped {border: 1px dashed gray;margin: 0 0.4em 0.5em 0.4em;box-sizing: border-box;padding-bottom: 0.4em;background-color: white;}#sk-container-id-4 div.sk-label label {font-family: monospace;font-weight: bold;display: inline-block;line-height: 1.2em;}#sk-container-id-4 div.sk-label-container {text-align: center;}#sk-container-id-4 div.sk-container {/* jupyter's `normalize.less` sets `[hidden] { display: none; }` but bootstrap.min.css set `[hidden] { display: none !important; }` so we also need the `!important` here to be able to override the default hidden behavior on the sphinx rendered scikit-learn.org. See: https://github.com/scikit-learn/scikit-learn/issues/21755 */display: inline-block !important;position: relative;}#sk-container-id-4 div.sk-text-repr-fallback {display: none;}</style><div id=\"sk-container-id-4\" class=\"sk-top-container\"><div class=\"sk-text-repr-fallback\"><pre>GradientBoostingClassifier(n_estimators=300)</pre><b>In a Jupyter environment, please rerun this cell to show the HTML representation or trust the notebook. <br />On GitHub, the HTML representation is unable to render, please try loading this page with nbviewer.org.</b></div><div class=\"sk-container\" hidden><div class=\"sk-item\"><div class=\"sk-estimator sk-toggleable\"><input class=\"sk-toggleable__control sk-hidden--visually\" id=\"sk-estimator-id-4\" type=\"checkbox\" checked><label for=\"sk-estimator-id-4\" class=\"sk-toggleable__label sk-toggleable__label-arrow\">GradientBoostingClassifier</label><div class=\"sk-toggleable__content\"><pre>GradientBoostingClassifier(n_estimators=300)</pre></div></div></div></div></div>"
      ],
      "text/plain": [
       "GradientBoostingClassifier(n_estimators=300)"
      ]
     },
     "execution_count": 47,
     "metadata": {},
     "output_type": "execute_result"
    }
   ],
   "source": [
    "gbdt.fit(X_train,Y_train)"
   ]
  },
  {
   "cell_type": "code",
   "execution_count": 48,
   "metadata": {},
   "outputs": [
    {
     "data": {
      "text/plain": [
       "0.9424157303370787"
      ]
     },
     "execution_count": 48,
     "metadata": {},
     "output_type": "execute_result"
    }
   ],
   "source": [
    "gbdt.score(X_train,Y_train)"
   ]
  },
  {
   "cell_type": "code",
   "execution_count": 49,
   "metadata": {},
   "outputs": [
    {
     "data": {
      "text/plain": [
       "0.8268156424581006"
      ]
     },
     "execution_count": 49,
     "metadata": {},
     "output_type": "execute_result"
    }
   ],
   "source": [
    "gbdt.score(X_test,Y_test)"
   ]
  },
  {
   "cell_type": "code",
   "execution_count": null,
   "metadata": {},
   "outputs": [],
   "source": []
  }
 ],
 "metadata": {
  "kernelspec": {
   "display_name": "Python 3",
   "language": "python",
   "name": "python3"
  },
  "language_info": {
   "codemirror_mode": {
    "name": "ipython",
    "version": 3
   },
   "file_extension": ".py",
   "mimetype": "text/x-python",
   "name": "python",
   "nbconvert_exporter": "python",
   "pygments_lexer": "ipython3",
   "version": "3.11.5"
  }
 },
 "nbformat": 4,
 "nbformat_minor": 2
}
