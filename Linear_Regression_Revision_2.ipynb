{
 "cells": [
  {
   "cell_type": "code",
   "execution_count": 1,
   "metadata": {},
   "outputs": [],
   "source": [
    "import numpy as np"
   ]
  },
  {
   "cell_type": "code",
   "execution_count": 2,
   "metadata": {},
   "outputs": [],
   "source": [
    "import matplotlib.pyplot as plt"
   ]
  },
  {
   "cell_type": "code",
   "execution_count": 3,
   "metadata": {},
   "outputs": [],
   "source": [
    "X = np.random.randint(0,20,100)\n",
    "noise = np.random.randn(100)*2\n",
    "Y = 3*X + 1 + noise"
   ]
  },
  {
   "cell_type": "code",
   "execution_count": 4,
   "metadata": {},
   "outputs": [
    {
     "data": {
      "text/plain": [
       "(100,)"
      ]
     },
     "execution_count": 4,
     "metadata": {},
     "output_type": "execute_result"
    }
   ],
   "source": [
    "X.shape"
   ]
  },
  {
   "cell_type": "code",
   "execution_count": 5,
   "metadata": {},
   "outputs": [
    {
     "data": {
      "text/plain": [
       "array([ 8,  9,  2,  2, 19,  7,  6,  1, 15,  0,  8, 13, 16,  4, 12, 16,  5,\n",
       "        6,  6,  1,  1,  9,  7,  0, 12,  5, 11, 17,  5,  9, 16, 16,  7,  6,\n",
       "       17,  5, 13,  6, 18, 12,  6, 19,  6,  3,  4,  4, 19,  2, 12,  1,  0,\n",
       "        1, 10, 15, 10, 11,  3,  8, 18, 18, 19, 10,  3, 19,  3,  7,  4,  2,\n",
       "       15, 19,  1, 12,  7, 18, 18, 17, 12,  2,  2,  1, 14, 17,  1,  1,  9,\n",
       "       11,  2,  7,  7, 18, 15, 17,  2, 15,  9, 13, 17, 11, 14, 15])"
      ]
     },
     "execution_count": 5,
     "metadata": {},
     "output_type": "execute_result"
    }
   ],
   "source": [
    "X"
   ]
  },
  {
   "cell_type": "code",
   "execution_count": 6,
   "metadata": {},
   "outputs": [
    {
     "data": {
      "text/plain": [
       "(100,)"
      ]
     },
     "execution_count": 6,
     "metadata": {},
     "output_type": "execute_result"
    }
   ],
   "source": [
    "Y.shape"
   ]
  },
  {
   "cell_type": "code",
   "execution_count": 7,
   "metadata": {},
   "outputs": [
    {
     "data": {
      "text/plain": [
       "array([23.35320889, 28.06519992,  4.48005721,  7.53990764, 59.07113565,\n",
       "       22.98459265, 19.94321956,  4.56199291, 48.15610135,  3.83230251,\n",
       "       25.32085114, 42.1662294 , 45.94614309, 12.57468633, 37.67582503,\n",
       "       49.39270991, 16.27463976, 19.69627583, 19.34228719,  2.43875787,\n",
       "        0.99733583, 31.31144126, 23.27757086,  4.19277222, 37.07447339,\n",
       "       14.86732848, 35.54144381, 49.96065249, 13.32469795, 29.89913226,\n",
       "       46.800826  , 46.15533443, 20.48768463, 19.97828885, 52.25722533,\n",
       "       14.51465897, 40.29256   , 17.35978278, 54.62331117, 37.41687044,\n",
       "       18.96964561, 56.72780472, 20.90307852,  6.38098951, 13.15461398,\n",
       "       13.10136615, 63.95495777,  8.14114967, 39.92152002,  5.38380539,\n",
       "        1.25881313,  1.44096509, 32.76255281, 45.57588975, 31.10222809,\n",
       "       34.76168785,  9.03441537, 23.91235871, 53.54886096, 53.75862748,\n",
       "       59.84463483, 31.83265606,  5.00521488, 58.22418829, 10.00050746,\n",
       "       21.35252417, 14.15005939,  6.86838661, 43.04718048, 58.76144915,\n",
       "        6.26872866, 34.36716727, 23.65557844, 56.78848943, 53.5026065 ,\n",
       "       52.04662887, 39.847888  ,  8.43584931,  8.03981722,  1.65656636,\n",
       "       40.80919184, 48.75828201,  3.81940979,  5.38000447, 26.38634756,\n",
       "       30.66608845,  5.80965002, 20.80591665, 23.91470314, 53.45891603,\n",
       "       43.71971787, 49.78293102,  5.6036855 , 47.27441411, 25.75380522,\n",
       "       40.45888028, 51.06850163, 35.51192276, 43.02016927, 43.48403922])"
      ]
     },
     "execution_count": 7,
     "metadata": {},
     "output_type": "execute_result"
    }
   ],
   "source": [
    "Y"
   ]
  },
  {
   "cell_type": "code",
   "execution_count": 8,
   "metadata": {},
   "outputs": [
    {
     "data": {
      "image/png": "[encoded data removed]",
      "text/plain": [
       "<Figure size 640x480 with 1 Axes>"
      ]
     },
     "metadata": {},
     "output_type": "display_data"
    }
   ],
   "source": [
    "plt.scatter(X,Y)\n",
    "plt.show()"
   ]
  },
  {
   "cell_type": "code",
   "execution_count": 9,
   "metadata": {},
   "outputs": [],
   "source": [
    "X = X.reshape(100,1)"
   ]
  },
  {
   "cell_type": "code",
   "execution_count": 10,
   "metadata": {},
   "outputs": [
    {
     "data": {
      "text/plain": [
       "(100, 1)"
      ]
     },
     "execution_count": 10,
     "metadata": {},
     "output_type": "execute_result"
    }
   ],
   "source": [
    "X.shape"
   ]
  },
  {
   "cell_type": "code",
   "execution_count": 11,
   "metadata": {},
   "outputs": [],
   "source": [
    "def hypothesis(x,weights):\n",
    "    y_hat = weights[1]*x + weights[0]\n",
    "    return y_hat"
   ]
  },
  {
   "cell_type": "code",
   "execution_count": 12,
   "metadata": {},
   "outputs": [
    {
     "data": {
      "text/plain": [
       "7.5"
      ]
     },
     "execution_count": 12,
     "metadata": {},
     "output_type": "execute_result"
    }
   ],
   "source": [
    "hypothesis(2.5 , [0,3])"
   ]
  },
  {
   "cell_type": "code",
   "execution_count": 13,
   "metadata": {},
   "outputs": [],
   "source": [
    "def error(X,Y,weights):\n",
    "    n = X.shape[0]\n",
    "    total_err = 0.0\n",
    "    for i in range(n):\n",
    "        y_hat_i = hypothesis(X[i],weights)\n",
    "        total_err += (Y[i] - y_hat_i)**2\n",
    "    return total_err/n"
   ]
  },
  {
   "cell_type": "code",
   "execution_count": 14,
   "metadata": {},
   "outputs": [
    {
     "data": {
      "text/plain": [
       "array([0., 0., 0., 0., 0., 0., 0., 0., 0., 0., 0., 0., 0., 0., 0.])"
      ]
     },
     "execution_count": 14,
     "metadata": {},
     "output_type": "execute_result"
    }
   ],
   "source": [
    "np.zeros(15)"
   ]
  },
  {
   "cell_type": "code",
   "execution_count": 15,
   "metadata": {},
   "outputs": [],
   "source": [
    "def gradient(X,Y,weights):\n",
    "    n = X.shape[0]\n",
    "    grad = np.zeros(2)\n",
    "    for i in range(n):\n",
    "        y_hat_i = hypothesis(X[i] , weights)\n",
    "        grad[0] += (y_hat_i - Y[i])\n",
    "        grad[1] += ((y_hat_i - Y[i])*X[i])\n",
    "    return 2*grad/n"
   ]
  },
  {
   "cell_type": "code",
   "execution_count": 17,
   "metadata": {},
   "outputs": [],
   "source": [
    "def gradient_descent(X,Y,max_itr = 50 , learning_rate = 0.001):\n",
    "    weights = np.random.randn(2)\n",
    "    error_list = []\n",
    "    for i in range(max_itr):\n",
    "        e = error(X,Y,weights)\n",
    "        error_list.append(e)\n",
    "        grad = gradient(X,Y,weights)\n",
    "        weights[0] = weights[0] - learning_rate*grad[0]\n",
    "        weights[1] = weights[1] - learning_rate*grad[1]\n",
    "        \n",
    "    return weights,error_list"
   ]
  },
  {
   "cell_type": "code",
   "execution_count": 18,
   "metadata": {},
   "outputs": [
    {
     "name": "stderr",
     "output_type": "stream",
     "text": [
      "C:\\Users\\HP\\AppData\\Local\\Temp\\ipykernel_8132\\1873667966.py:6: DeprecationWarning: Conversion of an array with ndim > 0 to a scalar is deprecated, and will error in future. Ensure you extract a single element from your array before performing this operation. (Deprecated NumPy 1.25.)\n",
      "  grad[0] += (y_hat_i - Y[i])\n",
      "C:\\Users\\HP\\AppData\\Local\\Temp\\ipykernel_8132\\1873667966.py:7: DeprecationWarning: Conversion of an array with ndim > 0 to a scalar is deprecated, and will error in future. Ensure you extract a single element from your array before performing this operation. (Deprecated NumPy 1.25.)\n",
      "  grad[1] += ((y_hat_i - Y[i])*X[i])\n"
     ]
    }
   ],
   "source": [
    "opt_weights , error_list = gradient_descent(X,Y)"
   ]
  },
  {
   "cell_type": "code",
   "execution_count": 19,
   "metadata": {},
   "outputs": [
    {
     "data": {
      "text/plain": [
       "array([1., 3.])"
      ]
     },
     "execution_count": 19,
     "metadata": {},
     "output_type": "execute_result"
    }
   ],
   "source": [
    "opt_weights.round()"
   ]
  },
  {
   "cell_type": "code",
   "execution_count": 20,
   "metadata": {},
   "outputs": [
    {
     "data": {
      "image/png": "[encoded data removed]",
      "text/plain": [
       "<Figure size 640x480 with 1 Axes>"
      ]
     },
     "metadata": {},
     "output_type": "display_data"
    }
   ],
   "source": [
    "plt.plot(error_list)\n",
    "plt.show()"
   ]
  },
  {
   "cell_type": "code",
   "execution_count": 21,
   "metadata": {},
   "outputs": [
    {
     "data": {
      "text/plain": [
       "array([24.75864455])"
      ]
     },
     "execution_count": 21,
     "metadata": {},
     "output_type": "execute_result"
    }
   ],
   "source": [
    "hypothesis(X[0] , opt_weights)"
   ]
  },
  {
   "cell_type": "code",
   "execution_count": 22,
   "metadata": {},
   "outputs": [
    {
     "data": {
      "text/plain": [
       "23.35320889337378"
      ]
     },
     "execution_count": 22,
     "metadata": {},
     "output_type": "execute_result"
    }
   ],
   "source": [
    "Y[0]"
   ]
  },
  {
   "cell_type": "code",
   "execution_count": 23,
   "metadata": {},
   "outputs": [
    {
     "data": {
      "text/plain": [
       "0.6893973157607088"
      ]
     },
     "execution_count": 23,
     "metadata": {},
     "output_type": "execute_result"
    }
   ],
   "source": [
    "x = 0\n",
    "opt_weights[1]*x + opt_weights[0]"
   ]
  },
  {
   "cell_type": "code",
   "execution_count": 24,
   "metadata": {},
   "outputs": [
    {
     "data": {
      "text/plain": [
       "57.85385949480447"
      ]
     },
     "execution_count": 24,
     "metadata": {},
     "output_type": "execute_result"
    }
   ],
   "source": [
    "x = 19\n",
    "opt_weights[1]*x + opt_weights[0]"
   ]
  },
  {
   "cell_type": "code",
   "execution_count": 25,
   "metadata": {},
   "outputs": [],
   "source": [
    "x1,y1 = 0,0.68\n",
    "x2,y2 = 19,57.85"
   ]
  },
  {
   "cell_type": "code",
   "execution_count": 26,
   "metadata": {},
   "outputs": [
    {
     "data": {
      "text/plain": [
       "[]"
      ]
     },
     "execution_count": 26,
     "metadata": {},
     "output_type": "execute_result"
    },
    {
     "data": {
      "image/png": "[encoded data removed]",
      "text/plain": [
       "<Figure size 640x480 with 1 Axes>"
      ]
     },
     "metadata": {},
     "output_type": "display_data"
    }
   ],
   "source": [
    "plt.scatter(X,Y)\n",
    "plt.plot([x1,x2],[y1,y2],color = 'red')\n",
    "plt.plot()"
   ]
  },
  {
   "cell_type": "code",
   "execution_count": null,
   "metadata": {},
   "outputs": [],
   "source": []
  }
 ],
 "metadata": {
  "kernelspec": {
   "display_name": "Python 3",
   "language": "python",
   "name": "python3"
  },
  "language_info": {
   "codemirror_mode": {
    "name": "ipython",
    "version": 3
   },
   "file_extension": ".py",
   "mimetype": "text/x-python",
   "name": "python",
   "nbconvert_exporter": "python",
   "pygments_lexer": "ipython3",
   "version": "3.11.5"
  }
 },
 "nbformat": 4,
 "nbformat_minor": 2
}
