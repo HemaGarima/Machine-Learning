{
 "cells": [
  {
   "cell_type": "code",
   "execution_count": 1,
   "metadata": {},
   "outputs": [],
   "source": [
    "import numpy as np\n",
    "import matplotlib.pyplot as plt"
   ]
  },
  {
   "cell_type": "code",
   "execution_count": 41,
   "metadata": {},
   "outputs": [],
   "source": [
    "x = np.random.randint(0,20,100)"
   ]
  },
  {
   "cell_type": "code",
   "execution_count": 42,
   "metadata": {},
   "outputs": [],
   "source": [
    "noise = np.random.randn(100)"
   ]
  },
  {
   "cell_type": "code",
   "execution_count": 43,
   "metadata": {},
   "outputs": [
    {
     "data": {
      "text/plain": [
       "array([ 5, 14, 10,  1, 19, 10, 10, 11,  8,  5,  7,  8,  8, 10,  0, 16,  7,\n",
       "        5, 16, 13, 18,  4, 14,  1, 13, 13,  1,  9, 10,  2, 14,  4, 10,  3,\n",
       "       17,  1,  4,  0, 11, 18, 11, 17,  6, 14,  5, 16, 16, 14, 16, 19,  5,\n",
       "        3,  9,  9, 12, 14, 16, 17, 17, 15, 15, 14,  7, 14, 12, 13, 13,  6,\n",
       "       13,  9,  0, 15,  3,  1,  7, 16,  8, 18, 17,  2, 14,  4,  5,  7, 17,\n",
       "        5,  3, 19,  7,  1,  0, 16,  8, 18,  1,  5, 15,  9, 18,  5])"
      ]
     },
     "execution_count": 43,
     "metadata": {},
     "output_type": "execute_result"
    }
   ],
   "source": [
    "x"
   ]
  },
  {
   "cell_type": "code",
   "execution_count": 44,
   "metadata": {},
   "outputs": [],
   "source": [
    "y = 3*x + 1 + noise*2"
   ]
  },
  {
   "cell_type": "code",
   "execution_count": 45,
   "metadata": {},
   "outputs": [
    {
     "data": {
      "text/plain": [
       "array([12.93453664, 40.88452455, 31.51591816,  6.11411337, 58.98942181,\n",
       "       32.75363648, 29.89311113, 33.0575441 , 21.64252415, 19.22696917,\n",
       "       24.59599407, 24.90433547, 24.40541619, 29.9923989 , -0.347855  ,\n",
       "       47.48489785, 22.40996658, 12.33022532, 49.99187953, 41.75801768,\n",
       "       53.95215211, 12.81250762, 43.552897  ,  4.64724059, 40.8979668 ,\n",
       "       39.35432235,  3.30041263, 29.98670173, 31.15292324,  7.23211173,\n",
       "       44.30669301, 10.31374136, 32.15492734, 11.33846864, 49.16880268,\n",
       "        4.57304177, 15.86064281,  1.03240981, 33.06420184, 55.31750166,\n",
       "       33.40829061, 48.65968204, 19.22504461, 41.94654013, 15.41578775,\n",
       "       48.53068995, 48.67348134, 47.20347909, 46.92564836, 61.47369586,\n",
       "       17.70238172,  9.47190267, 29.25189011, 25.11411404, 35.0662828 ,\n",
       "       40.78803156, 49.71107566, 50.66751123, 51.91727209, 43.85105688,\n",
       "       46.82668162, 43.13614371, 18.04557053, 43.48048594, 35.61366764,\n",
       "       38.85493969, 39.57555834, 17.73343941, 39.70079388, 27.38221349,\n",
       "        2.08103697, 46.03257589,  8.50651776,  5.00784155, 21.00795638,\n",
       "       49.35335195, 25.76034836, 54.82864376, 55.44575944,  9.59710882,\n",
       "       43.37784225, 11.58664553, 16.60561912, 24.83205462, 52.1236967 ,\n",
       "       14.3345695 , 13.708493  , 58.90436474, 26.1229887 ,  1.46852468,\n",
       "        1.1325269 , 47.75976844, 23.84778098, 56.25157086,  3.3268882 ,\n",
       "       12.22948852, 46.26721466, 26.06709067, 58.14509522, 15.72016733])"
      ]
     },
     "execution_count": 45,
     "metadata": {},
     "output_type": "execute_result"
    }
   ],
   "source": [
    "y"
   ]
  },
  {
   "cell_type": "code",
   "execution_count": 46,
   "metadata": {},
   "outputs": [
    {
     "data": {
      "text/plain": [
       "(100,)"
      ]
     },
     "execution_count": 46,
     "metadata": {},
     "output_type": "execute_result"
    }
   ],
   "source": [
    "x.shape"
   ]
  },
  {
   "cell_type": "code",
   "execution_count": 47,
   "metadata": {},
   "outputs": [
    {
     "data": {
      "text/plain": [
       "(100,)"
      ]
     },
     "execution_count": 47,
     "metadata": {},
     "output_type": "execute_result"
    }
   ],
   "source": [
    "y.shape"
   ]
  },
  {
   "cell_type": "code",
   "execution_count": 48,
   "metadata": {},
   "outputs": [
    {
     "data": {
      "image/png": "[encoded data removed]",
      "text/plain": [
       "<Figure size 640x480 with 1 Axes>"
      ]
     },
     "metadata": {},
     "output_type": "display_data"
    }
   ],
   "source": [
    "plt.scatter(x,y)\n",
    "plt.show()"
   ]
  },
  {
   "cell_type": "code",
   "execution_count": null,
   "metadata": {},
   "outputs": [],
   "source": []
  }
 ],
 "metadata": {
  "kernelspec": {
   "display_name": "Python 3",
   "language": "python",
   "name": "python3"
  },
  "language_info": {
   "codemirror_mode": {
    "name": "ipython",
    "version": 3
   },
   "file_extension": ".py",
   "mimetype": "text/x-python",
   "name": "python",
   "nbconvert_exporter": "python",
   "pygments_lexer": "ipython3",
   "version": "3.11.5"
  }
 },
 "nbformat": 4,
 "nbformat_minor": 2
}
