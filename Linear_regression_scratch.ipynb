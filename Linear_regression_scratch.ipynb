{
  "cells": [
    {
      "cell_type": "code",
      "execution_count": 1,
      "metadata": {
        "id": "6Jx-AfdVhSLV"
      },
      "outputs": [],
      "source": [
        "import numpy as np\n",
        "import matplotlib.pyplot as plt"
      ]
    },
    {
      "cell_type": "code",
      "execution_count": 2,
      "metadata": {
        "id": "j1uC2FCYhcLP"
      },
      "outputs": [],
      "source": [
        "X = np.random.randint(0, 20, 100)\n",
        "noise = np.random.randn(100)*2\n",
        "Y = 3*X + 1 + noise"
      ]
    },
    {
      "cell_type": "code",
      "execution_count": 3,
      "metadata": {
        "colab": {
          "base_uri": "https://localhost:8080/"
        },
        "id": "I54j-62Ihc9t",
        "outputId": "e8d46192-7a73-429a-fd4e-19875073b441"
      },
      "outputs": [
        {
          "data": {
            "text/plain": [
              "(100,)"
            ]
          },
          "execution_count": 3,
          "metadata": {},
          "output_type": "execute_result"
        }
      ],
      "source": [
        "X.shape"
      ]
    },
    {
      "cell_type": "code",
      "execution_count": 4,
      "metadata": {
        "colab": {
          "base_uri": "https://localhost:8080/"
        },
        "id": "E_PT16k3hd4W",
        "outputId": "e66664cd-a70d-4e08-8a22-488ad6687413"
      },
      "outputs": [
        {
          "data": {
            "text/plain": [
              "array([ 1, 13,  8,  9,  1,  8,  2, 13,  8, 16, 18, 10, 15, 13, 14, 17, 10,\n",
              "        1, 19, 17, 17, 10,  9, 10, 14, 13, 13, 13, 17,  7, 14,  1,  8,  4,\n",
              "        2,  8, 15, 19,  3,  5,  1, 14,  7,  7, 11,  0, 13,  3, 11, 10, 13,\n",
              "       13, 16,  7, 15,  9,  9,  3,  3, 17, 11, 17, 17,  7,  0,  9,  8,  0,\n",
              "       15,  4, 12,  9,  0, 10, 16,  8, 15,  3,  0,  2, 16, 10, 17,  9, 12,\n",
              "        5, 13, 19, 16, 11, 15,  2,  8,  2, 13, 19,  8,  8, 16, 19])"
            ]
          },
          "execution_count": 4,
          "metadata": {},
          "output_type": "execute_result"
        }
      ],
      "source": [
        "X"
      ]
    },
    {
      "cell_type": "code",
      "execution_count": 5,
      "metadata": {
        "colab": {
          "base_uri": "https://localhost:8080/"
        },
        "id": "z11HMCk0hex-",
        "outputId": "1d7af4cb-7dad-4b3c-8028-419ab5b992fe"
      },
      "outputs": [
        {
          "data": {
            "text/plain": [
              "(100,)"
            ]
          },
          "execution_count": 5,
          "metadata": {},
          "output_type": "execute_result"
        }
      ],
      "source": [
        "Y.shape"
      ]
    },
    {
      "cell_type": "code",
      "execution_count": 6,
      "metadata": {
        "colab": {
          "base_uri": "https://localhost:8080/",
          "height": 430
        },
        "id": "Fb3HeJ6xhfsd",
        "outputId": "a0a44d35-1331-4d10-e47a-b79f0119f4c5"
      },
      "outputs": [
        {
          "data": {
            "image/png": "[encoded data removed]",
            "text/plain": [
              "<Figure size 640x480 with 1 Axes>"
            ]
          },
          "metadata": {},
          "output_type": "display_data"
        }
      ],
      "source": [
        "plt.scatter(X, Y)\n",
        "plt.show()"
      ]
    },
    {
      "cell_type": "code",
      "execution_count": 7,
      "metadata": {
        "colab": {
          "base_uri": "https://localhost:8080/"
        },
        "id": "kCvJtyBzhgvl",
        "outputId": "9e7df266-e242-4ce1-91e1-c518fa49c506"
      },
      "outputs": [
        {
          "data": {
            "text/plain": [
              "(100,)"
            ]
          },
          "execution_count": 7,
          "metadata": {},
          "output_type": "execute_result"
        }
      ],
      "source": [
        "X.shape"
      ]
    },
    {
      "cell_type": "code",
      "execution_count": 8,
      "metadata": {
        "id": "rRTXc7Enhh8t"
      },
      "outputs": [],
      "source": [
        "X = X.reshape(100, 1)"
      ]
    },
    {
      "cell_type": "code",
      "execution_count": 9,
      "metadata": {
        "colab": {
          "base_uri": "https://localhost:8080/"
        },
        "id": "gQd4tV6Lhi7s",
        "outputId": "c3b4f87d-e282-44c3-af57-2f34e4881d10"
      },
      "outputs": [
        {
          "data": {
            "text/plain": [
              "(100, 1)"
            ]
          },
          "execution_count": 9,
          "metadata": {},
          "output_type": "execute_result"
        }
      ],
      "source": [
        "X.shape"
      ]
    },
    {
      "cell_type": "code",
      "execution_count": null,
      "metadata": {
        "id": "KdvICTKthwEF"
      },
      "outputs": [],
      "source": []
    },
    {
      "cell_type": "code",
      "execution_count": null,
      "metadata": {
        "id": "Og_5CiNkhwBe"
      },
      "outputs": [],
      "source": []
    },
    {
      "cell_type": "code",
      "execution_count": 10,
      "metadata": {
        "id": "J5VNTYwEhv_U"
      },
      "outputs": [],
      "source": [
        "def hypothesis(x, weights):\n",
        "    '''\n",
        "    x : real input value (time spent)\n",
        "    weights : list of w0 and w\n",
        "    '''\n",
        "    y_hat = weights[0] + weights[1]*x\n",
        "    return y_hat"
      ]
    },
    {
      "cell_type": "code",
      "execution_count": 11,
      "metadata": {
        "colab": {
          "base_uri": "https://localhost:8080/"
        },
        "id": "F8ivu3cXhv9G",
        "outputId": "de0ebbe7-8e69-4826-fc37-0fe92d677d98"
      },
      "outputs": [
        {
          "data": {
            "text/plain": [
              "7.5"
            ]
          },
          "execution_count": 11,
          "metadata": {},
          "output_type": "execute_result"
        }
      ],
      "source": [
        "# 2.5\n",
        "hypothesis(2.5, [0, 3])"
      ]
    },
    {
      "cell_type": "code",
      "execution_count": 12,
      "metadata": {
        "id": "8V326bU2hkC2"
      },
      "outputs": [],
      "source": [
        "def error(X, Y, weights):\n",
        "    '''\n",
        "    X : input n data points\n",
        "    Y : target n data points\n",
        "    weights : list of w0 and w1\n",
        "    '''\n",
        "    n = X.shape[0]\n",
        "    total_err = 0.0\n",
        "    for i in range(n):\n",
        "        y_hat_i = hypothesis(X[i], weights)\n",
        "        total_err += (Y[i] - y_hat_i)**2\n",
        "\n",
        "    return total_err/n"
      ]
    },
    {
      "cell_type": "code",
      "execution_count": 13,
      "metadata": {
        "colab": {
          "base_uri": "https://localhost:8080/"
        },
        "id": "e5c7ntAHwWK9",
        "outputId": "b7af5ce6-1c7f-44ae-ac07-a8f78e588242"
      },
      "outputs": [
        {
          "data": {
            "text/plain": [
              "array([0., 0., 0., 0., 0., 0., 0., 0., 0., 0., 0., 0., 0., 0., 0.])"
            ]
          },
          "execution_count": 13,
          "metadata": {},
          "output_type": "execute_result"
        }
      ],
      "source": [
        "np.zeros(15)"
      ]
    },
    {
      "cell_type": "code",
      "execution_count": 14,
      "metadata": {
        "id": "HsLEEy0Lhy9k"
      },
      "outputs": [],
      "source": [
        "def gradient(X, Y, weights):\n",
        "    n = X.shape[0]\n",
        "    grad = np.zeros(2) # np.array([0,0])\n",
        "\n",
        "    for i in range(n):\n",
        "        y_hat_i = hypothesis(X[i], weights)\n",
        "\n",
        "        grad[0] += (y_hat_i - Y[i])\n",
        "\n",
        "        grad[1] += ((y_hat_i - Y[i])*X[i])\n",
        "\n",
        "    return 2*grad/n"
      ]
    },
    {
      "cell_type": "code",
      "execution_count": 15,
      "metadata": {
        "id": "8XJDzSuDh0dm"
      },
      "outputs": [],
      "source": [
        "def gradient_descent(X, Y, max_itr = 50, learning_rate = 0.001):\n",
        "    # step 1 : init() randomly\n",
        "\n",
        "    weights = np.random.randn(2)\n",
        "\n",
        "    error_list = []\n",
        "\n",
        "    # step 2 repeate until convergence\n",
        "    for i in range(max_itr):\n",
        "\n",
        "        e = error(X, Y, weights)\n",
        "        error_list.append(e)\n",
        "\n",
        "        grad = gradient(X, Y, weights)\n",
        "\n",
        "        weights[0] = weights[0] - learning_rate*grad[0]\n",
        "        weights[1] = weights[1] - learning_rate*grad[1]\n",
        "\n",
        "\n",
        "    return weights, error_list"
      ]
    },
    {
      "cell_type": "code",
      "execution_count": 16,
      "metadata": {
        "id": "wZqEfRWVh1aj"
      },
      "outputs": [
        {
          "name": "stderr",
          "output_type": "stream",
          "text": [
            "C:\\Users\\HP\\AppData\\Local\\Temp\\ipykernel_5560\\2435903567.py:8: DeprecationWarning: Conversion of an array with ndim > 0 to a scalar is deprecated, and will error in future. Ensure you extract a single element from your array before performing this operation. (Deprecated NumPy 1.25.)\n",
            "  grad[0] += (y_hat_i - Y[i])\n",
            "C:\\Users\\HP\\AppData\\Local\\Temp\\ipykernel_5560\\2435903567.py:10: DeprecationWarning: Conversion of an array with ndim > 0 to a scalar is deprecated, and will error in future. Ensure you extract a single element from your array before performing this operation. (Deprecated NumPy 1.25.)\n",
            "  grad[1] += ((y_hat_i - Y[i])*X[i])\n"
          ]
        }
      ],
      "source": [
        "opt_weights, error_list = gradient_descent(X, Y)"
      ]
    },
    {
      "cell_type": "code",
      "execution_count": 17,
      "metadata": {
        "colab": {
          "base_uri": "https://localhost:8080/"
        },
        "id": "kFvrm_JEh2Yi",
        "outputId": "f90c6ce2-3486-4ecf-dd87-f61f315b37c7"
      },
      "outputs": [
        {
          "data": {
            "text/plain": [
              "array([2., 3.])"
            ]
          },
          "execution_count": 17,
          "metadata": {},
          "output_type": "execute_result"
        }
      ],
      "source": [
        "opt_weights.round()"
      ]
    },
    {
      "cell_type": "code",
      "execution_count": 18,
      "metadata": {
        "colab": {
          "base_uri": "https://localhost:8080/",
          "height": 448
        },
        "id": "AKBv0ltBh3ia",
        "outputId": "b1f1213b-0391-4e05-c4ba-5c413287f304"
      },
      "outputs": [
        {
          "data": {
            "text/plain": [
              "[<matplotlib.lines.Line2D at 0x20d5df9d990>]"
            ]
          },
          "execution_count": 18,
          "metadata": {},
          "output_type": "execute_result"
        },
        {
          "data": {
            "image/png": "[encoded data removed]",
            "text/plain": [
              "<Figure size 640x480 with 1 Axes>"
            ]
          },
          "metadata": {},
          "output_type": "display_data"
        }
      ],
      "source": [
        "plt.plot(error_list)"
      ]
    },
    {
      "cell_type": "code",
      "execution_count": null,
      "metadata": {
        "id": "dUEBTj4rh8Qu"
      },
      "outputs": [],
      "source": []
    },
    {
      "cell_type": "code",
      "execution_count": null,
      "metadata": {
        "id": "iehzdju9iF_j"
      },
      "outputs": [],
      "source": []
    },
    {
      "cell_type": "code",
      "execution_count": 19,
      "metadata": {
        "colab": {
          "base_uri": "https://localhost:8080/"
        },
        "id": "_-fYLs0MiF88",
        "outputId": "bca78883-a217-4d0e-e517-f64d526fad9f"
      },
      "outputs": [
        {
          "data": {
            "text/plain": [
              "array([4.49201162])"
            ]
          },
          "execution_count": 19,
          "metadata": {},
          "output_type": "execute_result"
        }
      ],
      "source": [
        "# prediction\n",
        "hypothesis(X[0], opt_weights)"
      ]
    },
    {
      "cell_type": "code",
      "execution_count": 20,
      "metadata": {
        "colab": {
          "base_uri": "https://localhost:8080/"
        },
        "id": "oagVagvsiF2_",
        "outputId": "26727baa-d1ec-4266-dce9-10c78b65f50b"
      },
      "outputs": [
        {
          "data": {
            "text/plain": [
              "5.6389973896366525"
            ]
          },
          "execution_count": 20,
          "metadata": {},
          "output_type": "execute_result"
        }
      ],
      "source": [
        "Y[0]"
      ]
    },
    {
      "cell_type": "code",
      "execution_count": null,
      "metadata": {
        "id": "ZBUdgGXMiHpl"
      },
      "outputs": [],
      "source": []
    },
    {
      "cell_type": "code",
      "execution_count": 21,
      "metadata": {
        "colab": {
          "base_uri": "https://localhost:8080/"
        },
        "id": "Rx-r0g_eidJY",
        "outputId": "d6782377-4e3a-4f97-81cc-addc3828f657"
      },
      "outputs": [
        {
          "data": {
            "text/plain": [
              "1.5201488670962238"
            ]
          },
          "execution_count": 21,
          "metadata": {},
          "output_type": "execute_result"
        }
      ],
      "source": [
        "x = 0\n",
        "opt_weights[1]*x + opt_weights[0]  # y  = w*x + w0  (y = m x + c)"
      ]
    },
    {
      "cell_type": "code",
      "execution_count": 22,
      "metadata": {
        "colab": {
          "base_uri": "https://localhost:8080/"
        },
        "id": "PtXMN9IYidHI",
        "outputId": "98aecbb7-30b2-409b-d91d-2272027d4311"
      },
      "outputs": [
        {
          "data": {
            "text/plain": [
              "57.985541261835024"
            ]
          },
          "execution_count": 22,
          "metadata": {},
          "output_type": "execute_result"
        }
      ],
      "source": [
        "x = 19\n",
        "opt_weights[1]*x + opt_weights[0]  # y  = w*x + w0  (y = m x + c)"
      ]
    },
    {
      "cell_type": "code",
      "execution_count": 23,
      "metadata": {
        "id": "kLtakMeqidEo"
      },
      "outputs": [],
      "source": [
        "x1, y1 = 0, 0.69\n",
        "x2, y2 = 19, 58.21"
      ]
    },
    {
      "cell_type": "code",
      "execution_count": 24,
      "metadata": {
        "colab": {
          "base_uri": "https://localhost:8080/",
          "height": 448
        },
        "id": "CKRsjM2qitEN",
        "outputId": "361f49be-4229-4785-9434-e632fc4361cf"
      },
      "outputs": [
        {
          "data": {
            "text/plain": [
              "[]"
            ]
          },
          "execution_count": 24,
          "metadata": {},
          "output_type": "execute_result"
        },
        {
          "data": {
            "image/png": "[encoded data removed]",
            "text/plain": [
              "<Figure size 640x480 with 1 Axes>"
            ]
          },
          "metadata": {},
          "output_type": "display_data"
        }
      ],
      "source": [
        "plt.scatter(X, Y)\n",
        "plt.plot([x1,x2], [y1, y2], color='red')\n",
        "plt.plot()"
      ]
    },
    {
      "cell_type": "code",
      "execution_count": null,
      "metadata": {
        "id": "S-XhFIodiuAQ"
      },
      "outputs": [],
      "source": []
    }
  ],
  "metadata": {
    "colab": {
      "provenance": []
    },
    "kernelspec": {
      "display_name": "Python 3",
      "name": "python3"
    },
    "language_info": {
      "codemirror_mode": {
        "name": "ipython",
        "version": 3
      },
      "file_extension": ".py",
      "mimetype": "text/x-python",
      "name": "python",
      "nbconvert_exporter": "python",
      "pygments_lexer": "ipython3",
      "version": "3.11.5"
    }
  },
  "nbformat": 4,
  "nbformat_minor": 0
}
