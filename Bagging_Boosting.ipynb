{
 "cells": [
  {
   "cell_type": "code",
   "execution_count": 1,
   "metadata": {},
   "outputs": [],
   "source": [
    "import numpy as np\n",
    "import pandas as pd"
   ]
  },
  {
   "cell_type": "code",
   "execution_count": 2,
   "metadata": {},
   "outputs": [],
   "source": [
    "titanic = pd.read_csv('titanic.csv')"
   ]
  },
  {
   "cell_type": "code",
   "execution_count": 3,
   "metadata": {},
   "outputs": [
    {
     "data": {
      "text/html": [
       "<div>\n",
       "<style scoped>\n",
       "    .dataframe tbody tr th:only-of-type {\n",
       "        vertical-align: middle;\n",
       "    }\n",
       "\n",
       "    .dataframe tbody tr th {\n",
       "        vertical-align: top;\n",
       "    }\n",
       "\n",
       "    .dataframe thead th {\n",
       "        text-align: right;\n",
       "    }\n",
       "</style>\n",
       "<table border=\"1\" class=\"dataframe\">\n",
       "  <thead>\n",
       "    <tr style=\"text-align: right;\">\n",
       "      <th></th>\n",
       "      <th>PassengerId</th>\n",
       "      <th>Survived</th>\n",
       "      <th>Pclass</th>\n",
       "      <th>Name</th>\n",
       "      <th>Sex</th>\n",
       "      <th>Age</th>\n",
       "      <th>SibSp</th>\n",
       "      <th>Parch</th>\n",
       "      <th>Ticket</th>\n",
       "      <th>Fare</th>\n",
       "      <th>Cabin</th>\n",
       "      <th>Embarked</th>\n",
       "    </tr>\n",
       "  </thead>\n",
       "  <tbody>\n",
       "    <tr>\n",
       "      <th>0</th>\n",
       "      <td>1</td>\n",
       "      <td>0</td>\n",
       "      <td>3</td>\n",
       "      <td>Braund, Mr. Owen Harris</td>\n",
       "      <td>male</td>\n",
       "      <td>22.0</td>\n",
       "      <td>1</td>\n",
       "      <td>0</td>\n",
       "      <td>A/5 21171</td>\n",
       "      <td>7.2500</td>\n",
       "      <td>NaN</td>\n",
       "      <td>S</td>\n",
       "    </tr>\n",
       "    <tr>\n",
       "      <th>1</th>\n",
       "      <td>2</td>\n",
       "      <td>1</td>\n",
       "      <td>1</td>\n",
       "      <td>Cumings, Mrs. John Bradley (Florence Briggs Th...</td>\n",
       "      <td>female</td>\n",
       "      <td>38.0</td>\n",
       "      <td>1</td>\n",
       "      <td>0</td>\n",
       "      <td>PC 17599</td>\n",
       "      <td>71.2833</td>\n",
       "      <td>C85</td>\n",
       "      <td>C</td>\n",
       "    </tr>\n",
       "    <tr>\n",
       "      <th>2</th>\n",
       "      <td>3</td>\n",
       "      <td>1</td>\n",
       "      <td>3</td>\n",
       "      <td>Heikkinen, Miss. Laina</td>\n",
       "      <td>female</td>\n",
       "      <td>26.0</td>\n",
       "      <td>0</td>\n",
       "      <td>0</td>\n",
       "      <td>STON/O2. 3101282</td>\n",
       "      <td>7.9250</td>\n",
       "      <td>NaN</td>\n",
       "      <td>S</td>\n",
       "    </tr>\n",
       "    <tr>\n",
       "      <th>3</th>\n",
       "      <td>4</td>\n",
       "      <td>1</td>\n",
       "      <td>1</td>\n",
       "      <td>Futrelle, Mrs. Jacques Heath (Lily May Peel)</td>\n",
       "      <td>female</td>\n",
       "      <td>35.0</td>\n",
       "      <td>1</td>\n",
       "      <td>0</td>\n",
       "      <td>113803</td>\n",
       "      <td>53.1000</td>\n",
       "      <td>C123</td>\n",
       "      <td>S</td>\n",
       "    </tr>\n",
       "    <tr>\n",
       "      <th>4</th>\n",
       "      <td>5</td>\n",
       "      <td>0</td>\n",
       "      <td>3</td>\n",
       "      <td>Allen, Mr. William Henry</td>\n",
       "      <td>male</td>\n",
       "      <td>35.0</td>\n",
       "      <td>0</td>\n",
       "      <td>0</td>\n",
       "      <td>373450</td>\n",
       "      <td>8.0500</td>\n",
       "      <td>NaN</td>\n",
       "      <td>S</td>\n",
       "    </tr>\n",
       "  </tbody>\n",
       "</table>\n",
       "</div>"
      ],
      "text/plain": [
       "   PassengerId  Survived  Pclass  \\\n",
       "0            1         0       3   \n",
       "1            2         1       1   \n",
       "2            3         1       3   \n",
       "3            4         1       1   \n",
       "4            5         0       3   \n",
       "\n",
       "                                                Name     Sex   Age  SibSp  \\\n",
       "0                            Braund, Mr. Owen Harris    male  22.0      1   \n",
       "1  Cumings, Mrs. John Bradley (Florence Briggs Th...  female  38.0      1   \n",
       "2                             Heikkinen, Miss. Laina  female  26.0      0   \n",
       "3       Futrelle, Mrs. Jacques Heath (Lily May Peel)  female  35.0      1   \n",
       "4                           Allen, Mr. William Henry    male  35.0      0   \n",
       "\n",
       "   Parch            Ticket     Fare Cabin Embarked  \n",
       "0      0         A/5 21171   7.2500   NaN        S  \n",
       "1      0          PC 17599  71.2833   C85        C  \n",
       "2      0  STON/O2. 3101282   7.9250   NaN        S  \n",
       "3      0            113803  53.1000  C123        S  \n",
       "4      0            373450   8.0500   NaN        S  "
      ]
     },
     "execution_count": 3,
     "metadata": {},
     "output_type": "execute_result"
    }
   ],
   "source": [
    "titanic.head()"
   ]
  },
  {
   "cell_type": "code",
   "execution_count": 4,
   "metadata": {},
   "outputs": [],
   "source": [
    "titanic = titanic.drop(columns=['PassengerId','Name','Ticket','Cabin','Embarked'])"
   ]
  },
  {
   "cell_type": "code",
   "execution_count": 5,
   "metadata": {},
   "outputs": [
    {
     "data": {
      "text/html": [
       "<div>\n",
       "<style scoped>\n",
       "    .dataframe tbody tr th:only-of-type {\n",
       "        vertical-align: middle;\n",
       "    }\n",
       "\n",
       "    .dataframe tbody tr th {\n",
       "        vertical-align: top;\n",
       "    }\n",
       "\n",
       "    .dataframe thead th {\n",
       "        text-align: right;\n",
       "    }\n",
       "</style>\n",
       "<table border=\"1\" class=\"dataframe\">\n",
       "  <thead>\n",
       "    <tr style=\"text-align: right;\">\n",
       "      <th></th>\n",
       "      <th>Survived</th>\n",
       "      <th>Pclass</th>\n",
       "      <th>Sex</th>\n",
       "      <th>Age</th>\n",
       "      <th>SibSp</th>\n",
       "      <th>Parch</th>\n",
       "      <th>Fare</th>\n",
       "    </tr>\n",
       "  </thead>\n",
       "  <tbody>\n",
       "    <tr>\n",
       "      <th>0</th>\n",
       "      <td>0</td>\n",
       "      <td>3</td>\n",
       "      <td>male</td>\n",
       "      <td>22.0</td>\n",
       "      <td>1</td>\n",
       "      <td>0</td>\n",
       "      <td>7.2500</td>\n",
       "    </tr>\n",
       "    <tr>\n",
       "      <th>1</th>\n",
       "      <td>1</td>\n",
       "      <td>1</td>\n",
       "      <td>female</td>\n",
       "      <td>38.0</td>\n",
       "      <td>1</td>\n",
       "      <td>0</td>\n",
       "      <td>71.2833</td>\n",
       "    </tr>\n",
       "    <tr>\n",
       "      <th>2</th>\n",
       "      <td>1</td>\n",
       "      <td>3</td>\n",
       "      <td>female</td>\n",
       "      <td>26.0</td>\n",
       "      <td>0</td>\n",
       "      <td>0</td>\n",
       "      <td>7.9250</td>\n",
       "    </tr>\n",
       "    <tr>\n",
       "      <th>3</th>\n",
       "      <td>1</td>\n",
       "      <td>1</td>\n",
       "      <td>female</td>\n",
       "      <td>35.0</td>\n",
       "      <td>1</td>\n",
       "      <td>0</td>\n",
       "      <td>53.1000</td>\n",
       "    </tr>\n",
       "    <tr>\n",
       "      <th>4</th>\n",
       "      <td>0</td>\n",
       "      <td>3</td>\n",
       "      <td>male</td>\n",
       "      <td>35.0</td>\n",
       "      <td>0</td>\n",
       "      <td>0</td>\n",
       "      <td>8.0500</td>\n",
       "    </tr>\n",
       "  </tbody>\n",
       "</table>\n",
       "</div>"
      ],
      "text/plain": [
       "   Survived  Pclass     Sex   Age  SibSp  Parch     Fare\n",
       "0         0       3    male  22.0      1      0   7.2500\n",
       "1         1       1  female  38.0      1      0  71.2833\n",
       "2         1       3  female  26.0      0      0   7.9250\n",
       "3         1       1  female  35.0      1      0  53.1000\n",
       "4         0       3    male  35.0      0      0   8.0500"
      ]
     },
     "execution_count": 5,
     "metadata": {},
     "output_type": "execute_result"
    }
   ],
   "source": [
    "titanic.head()"
   ]
  },
  {
   "cell_type": "code",
   "execution_count": 6,
   "metadata": {},
   "outputs": [
    {
     "data": {
      "text/plain": [
       "Survived      0\n",
       "Pclass        0\n",
       "Sex           0\n",
       "Age         177\n",
       "SibSp         0\n",
       "Parch         0\n",
       "Fare          0\n",
       "dtype: int64"
      ]
     },
     "execution_count": 6,
     "metadata": {},
     "output_type": "execute_result"
    }
   ],
   "source": [
    "# check for missing values\n",
    "titanic.isna().sum()"
   ]
  },
  {
   "cell_type": "code",
   "execution_count": 7,
   "metadata": {},
   "outputs": [
    {
     "data": {
      "text/html": [
       "<div>\n",
       "<style scoped>\n",
       "    .dataframe tbody tr th:only-of-type {\n",
       "        vertical-align: middle;\n",
       "    }\n",
       "\n",
       "    .dataframe tbody tr th {\n",
       "        vertical-align: top;\n",
       "    }\n",
       "\n",
       "    .dataframe thead th {\n",
       "        text-align: right;\n",
       "    }\n",
       "</style>\n",
       "<table border=\"1\" class=\"dataframe\">\n",
       "  <thead>\n",
       "    <tr style=\"text-align: right;\">\n",
       "      <th></th>\n",
       "      <th>Survived</th>\n",
       "      <th>Pclass</th>\n",
       "      <th>Sex</th>\n",
       "      <th>Age</th>\n",
       "      <th>SibSp</th>\n",
       "      <th>Parch</th>\n",
       "      <th>Fare</th>\n",
       "    </tr>\n",
       "  </thead>\n",
       "  <tbody>\n",
       "    <tr>\n",
       "      <th>0</th>\n",
       "      <td>0</td>\n",
       "      <td>3</td>\n",
       "      <td>male</td>\n",
       "      <td>22.0</td>\n",
       "      <td>1</td>\n",
       "      <td>0</td>\n",
       "      <td>7.2500</td>\n",
       "    </tr>\n",
       "    <tr>\n",
       "      <th>1</th>\n",
       "      <td>1</td>\n",
       "      <td>1</td>\n",
       "      <td>female</td>\n",
       "      <td>38.0</td>\n",
       "      <td>1</td>\n",
       "      <td>0</td>\n",
       "      <td>71.2833</td>\n",
       "    </tr>\n",
       "    <tr>\n",
       "      <th>2</th>\n",
       "      <td>1</td>\n",
       "      <td>3</td>\n",
       "      <td>female</td>\n",
       "      <td>26.0</td>\n",
       "      <td>0</td>\n",
       "      <td>0</td>\n",
       "      <td>7.9250</td>\n",
       "    </tr>\n",
       "    <tr>\n",
       "      <th>3</th>\n",
       "      <td>1</td>\n",
       "      <td>1</td>\n",
       "      <td>female</td>\n",
       "      <td>35.0</td>\n",
       "      <td>1</td>\n",
       "      <td>0</td>\n",
       "      <td>53.1000</td>\n",
       "    </tr>\n",
       "    <tr>\n",
       "      <th>4</th>\n",
       "      <td>0</td>\n",
       "      <td>3</td>\n",
       "      <td>male</td>\n",
       "      <td>35.0</td>\n",
       "      <td>0</td>\n",
       "      <td>0</td>\n",
       "      <td>8.0500</td>\n",
       "    </tr>\n",
       "  </tbody>\n",
       "</table>\n",
       "</div>"
      ],
      "text/plain": [
       "   Survived  Pclass     Sex   Age  SibSp  Parch     Fare\n",
       "0         0       3    male  22.0      1      0   7.2500\n",
       "1         1       1  female  38.0      1      0  71.2833\n",
       "2         1       3  female  26.0      0      0   7.9250\n",
       "3         1       1  female  35.0      1      0  53.1000\n",
       "4         0       3    male  35.0      0      0   8.0500"
      ]
     },
     "execution_count": 7,
     "metadata": {},
     "output_type": "execute_result"
    }
   ],
   "source": [
    "# we are updating the nan values of Age column with the average of all Ages i.e. 29.7\n",
    "titanic['Age'] = titanic['Age'].fillna(29.7)\n",
    "titanic.head()"
   ]
  },
  {
   "cell_type": "code",
   "execution_count": 8,
   "metadata": {},
   "outputs": [
    {
     "data": {
      "text/plain": [
       "Survived    0\n",
       "Pclass      0\n",
       "Sex         0\n",
       "Age         0\n",
       "SibSp       0\n",
       "Parch       0\n",
       "Fare        0\n",
       "dtype: int64"
      ]
     },
     "execution_count": 8,
     "metadata": {},
     "output_type": "execute_result"
    }
   ],
   "source": [
    "titanic.isna().sum()"
   ]
  },
  {
   "cell_type": "code",
   "execution_count": 9,
   "metadata": {},
   "outputs": [],
   "source": [
    "from sklearn.preprocessing import LabelEncoder\n",
    "le = LabelEncoder()\n",
    "titanic['Sex'] = le.fit_transform(titanic['Sex'])"
   ]
  },
  {
   "cell_type": "code",
   "execution_count": 10,
   "metadata": {},
   "outputs": [
    {
     "data": {
      "text/html": [
       "<div>\n",
       "<style scoped>\n",
       "    .dataframe tbody tr th:only-of-type {\n",
       "        vertical-align: middle;\n",
       "    }\n",
       "\n",
       "    .dataframe tbody tr th {\n",
       "        vertical-align: top;\n",
       "    }\n",
       "\n",
       "    .dataframe thead th {\n",
       "        text-align: right;\n",
       "    }\n",
       "</style>\n",
       "<table border=\"1\" class=\"dataframe\">\n",
       "  <thead>\n",
       "    <tr style=\"text-align: right;\">\n",
       "      <th></th>\n",
       "      <th>Survived</th>\n",
       "      <th>Pclass</th>\n",
       "      <th>Sex</th>\n",
       "      <th>Age</th>\n",
       "      <th>SibSp</th>\n",
       "      <th>Parch</th>\n",
       "      <th>Fare</th>\n",
       "    </tr>\n",
       "  </thead>\n",
       "  <tbody>\n",
       "    <tr>\n",
       "      <th>0</th>\n",
       "      <td>0</td>\n",
       "      <td>3</td>\n",
       "      <td>1</td>\n",
       "      <td>22.0</td>\n",
       "      <td>1</td>\n",
       "      <td>0</td>\n",
       "      <td>7.2500</td>\n",
       "    </tr>\n",
       "    <tr>\n",
       "      <th>1</th>\n",
       "      <td>1</td>\n",
       "      <td>1</td>\n",
       "      <td>0</td>\n",
       "      <td>38.0</td>\n",
       "      <td>1</td>\n",
       "      <td>0</td>\n",
       "      <td>71.2833</td>\n",
       "    </tr>\n",
       "    <tr>\n",
       "      <th>2</th>\n",
       "      <td>1</td>\n",
       "      <td>3</td>\n",
       "      <td>0</td>\n",
       "      <td>26.0</td>\n",
       "      <td>0</td>\n",
       "      <td>0</td>\n",
       "      <td>7.9250</td>\n",
       "    </tr>\n",
       "    <tr>\n",
       "      <th>3</th>\n",
       "      <td>1</td>\n",
       "      <td>1</td>\n",
       "      <td>0</td>\n",
       "      <td>35.0</td>\n",
       "      <td>1</td>\n",
       "      <td>0</td>\n",
       "      <td>53.1000</td>\n",
       "    </tr>\n",
       "    <tr>\n",
       "      <th>4</th>\n",
       "      <td>0</td>\n",
       "      <td>3</td>\n",
       "      <td>1</td>\n",
       "      <td>35.0</td>\n",
       "      <td>0</td>\n",
       "      <td>0</td>\n",
       "      <td>8.0500</td>\n",
       "    </tr>\n",
       "  </tbody>\n",
       "</table>\n",
       "</div>"
      ],
      "text/plain": [
       "   Survived  Pclass  Sex   Age  SibSp  Parch     Fare\n",
       "0         0       3    1  22.0      1      0   7.2500\n",
       "1         1       1    0  38.0      1      0  71.2833\n",
       "2         1       3    0  26.0      0      0   7.9250\n",
       "3         1       1    0  35.0      1      0  53.1000\n",
       "4         0       3    1  35.0      0      0   8.0500"
      ]
     },
     "execution_count": 10,
     "metadata": {},
     "output_type": "execute_result"
    }
   ],
   "source": [
    "titanic.head()"
   ]
  },
  {
   "cell_type": "markdown",
   "metadata": {},
   "source": [
    "#### Data is cleaned!!!"
   ]
  },
  {
   "cell_type": "code",
   "execution_count": 11,
   "metadata": {},
   "outputs": [],
   "source": [
    "from sklearn.model_selection import train_test_split"
   ]
  },
  {
   "cell_type": "code",
   "execution_count": 12,
   "metadata": {},
   "outputs": [],
   "source": [
    "X_train,X_test,Y_train,Y_test = train_test_split(titanic.drop(columns=['Survived']),titanic['Survived'],test_size=0.2,random_state=42)"
   ]
  },
  {
   "cell_type": "code",
   "execution_count": 13,
   "metadata": {},
   "outputs": [],
   "source": [
    "from sklearn.tree import DecisionTreeClassifier"
   ]
  },
  {
   "cell_type": "code",
   "execution_count": 14,
   "metadata": {},
   "outputs": [],
   "source": [
    "model = DecisionTreeClassifier(criterion='entropy')"
   ]
  },
  {
   "cell_type": "code",
   "execution_count": 15,
   "metadata": {},
   "outputs": [
    {
     "data": {
      "text/html": [
       "<style>#sk-container-id-1 {color: black;}#sk-container-id-1 pre{padding: 0;}#sk-container-id-1 div.sk-toggleable {background-color: white;}#sk-container-id-1 label.sk-toggleable__label {cursor: pointer;display: block;width: 100%;margin-bottom: 0;padding: 0.3em;box-sizing: border-box;text-align: center;}#sk-container-id-1 label.sk-toggleable__label-arrow:before {content: \"▸\";float: left;margin-right: 0.25em;color: #696969;}#sk-container-id-1 label.sk-toggleable__label-arrow:hover:before {color: black;}#sk-container-id-1 div.sk-estimator:hover label.sk-toggleable__label-arrow:before {color: black;}#sk-container-id-1 div.sk-toggleable__content {max-height: 0;max-width: 0;overflow: hidden;text-align: left;background-color: #f0f8ff;}#sk-container-id-1 div.sk-toggleable__content pre {margin: 0.2em;color: black;border-radius: 0.25em;background-color: #f0f8ff;}#sk-container-id-1 input.sk-toggleable__control:checked~div.sk-toggleable__content {max-height: 200px;max-width: 100%;overflow: auto;}#sk-container-id-1 input.sk-toggleable__control:checked~label.sk-toggleable__label-arrow:before {content: \"▾\";}#sk-container-id-1 div.sk-estimator input.sk-toggleable__control:checked~label.sk-toggleable__label {background-color: #d4ebff;}#sk-container-id-1 div.sk-label input.sk-toggleable__control:checked~label.sk-toggleable__label {background-color: #d4ebff;}#sk-container-id-1 input.sk-hidden--visually {border: 0;clip: rect(1px 1px 1px 1px);clip: rect(1px, 1px, 1px, 1px);height: 1px;margin: -1px;overflow: hidden;padding: 0;position: absolute;width: 1px;}#sk-container-id-1 div.sk-estimator {font-family: monospace;background-color: #f0f8ff;border: 1px dotted black;border-radius: 0.25em;box-sizing: border-box;margin-bottom: 0.5em;}#sk-container-id-1 div.sk-estimator:hover {background-color: #d4ebff;}#sk-container-id-1 div.sk-parallel-item::after {content: \"\";width: 100%;border-bottom: 1px solid gray;flex-grow: 1;}#sk-container-id-1 div.sk-label:hover label.sk-toggleable__label {background-color: #d4ebff;}#sk-container-id-1 div.sk-serial::before {content: \"\";position: absolute;border-left: 1px solid gray;box-sizing: border-box;top: 0;bottom: 0;left: 50%;z-index: 0;}#sk-container-id-1 div.sk-serial {display: flex;flex-direction: column;align-items: center;background-color: white;padding-right: 0.2em;padding-left: 0.2em;position: relative;}#sk-container-id-1 div.sk-item {position: relative;z-index: 1;}#sk-container-id-1 div.sk-parallel {display: flex;align-items: stretch;justify-content: center;background-color: white;position: relative;}#sk-container-id-1 div.sk-item::before, #sk-container-id-1 div.sk-parallel-item::before {content: \"\";position: absolute;border-left: 1px solid gray;box-sizing: border-box;top: 0;bottom: 0;left: 50%;z-index: -1;}#sk-container-id-1 div.sk-parallel-item {display: flex;flex-direction: column;z-index: 1;position: relative;background-color: white;}#sk-container-id-1 div.sk-parallel-item:first-child::after {align-self: flex-end;width: 50%;}#sk-container-id-1 div.sk-parallel-item:last-child::after {align-self: flex-start;width: 50%;}#sk-container-id-1 div.sk-parallel-item:only-child::after {width: 0;}#sk-container-id-1 div.sk-dashed-wrapped {border: 1px dashed gray;margin: 0 0.4em 0.5em 0.4em;box-sizing: border-box;padding-bottom: 0.4em;background-color: white;}#sk-container-id-1 div.sk-label label {font-family: monospace;font-weight: bold;display: inline-block;line-height: 1.2em;}#sk-container-id-1 div.sk-label-container {text-align: center;}#sk-container-id-1 div.sk-container {/* jupyter's `normalize.less` sets `[hidden] { display: none; }` but bootstrap.min.css set `[hidden] { display: none !important; }` so we also need the `!important` here to be able to override the default hidden behavior on the sphinx rendered scikit-learn.org. See: https://github.com/scikit-learn/scikit-learn/issues/21755 */display: inline-block !important;position: relative;}#sk-container-id-1 div.sk-text-repr-fallback {display: none;}</style><div id=\"sk-container-id-1\" class=\"sk-top-container\"><div class=\"sk-text-repr-fallback\"><pre>DecisionTreeClassifier(criterion=&#x27;entropy&#x27;)</pre><b>In a Jupyter environment, please rerun this cell to show the HTML representation or trust the notebook. <br />On GitHub, the HTML representation is unable to render, please try loading this page with nbviewer.org.</b></div><div class=\"sk-container\" hidden><div class=\"sk-item\"><div class=\"sk-estimator sk-toggleable\"><input class=\"sk-toggleable__control sk-hidden--visually\" id=\"sk-estimator-id-1\" type=\"checkbox\" checked><label for=\"sk-estimator-id-1\" class=\"sk-toggleable__label sk-toggleable__label-arrow\">DecisionTreeClassifier</label><div class=\"sk-toggleable__content\"><pre>DecisionTreeClassifier(criterion=&#x27;entropy&#x27;)</pre></div></div></div></div></div>"
      ],
      "text/plain": [
       "DecisionTreeClassifier(criterion='entropy')"
      ]
     },
     "execution_count": 15,
     "metadata": {},
     "output_type": "execute_result"
    }
   ],
   "source": [
    "model.fit(X_train,Y_train)"
   ]
  },
  {
   "cell_type": "code",
   "execution_count": 16,
   "metadata": {},
   "outputs": [],
   "source": [
    "Y_pred =  model.predict(X_test)"
   ]
  },
  {
   "cell_type": "code",
   "execution_count": 17,
   "metadata": {},
   "outputs": [
    {
     "data": {
      "text/plain": [
       "array([0, 0, 0, 1, 1], dtype=int64)"
      ]
     },
     "execution_count": 17,
     "metadata": {},
     "output_type": "execute_result"
    }
   ],
   "source": [
    "Y_pred[:5]"
   ]
  },
  {
   "cell_type": "code",
   "execution_count": 18,
   "metadata": {},
   "outputs": [
    {
     "data": {
      "text/plain": [
       "709    1\n",
       "439    0\n",
       "840    0\n",
       "720    1\n",
       "39     1\n",
       "Name: Survived, dtype: int64"
      ]
     },
     "execution_count": 18,
     "metadata": {},
     "output_type": "execute_result"
    }
   ],
   "source": [
    "Y_test[:5]"
   ]
  },
  {
   "cell_type": "code",
   "execution_count": 20,
   "metadata": {},
   "outputs": [
    {
     "data": {
      "text/plain": [
       "0.9803370786516854"
      ]
     },
     "execution_count": 20,
     "metadata": {},
     "output_type": "execute_result"
    }
   ],
   "source": [
    "model.score(X_train,Y_train)"
   ]
  },
  {
   "cell_type": "code",
   "execution_count": 21,
   "metadata": {},
   "outputs": [
    {
     "data": {
      "text/plain": [
       "0.7653631284916201"
      ]
     },
     "execution_count": 21,
     "metadata": {},
     "output_type": "execute_result"
    }
   ],
   "source": [
    "model.score(X_test,Y_test)"
   ]
  },
  {
   "cell_type": "code",
   "execution_count": 23,
   "metadata": {},
   "outputs": [
    {
     "data": {
      "text/plain": [
       "23"
      ]
     },
     "execution_count": 23,
     "metadata": {},
     "output_type": "execute_result"
    }
   ],
   "source": [
    "model.tree_.max_depth"
   ]
  },
  {
   "cell_type": "code",
   "execution_count": 25,
   "metadata": {},
   "outputs": [],
   "source": [
    "from sklearn import tree"
   ]
  },
  {
   "cell_type": "code",
   "execution_count": 26,
   "metadata": {},
   "outputs": [
    {
     "data": {
      "text/plain": [
       "[Text(0.3355390798226164, 0.9791666666666666, 'x[1] <= 0.5\\nentropy = 0.955\\nsamples = 712\\nvalue = [444, 268]'),\n",
       " Text(0.16324833702882482, 0.9375, 'x[0] <= 2.5\\nentropy = 0.829\\nsamples = 245\\nvalue = [64, 181]'),\n",
       " Text(0.04656319290465632, 0.8958333333333334, 'x[2] <= 2.5\\nentropy = 0.235\\nsamples = 130\\nvalue = [5, 125]'),\n",
       " Text(0.017738359201773836, 0.8541666666666666, 'x[5] <= 88.775\\nentropy = 1.0\\nsamples = 2\\nvalue = [1, 1]'),\n",
       " Text(0.008869179600886918, 0.8125, 'entropy = 0.0\\nsamples = 1\\nvalue = [0, 1]'),\n",
       " Text(0.026607538802660754, 0.8125, 'entropy = 0.0\\nsamples = 1\\nvalue = [1, 0]'),\n",
       " Text(0.07538802660753881, 0.8541666666666666, 'x[2] <= 27.5\\nentropy = 0.201\\nsamples = 128\\nvalue = [4, 124]'),\n",
       " Text(0.04434589800443459, 0.8125, 'x[2] <= 23.5\\nentropy = 0.342\\nsamples = 47\\nvalue = [3, 44]'),\n",
       " Text(0.03547671840354767, 0.7708333333333334, 'entropy = 0.0\\nsamples = 29\\nvalue = [0, 29]'),\n",
       " Text(0.05321507760532151, 0.7708333333333334, 'x[2] <= 24.5\\nentropy = 0.65\\nsamples = 18\\nvalue = [3, 15]'),\n",
       " Text(0.03547671840354767, 0.7291666666666666, 'x[5] <= 13.75\\nentropy = 0.414\\nsamples = 12\\nvalue = [1, 11]'),\n",
       " Text(0.026607538802660754, 0.6875, 'entropy = 1.0\\nsamples = 2\\nvalue = [1, 1]'),\n",
       " Text(0.04434589800443459, 0.6875, 'entropy = 0.0\\nsamples = 10\\nvalue = [0, 10]'),\n",
       " Text(0.07095343680709534, 0.7291666666666666, 'x[5] <= 90.775\\nentropy = 0.918\\nsamples = 6\\nvalue = [2, 4]'),\n",
       " Text(0.06208425720620843, 0.6875, 'x[5] <= 17.429\\nentropy = 0.722\\nsamples = 5\\nvalue = [1, 4]'),\n",
       " Text(0.05321507760532151, 0.6458333333333334, 'entropy = 0.0\\nsamples = 2\\nvalue = [0, 2]'),\n",
       " Text(0.07095343680709534, 0.6458333333333334, 'x[4] <= 0.5\\nentropy = 0.918\\nsamples = 3\\nvalue = [1, 2]'),\n",
       " Text(0.06208425720620843, 0.6041666666666666, 'entropy = 0.0\\nsamples = 1\\nvalue = [1, 0]'),\n",
       " Text(0.07982261640798226, 0.6041666666666666, 'entropy = 0.0\\nsamples = 2\\nvalue = [0, 2]'),\n",
       " Text(0.07982261640798226, 0.6875, 'entropy = 0.0\\nsamples = 1\\nvalue = [1, 0]'),\n",
       " Text(0.10643015521064302, 0.8125, 'x[2] <= 49.5\\nentropy = 0.096\\nsamples = 81\\nvalue = [1, 80]'),\n",
       " Text(0.0975609756097561, 0.7708333333333334, 'entropy = 0.0\\nsamples = 65\\nvalue = [0, 65]'),\n",
       " Text(0.11529933481152993, 0.7708333333333334, 'x[2] <= 50.5\\nentropy = 0.337\\nsamples = 16\\nvalue = [1, 15]'),\n",
       " Text(0.10643015521064302, 0.7291666666666666, 'x[0] <= 1.5\\nentropy = 0.811\\nsamples = 4\\nvalue = [1, 3]'),\n",
       " Text(0.0975609756097561, 0.6875, 'entropy = 0.0\\nsamples = 1\\nvalue = [1, 0]'),\n",
       " Text(0.11529933481152993, 0.6875, 'entropy = 0.0\\nsamples = 3\\nvalue = [0, 3]'),\n",
       " Text(0.12416851441241686, 0.7291666666666666, 'entropy = 0.0\\nsamples = 12\\nvalue = [0, 12]'),\n",
       " Text(0.2799334811529933, 0.8958333333333334, 'x[5] <= 23.35\\nentropy = 1.0\\nsamples = 115\\nvalue = [59, 56]'),\n",
       " Text(0.20509977827050999, 0.8541666666666666, 'x[5] <= 7.744\\nentropy = 0.979\\nsamples = 94\\nvalue = [39, 55]'),\n",
       " Text(0.1419068736141907, 0.8125, 'x[5] <= 6.987\\nentropy = 0.619\\nsamples = 13\\nvalue = [2, 11]'),\n",
       " Text(0.13303769401330376, 0.7708333333333334, 'entropy = 0.0\\nsamples = 1\\nvalue = [1, 0]'),\n",
       " Text(0.15077605321507762, 0.7708333333333334, 'x[5] <= 7.59\\nentropy = 0.414\\nsamples = 12\\nvalue = [1, 11]'),\n",
       " Text(0.1419068736141907, 0.7291666666666666, 'entropy = 0.0\\nsamples = 7\\nvalue = [0, 7]'),\n",
       " Text(0.15964523281596452, 0.7291666666666666, 'x[5] <= 7.64\\nentropy = 0.722\\nsamples = 5\\nvalue = [1, 4]'),\n",
       " Text(0.15077605321507762, 0.6875, 'entropy = 0.0\\nsamples = 1\\nvalue = [1, 0]'),\n",
       " Text(0.16851441241685144, 0.6875, 'entropy = 0.0\\nsamples = 4\\nvalue = [0, 4]'),\n",
       " Text(0.2682926829268293, 0.8125, 'x[5] <= 15.373\\nentropy = 0.995\\nsamples = 81\\nvalue = [37, 44]'),\n",
       " Text(0.21729490022172948, 0.7708333333333334, 'x[5] <= 13.908\\nentropy = 0.992\\nsamples = 56\\nvalue = [31, 25]'),\n",
       " Text(0.1951219512195122, 0.7291666666666666, 'x[5] <= 10.825\\nentropy = 1.0\\nsamples = 48\\nvalue = [24, 24]'),\n",
       " Text(0.18625277161862527, 0.6875, 'x[5] <= 8.04\\nentropy = 0.985\\nsamples = 42\\nvalue = [24, 18]'),\n",
       " Text(0.15077605321507762, 0.6458333333333334, 'x[2] <= 25.5\\nentropy = 0.98\\nsamples = 24\\nvalue = [10, 14]'),\n",
       " Text(0.13303769401330376, 0.6041666666666666, 'x[2] <= 22.5\\nentropy = 0.971\\nsamples = 10\\nvalue = [6, 4]'),\n",
       " Text(0.12416851441241686, 0.5625, 'x[5] <= 7.89\\nentropy = 0.985\\nsamples = 7\\nvalue = [3, 4]'),\n",
       " Text(0.11529933481152993, 0.5208333333333334, 'x[2] <= 21.5\\nentropy = 0.971\\nsamples = 5\\nvalue = [3, 2]'),\n",
       " Text(0.10643015521064302, 0.4791666666666667, 'entropy = 0.0\\nsamples = 3\\nvalue = [3, 0]'),\n",
       " Text(0.12416851441241686, 0.4791666666666667, 'entropy = 0.0\\nsamples = 2\\nvalue = [0, 2]'),\n",
       " Text(0.13303769401330376, 0.5208333333333334, 'entropy = 0.0\\nsamples = 2\\nvalue = [0, 2]'),\n",
       " Text(0.1419068736141907, 0.5625, 'entropy = 0.0\\nsamples = 3\\nvalue = [3, 0]'),\n",
       " Text(0.16851441241685144, 0.6041666666666666, 'x[2] <= 37.35\\nentropy = 0.863\\nsamples = 14\\nvalue = [4, 10]'),\n",
       " Text(0.15964523281596452, 0.5625, 'x[4] <= 1.0\\nentropy = 0.779\\nsamples = 13\\nvalue = [3, 10]'),\n",
       " Text(0.15077605321507762, 0.5208333333333334, 'x[2] <= 27.5\\nentropy = 0.65\\nsamples = 12\\nvalue = [2, 10]'),\n",
       " Text(0.1419068736141907, 0.4791666666666667, 'entropy = 0.0\\nsamples = 3\\nvalue = [0, 3]'),\n",
       " Text(0.15964523281596452, 0.4791666666666667, 'x[5] <= 7.888\\nentropy = 0.764\\nsamples = 9\\nvalue = [2, 7]'),\n",
       " Text(0.15077605321507762, 0.4375, 'x[5] <= 7.815\\nentropy = 0.544\\nsamples = 8\\nvalue = [1, 7]'),\n",
       " Text(0.1419068736141907, 0.3958333333333333, 'entropy = 0.65\\nsamples = 6\\nvalue = [1, 5]'),\n",
       " Text(0.15964523281596452, 0.3958333333333333, 'entropy = 0.0\\nsamples = 2\\nvalue = [0, 2]'),\n",
       " Text(0.16851441241685144, 0.4375, 'entropy = 0.0\\nsamples = 1\\nvalue = [1, 0]'),\n",
       " Text(0.16851441241685144, 0.5208333333333334, 'entropy = 0.0\\nsamples = 1\\nvalue = [1, 0]'),\n",
       " Text(0.17738359201773837, 0.5625, 'entropy = 0.0\\nsamples = 1\\nvalue = [1, 0]'),\n",
       " Text(0.22172949002217296, 0.6458333333333334, 'x[2] <= 19.0\\nentropy = 0.764\\nsamples = 18\\nvalue = [14, 4]'),\n",
       " Text(0.2039911308203991, 0.6041666666666666, 'x[5] <= 10.152\\nentropy = 0.918\\nsamples = 3\\nvalue = [1, 2]'),\n",
       " Text(0.1951219512195122, 0.5625, 'entropy = 0.0\\nsamples = 2\\nvalue = [0, 2]'),\n",
       " Text(0.21286031042128603, 0.5625, 'entropy = 0.0\\nsamples = 1\\nvalue = [1, 0]'),\n",
       " Text(0.2394678492239468, 0.6041666666666666, 'x[2] <= 30.5\\nentropy = 0.567\\nsamples = 15\\nvalue = [13, 2]'),\n",
       " Text(0.23059866962305986, 0.5625, 'entropy = 0.0\\nsamples = 11\\nvalue = [11, 0]'),\n",
       " Text(0.24833702882483372, 0.5625, 'x[3] <= 0.5\\nentropy = 1.0\\nsamples = 4\\nvalue = [2, 2]'),\n",
       " Text(0.2394678492239468, 0.5208333333333334, 'x[5] <= 9.135\\nentropy = 0.918\\nsamples = 3\\nvalue = [1, 2]'),\n",
       " Text(0.23059866962305986, 0.4791666666666667, 'entropy = 0.0\\nsamples = 1\\nvalue = [0, 1]'),\n",
       " Text(0.24833702882483372, 0.4791666666666667, 'x[2] <= 50.0\\nentropy = 1.0\\nsamples = 2\\nvalue = [1, 1]'),\n",
       " Text(0.2394678492239468, 0.4375, 'entropy = 0.0\\nsamples = 1\\nvalue = [1, 0]'),\n",
       " Text(0.2572062084257206, 0.4375, 'entropy = 0.0\\nsamples = 1\\nvalue = [0, 1]'),\n",
       " Text(0.2572062084257206, 0.5208333333333334, 'entropy = 0.0\\nsamples = 1\\nvalue = [1, 0]'),\n",
       " Text(0.2039911308203991, 0.6875, 'entropy = 0.0\\nsamples = 6\\nvalue = [0, 6]'),\n",
       " Text(0.2394678492239468, 0.7291666666666666, 'x[5] <= 14.873\\nentropy = 0.544\\nsamples = 8\\nvalue = [7, 1]'),\n",
       " Text(0.23059866962305986, 0.6875, 'entropy = 0.0\\nsamples = 6\\nvalue = [6, 0]'),\n",
       " Text(0.24833702882483372, 0.6875, 'x[2] <= 29.35\\nentropy = 1.0\\nsamples = 2\\nvalue = [1, 1]'),\n",
       " Text(0.2394678492239468, 0.6458333333333334, 'entropy = 0.0\\nsamples = 1\\nvalue = [0, 1]'),\n",
       " Text(0.2572062084257206, 0.6458333333333334, 'entropy = 0.0\\nsamples = 1\\nvalue = [1, 0]'),\n",
       " Text(0.31929046563192903, 0.7708333333333334, 'x[2] <= 29.35\\nentropy = 0.795\\nsamples = 25\\nvalue = [6, 19]'),\n",
       " Text(0.30155210643015523, 0.7291666666666666, 'x[2] <= 25.0\\nentropy = 0.98\\nsamples = 12\\nvalue = [5, 7]'),\n",
       " Text(0.2926829268292683, 0.6875, 'x[3] <= 2.5\\nentropy = 0.881\\nsamples = 10\\nvalue = [3, 7]'),\n",
       " Text(0.2838137472283814, 0.6458333333333334, 'x[4] <= 0.5\\nentropy = 0.544\\nsamples = 8\\nvalue = [1, 7]'),\n",
       " Text(0.2749445676274945, 0.6041666666666666, 'x[5] <= 16.925\\nentropy = 1.0\\nsamples = 2\\nvalue = [1, 1]'),\n",
       " Text(0.2660753880266075, 0.5625, 'entropy = 0.0\\nsamples = 1\\nvalue = [0, 1]'),\n",
       " Text(0.2838137472283814, 0.5625, 'entropy = 0.0\\nsamples = 1\\nvalue = [1, 0]'),\n",
       " Text(0.2926829268292683, 0.6041666666666666, 'entropy = 0.0\\nsamples = 6\\nvalue = [0, 6]'),\n",
       " Text(0.30155210643015523, 0.6458333333333334, 'entropy = 0.0\\nsamples = 2\\nvalue = [2, 0]'),\n",
       " Text(0.31042128603104213, 0.6875, 'entropy = 0.0\\nsamples = 2\\nvalue = [2, 0]'),\n",
       " Text(0.3370288248337029, 0.7291666666666666, 'x[2] <= 30.35\\nentropy = 0.391\\nsamples = 13\\nvalue = [1, 12]'),\n",
       " Text(0.328159645232816, 0.6875, 'entropy = 0.0\\nsamples = 8\\nvalue = [0, 8]'),\n",
       " Text(0.3458980044345898, 0.6875, 'x[2] <= 32.0\\nentropy = 0.722\\nsamples = 5\\nvalue = [1, 4]'),\n",
       " Text(0.3370288248337029, 0.6458333333333334, 'x[5] <= 19.262\\nentropy = 1.0\\nsamples = 2\\nvalue = [1, 1]'),\n",
       " Text(0.328159645232816, 0.6041666666666666, 'entropy = 0.0\\nsamples = 1\\nvalue = [1, 0]'),\n",
       " Text(0.3458980044345898, 0.6041666666666666, 'entropy = 0.0\\nsamples = 1\\nvalue = [0, 1]'),\n",
       " Text(0.35476718403547675, 0.6458333333333334, 'entropy = 0.0\\nsamples = 3\\nvalue = [0, 3]'),\n",
       " Text(0.35476718403547675, 0.8541666666666666, 'x[2] <= 5.5\\nentropy = 0.276\\nsamples = 21\\nvalue = [20, 1]'),\n",
       " Text(0.3458980044345898, 0.8125, 'x[2] <= 3.5\\nentropy = 0.918\\nsamples = 3\\nvalue = [2, 1]'),\n",
       " Text(0.3370288248337029, 0.7708333333333334, 'entropy = 0.0\\nsamples = 2\\nvalue = [2, 0]'),\n",
       " Text(0.35476718403547675, 0.7708333333333334, 'entropy = 0.0\\nsamples = 1\\nvalue = [0, 1]'),\n",
       " Text(0.36363636363636365, 0.8125, 'entropy = 0.0\\nsamples = 18\\nvalue = [18, 0]'),\n",
       " Text(0.507829822616408, 0.9375, 'x[2] <= 6.5\\nentropy = 0.694\\nsamples = 467\\nvalue = [380, 87]'),\n",
       " Text(0.38137472283813745, 0.8958333333333334, 'x[3] <= 2.5\\nentropy = 0.902\\nsamples = 22\\nvalue = [7, 15]'),\n",
       " Text(0.37250554323725055, 0.8541666666666666, 'entropy = 0.0\\nsamples = 14\\nvalue = [0, 14]'),\n",
       " Text(0.3902439024390244, 0.8541666666666666, 'x[4] <= 1.5\\nentropy = 0.544\\nsamples = 8\\nvalue = [7, 1]'),\n",
       " Text(0.38137472283813745, 0.8125, 'entropy = 0.0\\nsamples = 5\\nvalue = [5, 0]'),\n",
       " Text(0.3991130820399113, 0.8125, 'x[3] <= 4.5\\nentropy = 0.918\\nsamples = 3\\nvalue = [2, 1]'),\n",
       " Text(0.3902439024390244, 0.7708333333333334, 'x[5] <= 31.331\\nentropy = 1.0\\nsamples = 2\\nvalue = [1, 1]'),\n",
       " Text(0.38137472283813745, 0.7291666666666666, 'entropy = 0.0\\nsamples = 1\\nvalue = [1, 0]'),\n",
       " Text(0.3991130820399113, 0.7291666666666666, 'entropy = 0.0\\nsamples = 1\\nvalue = [0, 1]'),\n",
       " Text(0.4079822616407982, 0.7708333333333334, 'entropy = 0.0\\nsamples = 1\\nvalue = [1, 0]'),\n",
       " Text(0.6342849223946785, 0.8958333333333334, 'x[0] <= 1.5\\nentropy = 0.639\\nsamples = 445\\nvalue = [373, 72]'),\n",
       " Text(0.42572062084257206, 0.8541666666666666, 'x[5] <= 26.144\\nentropy = 0.915\\nsamples = 91\\nvalue = [61, 30]'),\n",
       " Text(0.41685144124168516, 0.8125, 'entropy = 0.0\\nsamples = 7\\nvalue = [7, 0]'),\n",
       " Text(0.43458980044345896, 0.8125, 'x[5] <= 26.419\\nentropy = 0.94\\nsamples = 84\\nvalue = [54, 30]'),\n",
       " Text(0.42572062084257206, 0.7708333333333334, 'entropy = 0.0\\nsamples = 2\\nvalue = [0, 2]'),\n",
       " Text(0.4434589800443459, 0.7708333333333334, 'x[5] <= 387.665\\nentropy = 0.926\\nsamples = 82\\nvalue = [54, 28]'),\n",
       " Text(0.43458980044345896, 0.7291666666666666, 'x[5] <= 134.642\\nentropy = 0.91\\nsamples = 80\\nvalue = [54, 26]'),\n",
       " Text(0.42572062084257206, 0.6875, 'x[4] <= 1.5\\nentropy = 0.939\\nsamples = 73\\nvalue = [47, 26]'),\n",
       " Text(0.41685144124168516, 0.6458333333333334, 'x[2] <= 27.5\\nentropy = 0.923\\nsamples = 71\\nvalue = [47, 24]'),\n",
       " Text(0.3991130820399113, 0.6041666666666666, 'x[2] <= 23.0\\nentropy = 0.954\\nsamples = 8\\nvalue = [3, 5]'),\n",
       " Text(0.3902439024390244, 0.5625, 'entropy = 0.0\\nsamples = 3\\nvalue = [3, 0]'),\n",
       " Text(0.4079822616407982, 0.5625, 'entropy = 0.0\\nsamples = 5\\nvalue = [0, 5]'),\n",
       " Text(0.43458980044345896, 0.6041666666666666, 'x[5] <= 122.267\\nentropy = 0.883\\nsamples = 63\\nvalue = [44, 19]'),\n",
       " Text(0.42572062084257206, 0.5625, 'x[2] <= 75.0\\nentropy = 0.869\\nsamples = 62\\nvalue = [44, 18]'),\n",
       " Text(0.41685144124168516, 0.5208333333333334, 'x[2] <= 60.5\\nentropy = 0.854\\nsamples = 61\\nvalue = [44, 17]'),\n",
       " Text(0.4079822616407982, 0.4791666666666667, 'x[5] <= 37.55\\nentropy = 0.886\\nsamples = 56\\nvalue = [39, 17]'),\n",
       " Text(0.37472283813747226, 0.4375, 'x[2] <= 57.0\\nentropy = 0.975\\nsamples = 27\\nvalue = [16, 11]'),\n",
       " Text(0.36585365853658536, 0.3958333333333333, 'x[2] <= 28.5\\nentropy = 0.99\\nsamples = 25\\nvalue = [14, 11]'),\n",
       " Text(0.35698447893569846, 0.3541666666666667, 'entropy = 0.0\\nsamples = 1\\nvalue = [0, 1]'),\n",
       " Text(0.37472283813747226, 0.3541666666666667, 'x[2] <= 47.5\\nentropy = 0.98\\nsamples = 24\\nvalue = [14, 10]'),\n",
       " Text(0.352549889135255, 0.3125, 'x[5] <= 29.1\\nentropy = 0.918\\nsamples = 18\\nvalue = [12, 6]'),\n",
       " Text(0.3348115299334812, 0.2708333333333333, 'x[5] <= 27.135\\nentropy = 0.592\\nsamples = 7\\nvalue = [6, 1]'),\n",
       " Text(0.3259423503325942, 0.22916666666666666, 'x[2] <= 37.35\\nentropy = 0.918\\nsamples = 3\\nvalue = [2, 1]'),\n",
       " Text(0.3170731707317073, 0.1875, 'entropy = 0.0\\nsamples = 1\\nvalue = [1, 0]'),\n",
       " Text(0.3348115299334812, 0.1875, 'entropy = 1.0\\nsamples = 2\\nvalue = [1, 1]'),\n",
       " Text(0.3436807095343681, 0.22916666666666666, 'entropy = 0.0\\nsamples = 4\\nvalue = [4, 0]'),\n",
       " Text(0.37028824833702884, 0.2708333333333333, 'x[2] <= 34.5\\nentropy = 0.994\\nsamples = 11\\nvalue = [6, 5]'),\n",
       " Text(0.3614190687361419, 0.22916666666666666, 'x[2] <= 29.35\\nentropy = 0.954\\nsamples = 8\\nvalue = [3, 5]'),\n",
       " Text(0.352549889135255, 0.1875, 'entropy = 0.0\\nsamples = 1\\nvalue = [1, 0]'),\n",
       " Text(0.37028824833702884, 0.1875, 'x[5] <= 30.75\\nentropy = 0.863\\nsamples = 7\\nvalue = [2, 5]'),\n",
       " Text(0.3614190687361419, 0.14583333333333334, 'entropy = 0.0\\nsamples = 4\\nvalue = [0, 4]'),\n",
       " Text(0.37915742793791574, 0.14583333333333334, 'x[5] <= 35.25\\nentropy = 0.918\\nsamples = 3\\nvalue = [2, 1]'),\n",
       " Text(0.37028824833702884, 0.10416666666666667, 'entropy = 0.0\\nsamples = 2\\nvalue = [2, 0]'),\n",
       " Text(0.38802660753880264, 0.10416666666666667, 'entropy = 0.0\\nsamples = 1\\nvalue = [0, 1]'),\n",
       " Text(0.37915742793791574, 0.22916666666666666, 'entropy = 0.0\\nsamples = 3\\nvalue = [3, 0]'),\n",
       " Text(0.3968957871396896, 0.3125, 'x[2] <= 53.5\\nentropy = 0.918\\nsamples = 6\\nvalue = [2, 4]'),\n",
       " Text(0.38802660753880264, 0.2708333333333333, 'entropy = 0.0\\nsamples = 3\\nvalue = [0, 3]'),\n",
       " Text(0.4057649667405765, 0.2708333333333333, 'x[5] <= 33.0\\nentropy = 0.918\\nsamples = 3\\nvalue = [2, 1]'),\n",
       " Text(0.3968957871396896, 0.22916666666666666, 'entropy = 0.0\\nsamples = 2\\nvalue = [2, 0]'),\n",
       " Text(0.4146341463414634, 0.22916666666666666, 'entropy = 0.0\\nsamples = 1\\nvalue = [0, 1]'),\n",
       " Text(0.3835920177383592, 0.3958333333333333, 'entropy = 0.0\\nsamples = 2\\nvalue = [2, 0]'),\n",
       " Text(0.44124168514412415, 0.4375, 'x[3] <= 0.5\\nentropy = 0.736\\nsamples = 29\\nvalue = [23, 6]'),\n",
       " Text(0.43237250554323725, 0.3958333333333333, 'entropy = 0.0\\nsamples = 11\\nvalue = [11, 0]'),\n",
       " Text(0.4501108647450111, 0.3958333333333333, 'x[2] <= 56.0\\nentropy = 0.918\\nsamples = 18\\nvalue = [12, 6]'),\n",
       " Text(0.44124168514412415, 0.3541666666666667, 'x[2] <= 49.5\\nentropy = 0.874\\nsamples = 17\\nvalue = [12, 5]'),\n",
       " Text(0.43237250554323725, 0.3125, 'x[5] <= 52.277\\nentropy = 0.94\\nsamples = 14\\nvalue = [9, 5]'),\n",
       " Text(0.42350332594235035, 0.2708333333333333, 'entropy = 0.0\\nsamples = 2\\nvalue = [2, 0]'),\n",
       " Text(0.44124168514412415, 0.2708333333333333, 'x[5] <= 59.087\\nentropy = 0.98\\nsamples = 12\\nvalue = [7, 5]'),\n",
       " Text(0.43237250554323725, 0.22916666666666666, 'entropy = 0.0\\nsamples = 2\\nvalue = [0, 2]'),\n",
       " Text(0.4501108647450111, 0.22916666666666666, 'x[2] <= 37.0\\nentropy = 0.881\\nsamples = 10\\nvalue = [7, 3]'),\n",
       " Text(0.44124168514412415, 0.1875, 'entropy = 0.0\\nsamples = 3\\nvalue = [3, 0]'),\n",
       " Text(0.458980044345898, 0.1875, 'x[2] <= 41.0\\nentropy = 0.985\\nsamples = 7\\nvalue = [4, 3]'),\n",
       " Text(0.4501108647450111, 0.14583333333333334, 'entropy = 0.0\\nsamples = 1\\nvalue = [0, 1]'),\n",
       " Text(0.4678492239467849, 0.14583333333333334, 'x[2] <= 47.0\\nentropy = 0.918\\nsamples = 6\\nvalue = [4, 2]'),\n",
       " Text(0.458980044345898, 0.10416666666666667, 'entropy = 0.0\\nsamples = 3\\nvalue = [3, 0]'),\n",
       " Text(0.47671840354767187, 0.10416666666666667, 'x[5] <= 99.994\\nentropy = 0.918\\nsamples = 3\\nvalue = [1, 2]'),\n",
       " Text(0.4678492239467849, 0.0625, 'entropy = 0.0\\nsamples = 2\\nvalue = [0, 2]'),\n",
       " Text(0.48558758314855877, 0.0625, 'entropy = 0.0\\nsamples = 1\\nvalue = [1, 0]'),\n",
       " Text(0.4501108647450111, 0.3125, 'entropy = 0.0\\nsamples = 3\\nvalue = [3, 0]'),\n",
       " Text(0.458980044345898, 0.3541666666666667, 'entropy = 0.0\\nsamples = 1\\nvalue = [0, 1]'),\n",
       " Text(0.42572062084257206, 0.4791666666666667, 'entropy = 0.0\\nsamples = 5\\nvalue = [5, 0]'),\n",
       " Text(0.43458980044345896, 0.5208333333333334, 'entropy = 0.0\\nsamples = 1\\nvalue = [0, 1]'),\n",
       " Text(0.4434589800443459, 0.5625, 'entropy = 0.0\\nsamples = 1\\nvalue = [0, 1]'),\n",
       " Text(0.43458980044345896, 0.6458333333333334, 'entropy = 0.0\\nsamples = 2\\nvalue = [0, 2]'),\n",
       " Text(0.4434589800443459, 0.6875, 'entropy = 0.0\\nsamples = 7\\nvalue = [7, 0]'),\n",
       " Text(0.4523281596452328, 0.7291666666666666, 'entropy = 0.0\\nsamples = 2\\nvalue = [0, 2]'),\n",
       " Text(0.842849223946785, 0.8541666666666666, 'x[2] <= 32.25\\nentropy = 0.525\\nsamples = 354\\nvalue = [312, 42]'),\n",
       " Text(0.7433481152993349, 0.8125, 'x[2] <= 31.5\\nentropy = 0.585\\nsamples = 264\\nvalue = [227, 37]'),\n",
       " Text(0.6197339246119734, 0.7708333333333334, 'x[3] <= 2.5\\nentropy = 0.539\\nsamples = 251\\nvalue = [220, 31]'),\n",
       " Text(0.6108647450110865, 0.7291666666666666, 'x[2] <= 10.0\\nentropy = 0.558\\nsamples = 238\\nvalue = [207, 31]'),\n",
       " Text(0.6019955654101996, 0.6875, 'entropy = 0.0\\nsamples = 2\\nvalue = [0, 2]'),\n",
       " Text(0.6197339246119734, 0.6875, 'x[0] <= 2.5\\nentropy = 0.538\\nsamples = 236\\nvalue = [207, 29]'),\n",
       " Text(0.5299334811529933, 0.6458333333333334, 'x[5] <= 14.454\\nentropy = 0.348\\nsamples = 46\\nvalue = [43, 3]'),\n",
       " Text(0.5210643015521065, 0.6041666666666666, 'x[5] <= 13.681\\nentropy = 0.459\\nsamples = 31\\nvalue = [28, 3]'),\n",
       " Text(0.5121951219512195, 0.5625, 'x[5] <= 5.25\\nentropy = 0.353\\nsamples = 30\\nvalue = [28, 2]'),\n",
       " Text(0.5033259423503326, 0.5208333333333334, 'entropy = 0.0\\nsamples = 5\\nvalue = [5, 0]'),\n",
       " Text(0.5210643015521065, 0.5208333333333334, 'x[2] <= 29.35\\nentropy = 0.402\\nsamples = 25\\nvalue = [23, 2]'),\n",
       " Text(0.5033259423503326, 0.4791666666666667, 'x[5] <= 11.0\\nentropy = 0.276\\nsamples = 21\\nvalue = [20, 1]'),\n",
       " Text(0.49445676274944567, 0.4375, 'x[2] <= 21.5\\nentropy = 0.592\\nsamples = 7\\nvalue = [6, 1]'),\n",
       " Text(0.48558758314855877, 0.3958333333333333, 'x[2] <= 17.5\\nentropy = 0.918\\nsamples = 3\\nvalue = [2, 1]'),\n",
       " Text(0.47671840354767187, 0.3541666666666667, 'entropy = 0.0\\nsamples = 1\\nvalue = [1, 0]'),\n",
       " Text(0.49445676274944567, 0.3541666666666667, 'entropy = 1.0\\nsamples = 2\\nvalue = [1, 1]'),\n",
       " Text(0.5033259423503326, 0.3958333333333333, 'entropy = 0.0\\nsamples = 4\\nvalue = [4, 0]'),\n",
       " Text(0.5121951219512195, 0.4375, 'entropy = 0.0\\nsamples = 14\\nvalue = [14, 0]'),\n",
       " Text(0.5388026607538803, 0.4791666666666667, 'x[2] <= 29.85\\nentropy = 0.811\\nsamples = 4\\nvalue = [3, 1]'),\n",
       " Text(0.5299334811529933, 0.4375, 'entropy = 0.0\\nsamples = 1\\nvalue = [0, 1]'),\n",
       " Text(0.5476718403547672, 0.4375, 'entropy = 0.0\\nsamples = 3\\nvalue = [3, 0]'),\n",
       " Text(0.5299334811529933, 0.5625, 'entropy = 0.0\\nsamples = 1\\nvalue = [0, 1]'),\n",
       " Text(0.5388026607538803, 0.6041666666666666, 'entropy = 0.0\\nsamples = 15\\nvalue = [15, 0]'),\n",
       " Text(0.7095343680709535, 0.6458333333333334, 'x[2] <= 29.35\\nentropy = 0.576\\nsamples = 190\\nvalue = [164, 26]'),\n",
       " Text(0.6297117516629712, 0.6041666666666666, 'x[2] <= 28.75\\nentropy = 0.667\\nsamples = 109\\nvalue = [90, 19]'),\n",
       " Text(0.6119733924611973, 0.5625, 'x[2] <= 27.5\\nentropy = 0.619\\nsamples = 104\\nvalue = [88, 16]'),\n",
       " Text(0.6031042128603105, 0.5208333333333334, 'x[2] <= 26.5\\nentropy = 0.662\\nsamples = 93\\nvalue = [77, 16]'),\n",
       " Text(0.5942350332594235, 0.4791666666666667, 'x[5] <= 40.323\\nentropy = 0.596\\nsamples = 90\\nvalue = [77, 13]'),\n",
       " Text(0.5853658536585366, 0.4375, 'x[5] <= 7.24\\nentropy = 0.571\\nsamples = 89\\nvalue = [77, 12]'),\n",
       " Text(0.5210643015521065, 0.3958333333333333, 'x[2] <= 19.5\\nentropy = 0.811\\nsamples = 16\\nvalue = [12, 4]'),\n",
       " Text(0.5121951219512195, 0.3541666666666667, 'entropy = 0.0\\nsamples = 5\\nvalue = [5, 0]'),\n",
       " Text(0.5299334811529933, 0.3541666666666667, 'x[5] <= 7.133\\nentropy = 0.946\\nsamples = 11\\nvalue = [7, 4]'),\n",
       " Text(0.5121951219512195, 0.3125, 'x[5] <= 2.006\\nentropy = 0.65\\nsamples = 6\\nvalue = [5, 1]'),\n",
       " Text(0.5033259423503326, 0.2708333333333333, 'entropy = 0.0\\nsamples = 1\\nvalue = [0, 1]'),\n",
       " Text(0.5210643015521065, 0.2708333333333333, 'entropy = 0.0\\nsamples = 5\\nvalue = [5, 0]'),\n",
       " Text(0.5476718403547672, 0.3125, 'x[2] <= 24.5\\nentropy = 0.971\\nsamples = 5\\nvalue = [2, 3]'),\n",
       " Text(0.5388026607538803, 0.2708333333333333, 'x[5] <= 7.227\\nentropy = 0.811\\nsamples = 4\\nvalue = [1, 3]'),\n",
       " Text(0.5299334811529933, 0.22916666666666666, 'entropy = 0.0\\nsamples = 2\\nvalue = [0, 2]'),\n",
       " Text(0.5476718403547672, 0.22916666666666666, 'x[2] <= 21.0\\nentropy = 1.0\\nsamples = 2\\nvalue = [1, 1]'),\n",
       " Text(0.5388026607538803, 0.1875, 'entropy = 0.0\\nsamples = 1\\nvalue = [0, 1]'),\n",
       " Text(0.5565410199556541, 0.1875, 'entropy = 0.0\\nsamples = 1\\nvalue = [1, 0]'),\n",
       " Text(0.5565410199556541, 0.2708333333333333, 'entropy = 0.0\\nsamples = 1\\nvalue = [1, 0]'),\n",
       " Text(0.6496674057649667, 0.3958333333333333, 'x[3] <= 0.5\\nentropy = 0.499\\nsamples = 73\\nvalue = [65, 8]'),\n",
       " Text(0.6186252771618626, 0.3541666666666667, 'x[5] <= 17.444\\nentropy = 0.362\\nsamples = 58\\nvalue = [54, 4]'),\n",
       " Text(0.6008869179600886, 0.3125, 'x[2] <= 21.5\\nentropy = 0.301\\nsamples = 56\\nvalue = [53, 3]'),\n",
       " Text(0.5920177383592018, 0.2708333333333333, 'x[5] <= 8.175\\nentropy = 0.431\\nsamples = 34\\nvalue = [31, 3]'),\n",
       " Text(0.5831485587583148, 0.22916666666666666, 'x[5] <= 7.785\\nentropy = 0.575\\nsamples = 22\\nvalue = [19, 3]'),\n",
       " Text(0.5742793791574279, 0.1875, 'entropy = 0.0\\nsamples = 7\\nvalue = [7, 0]'),\n",
       " Text(0.5920177383592018, 0.1875, 'x[5] <= 7.798\\nentropy = 0.722\\nsamples = 15\\nvalue = [12, 3]'),\n",
       " Text(0.5831485587583148, 0.14583333333333334, 'entropy = 0.0\\nsamples = 1\\nvalue = [0, 1]'),\n",
       " Text(0.6008869179600886, 0.14583333333333334, 'x[2] <= 19.5\\nentropy = 0.592\\nsamples = 14\\nvalue = [12, 2]'),\n",
       " Text(0.5920177383592018, 0.10416666666666667, 'x[5] <= 7.973\\nentropy = 0.918\\nsamples = 6\\nvalue = [4, 2]'),\n",
       " Text(0.5831485587583148, 0.0625, 'entropy = 0.0\\nsamples = 2\\nvalue = [2, 0]'),\n",
       " Text(0.6008869179600886, 0.0625, 'x[2] <= 17.5\\nentropy = 1.0\\nsamples = 4\\nvalue = [2, 2]'),\n",
       " Text(0.5920177383592018, 0.020833333333333332, 'entropy = 1.0\\nsamples = 2\\nvalue = [1, 1]'),\n",
       " Text(0.6097560975609756, 0.020833333333333332, 'entropy = 1.0\\nsamples = 2\\nvalue = [1, 1]'),\n",
       " Text(0.6097560975609756, 0.10416666666666667, 'entropy = 0.0\\nsamples = 8\\nvalue = [8, 0]'),\n",
       " Text(0.6008869179600886, 0.22916666666666666, 'entropy = 0.0\\nsamples = 12\\nvalue = [12, 0]'),\n",
       " Text(0.6097560975609756, 0.2708333333333333, 'entropy = 0.0\\nsamples = 22\\nvalue = [22, 0]'),\n",
       " Text(0.6363636363636364, 0.3125, 'x[2] <= 18.5\\nentropy = 1.0\\nsamples = 2\\nvalue = [1, 1]'),\n",
       " Text(0.6274944567627494, 0.2708333333333333, 'entropy = 0.0\\nsamples = 1\\nvalue = [1, 0]'),\n",
       " Text(0.6452328159645233, 0.2708333333333333, 'entropy = 0.0\\nsamples = 1\\nvalue = [0, 1]'),\n",
       " Text(0.6807095343680709, 0.3541666666666667, 'x[5] <= 15.921\\nentropy = 0.837\\nsamples = 15\\nvalue = [11, 4]'),\n",
       " Text(0.6718403547671841, 0.3125, 'x[2] <= 25.5\\nentropy = 0.991\\nsamples = 9\\nvalue = [5, 4]'),\n",
       " Text(0.6629711751662971, 0.2708333333333333, 'x[5] <= 7.89\\nentropy = 0.918\\nsamples = 6\\nvalue = [2, 4]'),\n",
       " Text(0.6541019955654102, 0.22916666666666666, 'x[2] <= 23.5\\nentropy = 0.918\\nsamples = 3\\nvalue = [2, 1]'),\n",
       " Text(0.6452328159645233, 0.1875, 'entropy = 0.0\\nsamples = 2\\nvalue = [2, 0]'),\n",
       " Text(0.6629711751662971, 0.1875, 'entropy = 0.0\\nsamples = 1\\nvalue = [0, 1]'),\n",
       " Text(0.6718403547671841, 0.22916666666666666, 'entropy = 0.0\\nsamples = 3\\nvalue = [0, 3]'),\n",
       " Text(0.6807095343680709, 0.2708333333333333, 'entropy = 0.0\\nsamples = 3\\nvalue = [3, 0]'),\n",
       " Text(0.6895787139689579, 0.3125, 'entropy = 0.0\\nsamples = 6\\nvalue = [6, 0]'),\n",
       " Text(0.6031042128603105, 0.4375, 'entropy = 0.0\\nsamples = 1\\nvalue = [0, 1]'),\n",
       " Text(0.6119733924611973, 0.4791666666666667, 'entropy = 0.0\\nsamples = 3\\nvalue = [0, 3]'),\n",
       " Text(0.6208425720620843, 0.5208333333333334, 'entropy = 0.0\\nsamples = 11\\nvalue = [11, 0]'),\n",
       " Text(0.647450110864745, 0.5625, 'x[5] <= 7.973\\nentropy = 0.971\\nsamples = 5\\nvalue = [2, 3]'),\n",
       " Text(0.6385809312638581, 0.5208333333333334, 'entropy = 0.0\\nsamples = 2\\nvalue = [0, 2]'),\n",
       " Text(0.656319290465632, 0.5208333333333334, 'x[5] <= 9.492\\nentropy = 0.918\\nsamples = 3\\nvalue = [2, 1]'),\n",
       " Text(0.647450110864745, 0.4791666666666667, 'entropy = 0.0\\nsamples = 2\\nvalue = [2, 0]'),\n",
       " Text(0.6651884700665188, 0.4791666666666667, 'entropy = 0.0\\nsamples = 1\\nvalue = [0, 1]'),\n",
       " Text(0.7893569844789357, 0.6041666666666666, 'x[5] <= 22.465\\nentropy = 0.424\\nsamples = 81\\nvalue = [74, 7]'),\n",
       " Text(0.7649667405764967, 0.5625, 'x[2] <= 30.5\\nentropy = 0.353\\nsamples = 75\\nvalue = [70, 5]'),\n",
       " Text(0.7427937915742794, 0.5208333333333334, 'x[5] <= 7.802\\nentropy = 0.31\\nsamples = 72\\nvalue = [68, 4]'),\n",
       " Text(0.7250554323725056, 0.4791666666666667, 'x[5] <= 7.763\\nentropy = 0.459\\nsamples = 31\\nvalue = [28, 3]'),\n",
       " Text(0.7161862527716186, 0.4375, 'x[5] <= 7.227\\nentropy = 0.362\\nsamples = 29\\nvalue = [27, 2]'),\n",
       " Text(0.7073170731707317, 0.3958333333333333, 'entropy = 0.0\\nsamples = 6\\nvalue = [6, 0]'),\n",
       " Text(0.7250554323725056, 0.3958333333333333, 'x[2] <= 29.85\\nentropy = 0.426\\nsamples = 23\\nvalue = [21, 2]'),\n",
       " Text(0.7161862527716186, 0.3541666666666667, 'x[5] <= 7.24\\nentropy = 0.454\\nsamples = 21\\nvalue = [19, 2]'),\n",
       " Text(0.7073170731707317, 0.3125, 'entropy = 0.65\\nsamples = 6\\nvalue = [5, 1]'),\n",
       " Text(0.7250554323725056, 0.3125, 'x[5] <= 7.742\\nentropy = 0.353\\nsamples = 15\\nvalue = [14, 1]'),\n",
       " Text(0.7161862527716186, 0.2708333333333333, 'entropy = 0.0\\nsamples = 6\\nvalue = [6, 0]'),\n",
       " Text(0.7339246119733924, 0.2708333333333333, 'x[3] <= 0.5\\nentropy = 0.503\\nsamples = 9\\nvalue = [8, 1]'),\n",
       " Text(0.7250554323725056, 0.22916666666666666, 'entropy = 0.544\\nsamples = 8\\nvalue = [7, 1]'),\n",
       " Text(0.7427937915742794, 0.22916666666666666, 'entropy = 0.0\\nsamples = 1\\nvalue = [1, 0]'),\n",
       " Text(0.7339246119733924, 0.3541666666666667, 'entropy = 0.0\\nsamples = 2\\nvalue = [2, 0]'),\n",
       " Text(0.7339246119733924, 0.4375, 'entropy = 1.0\\nsamples = 2\\nvalue = [1, 1]'),\n",
       " Text(0.7605321507760532, 0.4791666666666667, 'x[5] <= 8.081\\nentropy = 0.165\\nsamples = 41\\nvalue = [40, 1]'),\n",
       " Text(0.7516629711751663, 0.4375, 'entropy = 0.0\\nsamples = 27\\nvalue = [27, 0]'),\n",
       " Text(0.7694013303769401, 0.4375, 'x[5] <= 8.388\\nentropy = 0.371\\nsamples = 14\\nvalue = [13, 1]'),\n",
       " Text(0.7605321507760532, 0.3958333333333333, 'entropy = 0.0\\nsamples = 1\\nvalue = [0, 1]'),\n",
       " Text(0.7782705099778271, 0.3958333333333333, 'entropy = 0.0\\nsamples = 13\\nvalue = [13, 0]'),\n",
       " Text(0.7871396895787139, 0.5208333333333334, 'x[5] <= 7.85\\nentropy = 0.918\\nsamples = 3\\nvalue = [2, 1]'),\n",
       " Text(0.7782705099778271, 0.4791666666666667, 'entropy = 0.0\\nsamples = 2\\nvalue = [2, 0]'),\n",
       " Text(0.7960088691796009, 0.4791666666666667, 'entropy = 0.0\\nsamples = 1\\nvalue = [0, 1]'),\n",
       " Text(0.8137472283813747, 0.5625, 'x[5] <= 23.35\\nentropy = 0.918\\nsamples = 6\\nvalue = [4, 2]'),\n",
       " Text(0.8048780487804879, 0.5208333333333334, 'entropy = 0.0\\nsamples = 1\\nvalue = [0, 1]'),\n",
       " Text(0.8226164079822617, 0.5208333333333334, 'x[5] <= 40.323\\nentropy = 0.722\\nsamples = 5\\nvalue = [4, 1]'),\n",
       " Text(0.8137472283813747, 0.4791666666666667, 'entropy = 0.0\\nsamples = 3\\nvalue = [3, 0]'),\n",
       " Text(0.8314855875831486, 0.4791666666666667, 'entropy = 1.0\\nsamples = 2\\nvalue = [1, 1]'),\n",
       " Text(0.6286031042128604, 0.7291666666666666, 'entropy = 0.0\\nsamples = 13\\nvalue = [13, 0]'),\n",
       " Text(0.8669623059866962, 0.7708333333333334, 'x[5] <= 20.925\\nentropy = 0.996\\nsamples = 13\\nvalue = [7, 6]'),\n",
       " Text(0.8492239467849224, 0.7291666666666666, 'x[5] <= 8.206\\nentropy = 0.918\\nsamples = 9\\nvalue = [6, 3]'),\n",
       " Text(0.8403547671840355, 0.6875, 'x[5] <= 7.988\\nentropy = 0.985\\nsamples = 7\\nvalue = [4, 3]'),\n",
       " Text(0.8314855875831486, 0.6458333333333334, 'x[5] <= 7.802\\nentropy = 0.918\\nsamples = 6\\nvalue = [4, 2]'),\n",
       " Text(0.8226164079822617, 0.6041666666666666, 'entropy = 0.0\\nsamples = 1\\nvalue = [1, 0]'),\n",
       " Text(0.8403547671840355, 0.6041666666666666, 'x[5] <= 7.875\\nentropy = 0.971\\nsamples = 5\\nvalue = [3, 2]'),\n",
       " Text(0.8314855875831486, 0.5625, 'entropy = 0.0\\nsamples = 1\\nvalue = [0, 1]'),\n",
       " Text(0.8492239467849224, 0.5625, 'x[5] <= 7.91\\nentropy = 0.811\\nsamples = 4\\nvalue = [3, 1]'),\n",
       " Text(0.8403547671840355, 0.5208333333333334, 'entropy = 0.0\\nsamples = 1\\nvalue = [1, 0]'),\n",
       " Text(0.8580931263858093, 0.5208333333333334, 'entropy = 0.918\\nsamples = 3\\nvalue = [2, 1]'),\n",
       " Text(0.8492239467849224, 0.6458333333333334, 'entropy = 0.0\\nsamples = 1\\nvalue = [0, 1]'),\n",
       " Text(0.8580931263858093, 0.6875, 'entropy = 0.0\\nsamples = 2\\nvalue = [2, 0]'),\n",
       " Text(0.88470066518847, 0.7291666666666666, 'x[3] <= 1.5\\nentropy = 0.811\\nsamples = 4\\nvalue = [1, 3]'),\n",
       " Text(0.8758314855875832, 0.6875, 'entropy = 0.0\\nsamples = 3\\nvalue = [0, 3]'),\n",
       " Text(0.893569844789357, 0.6875, 'entropy = 0.0\\nsamples = 1\\nvalue = [1, 0]'),\n",
       " Text(0.9423503325942351, 0.8125, 'x[5] <= 13.25\\nentropy = 0.31\\nsamples = 90\\nvalue = [85, 5]'),\n",
       " Text(0.9334811529933481, 0.7708333333333334, 'x[5] <= 7.91\\nentropy = 0.404\\nsamples = 62\\nvalue = [57, 5]'),\n",
       " Text(0.9246119733924612, 0.7291666666666666, 'entropy = 0.0\\nsamples = 27\\nvalue = [27, 0]'),\n",
       " Text(0.9423503325942351, 0.7291666666666666, 'x[5] <= 7.988\\nentropy = 0.592\\nsamples = 35\\nvalue = [30, 5]'),\n",
       " Text(0.9113082039911308, 0.6875, 'x[2] <= 38.0\\nentropy = 1.0\\nsamples = 4\\nvalue = [2, 2]'),\n",
       " Text(0.9024390243902439, 0.6458333333333334, 'entropy = 0.0\\nsamples = 1\\nvalue = [1, 0]'),\n",
       " Text(0.9201773835920177, 0.6458333333333334, 'x[2] <= 41.5\\nentropy = 0.918\\nsamples = 3\\nvalue = [1, 2]'),\n",
       " Text(0.9113082039911308, 0.6041666666666666, 'entropy = 1.0\\nsamples = 2\\nvalue = [1, 1]'),\n",
       " Text(0.9290465631929047, 0.6041666666666666, 'entropy = 0.0\\nsamples = 1\\nvalue = [0, 1]'),\n",
       " Text(0.9733924611973392, 0.6875, 'x[0] <= 2.5\\nentropy = 0.459\\nsamples = 31\\nvalue = [28, 3]'),\n",
       " Text(0.9645232815964523, 0.6458333333333334, 'x[2] <= 59.5\\nentropy = 0.696\\nsamples = 16\\nvalue = [13, 3]'),\n",
       " Text(0.9467849223946785, 0.6041666666666666, 'x[5] <= 12.762\\nentropy = 0.592\\nsamples = 14\\nvalue = [12, 2]'),\n",
       " Text(0.9379157427937915, 0.5625, 'entropy = 0.0\\nsamples = 5\\nvalue = [5, 0]'),\n",
       " Text(0.9556541019955654, 0.5625, 'x[2] <= 45.0\\nentropy = 0.764\\nsamples = 9\\nvalue = [7, 2]'),\n",
       " Text(0.9467849223946785, 0.5208333333333334, 'x[2] <= 40.5\\nentropy = 0.918\\nsamples = 6\\nvalue = [4, 2]'),\n",
       " Text(0.9379157427937915, 0.4791666666666667, 'x[2] <= 36.5\\nentropy = 0.811\\nsamples = 4\\nvalue = [3, 1]'),\n",
       " Text(0.9290465631929047, 0.4375, 'entropy = 0.918\\nsamples = 3\\nvalue = [2, 1]'),\n",
       " Text(0.9467849223946785, 0.4375, 'entropy = 0.0\\nsamples = 1\\nvalue = [1, 0]'),\n",
       " Text(0.9556541019955654, 0.4791666666666667, 'entropy = 1.0\\nsamples = 2\\nvalue = [1, 1]'),\n",
       " Text(0.9645232815964523, 0.5208333333333334, 'entropy = 0.0\\nsamples = 3\\nvalue = [3, 0]'),\n",
       " Text(0.9822616407982262, 0.6041666666666666, 'x[2] <= 66.0\\nentropy = 1.0\\nsamples = 2\\nvalue = [1, 1]'),\n",
       " Text(0.9733924611973392, 0.5625, 'entropy = 0.0\\nsamples = 1\\nvalue = [0, 1]'),\n",
       " Text(0.991130820399113, 0.5625, 'entropy = 0.0\\nsamples = 1\\nvalue = [1, 0]'),\n",
       " Text(0.9822616407982262, 0.6458333333333334, 'entropy = 0.0\\nsamples = 15\\nvalue = [15, 0]'),\n",
       " Text(0.9512195121951219, 0.7708333333333334, 'entropy = 0.0\\nsamples = 28\\nvalue = [28, 0]')]"
      ]
     },
     "execution_count": 26,
     "metadata": {},
     "output_type": "execute_result"
    },
    {
     "data": {
      "image/png": "[encoded data removed]",
      "text/plain": [
       "<Figure size 640x480 with 1 Axes>"
      ]
     },
     "metadata": {},
     "output_type": "display_data"
    }
   ],
   "source": [
    "tree.plot_tree(model)"
   ]
  },
  {
   "cell_type": "code",
   "execution_count": 27,
   "metadata": {},
   "outputs": [],
   "source": [
    "model = DecisionTreeClassifier(criterion='entropy',max_depth=8)"
   ]
  },
  {
   "cell_type": "code",
   "execution_count": 28,
   "metadata": {},
   "outputs": [
    {
     "data": {
      "text/html": [
       "<style>#sk-container-id-2 {color: black;}#sk-container-id-2 pre{padding: 0;}#sk-container-id-2 div.sk-toggleable {background-color: white;}#sk-container-id-2 label.sk-toggleable__label {cursor: pointer;display: block;width: 100%;margin-bottom: 0;padding: 0.3em;box-sizing: border-box;text-align: center;}#sk-container-id-2 label.sk-toggleable__label-arrow:before {content: \"▸\";float: left;margin-right: 0.25em;color: #696969;}#sk-container-id-2 label.sk-toggleable__label-arrow:hover:before {color: black;}#sk-container-id-2 div.sk-estimator:hover label.sk-toggleable__label-arrow:before {color: black;}#sk-container-id-2 div.sk-toggleable__content {max-height: 0;max-width: 0;overflow: hidden;text-align: left;background-color: #f0f8ff;}#sk-container-id-2 div.sk-toggleable__content pre {margin: 0.2em;color: black;border-radius: 0.25em;background-color: #f0f8ff;}#sk-container-id-2 input.sk-toggleable__control:checked~div.sk-toggleable__content {max-height: 200px;max-width: 100%;overflow: auto;}#sk-container-id-2 input.sk-toggleable__control:checked~label.sk-toggleable__label-arrow:before {content: \"▾\";}#sk-container-id-2 div.sk-estimator input.sk-toggleable__control:checked~label.sk-toggleable__label {background-color: #d4ebff;}#sk-container-id-2 div.sk-label input.sk-toggleable__control:checked~label.sk-toggleable__label {background-color: #d4ebff;}#sk-container-id-2 input.sk-hidden--visually {border: 0;clip: rect(1px 1px 1px 1px);clip: rect(1px, 1px, 1px, 1px);height: 1px;margin: -1px;overflow: hidden;padding: 0;position: absolute;width: 1px;}#sk-container-id-2 div.sk-estimator {font-family: monospace;background-color: #f0f8ff;border: 1px dotted black;border-radius: 0.25em;box-sizing: border-box;margin-bottom: 0.5em;}#sk-container-id-2 div.sk-estimator:hover {background-color: #d4ebff;}#sk-container-id-2 div.sk-parallel-item::after {content: \"\";width: 100%;border-bottom: 1px solid gray;flex-grow: 1;}#sk-container-id-2 div.sk-label:hover label.sk-toggleable__label {background-color: #d4ebff;}#sk-container-id-2 div.sk-serial::before {content: \"\";position: absolute;border-left: 1px solid gray;box-sizing: border-box;top: 0;bottom: 0;left: 50%;z-index: 0;}#sk-container-id-2 div.sk-serial {display: flex;flex-direction: column;align-items: center;background-color: white;padding-right: 0.2em;padding-left: 0.2em;position: relative;}#sk-container-id-2 div.sk-item {position: relative;z-index: 1;}#sk-container-id-2 div.sk-parallel {display: flex;align-items: stretch;justify-content: center;background-color: white;position: relative;}#sk-container-id-2 div.sk-item::before, #sk-container-id-2 div.sk-parallel-item::before {content: \"\";position: absolute;border-left: 1px solid gray;box-sizing: border-box;top: 0;bottom: 0;left: 50%;z-index: -1;}#sk-container-id-2 div.sk-parallel-item {display: flex;flex-direction: column;z-index: 1;position: relative;background-color: white;}#sk-container-id-2 div.sk-parallel-item:first-child::after {align-self: flex-end;width: 50%;}#sk-container-id-2 div.sk-parallel-item:last-child::after {align-self: flex-start;width: 50%;}#sk-container-id-2 div.sk-parallel-item:only-child::after {width: 0;}#sk-container-id-2 div.sk-dashed-wrapped {border: 1px dashed gray;margin: 0 0.4em 0.5em 0.4em;box-sizing: border-box;padding-bottom: 0.4em;background-color: white;}#sk-container-id-2 div.sk-label label {font-family: monospace;font-weight: bold;display: inline-block;line-height: 1.2em;}#sk-container-id-2 div.sk-label-container {text-align: center;}#sk-container-id-2 div.sk-container {/* jupyter's `normalize.less` sets `[hidden] { display: none; }` but bootstrap.min.css set `[hidden] { display: none !important; }` so we also need the `!important` here to be able to override the default hidden behavior on the sphinx rendered scikit-learn.org. See: https://github.com/scikit-learn/scikit-learn/issues/21755 */display: inline-block !important;position: relative;}#sk-container-id-2 div.sk-text-repr-fallback {display: none;}</style><div id=\"sk-container-id-2\" class=\"sk-top-container\"><div class=\"sk-text-repr-fallback\"><pre>DecisionTreeClassifier(criterion=&#x27;entropy&#x27;, max_depth=8)</pre><b>In a Jupyter environment, please rerun this cell to show the HTML representation or trust the notebook. <br />On GitHub, the HTML representation is unable to render, please try loading this page with nbviewer.org.</b></div><div class=\"sk-container\" hidden><div class=\"sk-item\"><div class=\"sk-estimator sk-toggleable\"><input class=\"sk-toggleable__control sk-hidden--visually\" id=\"sk-estimator-id-2\" type=\"checkbox\" checked><label for=\"sk-estimator-id-2\" class=\"sk-toggleable__label sk-toggleable__label-arrow\">DecisionTreeClassifier</label><div class=\"sk-toggleable__content\"><pre>DecisionTreeClassifier(criterion=&#x27;entropy&#x27;, max_depth=8)</pre></div></div></div></div></div>"
      ],
      "text/plain": [
       "DecisionTreeClassifier(criterion='entropy', max_depth=8)"
      ]
     },
     "execution_count": 28,
     "metadata": {},
     "output_type": "execute_result"
    }
   ],
   "source": [
    "model.fit(X_train,Y_train)"
   ]
  },
  {
   "cell_type": "code",
   "execution_count": 29,
   "metadata": {},
   "outputs": [
    {
     "data": {
      "text/plain": [
       "0.8268156424581006"
      ]
     },
     "execution_count": 29,
     "metadata": {},
     "output_type": "execute_result"
    }
   ],
   "source": [
    "model.score(X_test,Y_test)"
   ]
  },
  {
   "cell_type": "code",
   "execution_count": 30,
   "metadata": {},
   "outputs": [
    {
     "data": {
      "text/plain": [
       "0.8918539325842697"
      ]
     },
     "execution_count": 30,
     "metadata": {},
     "output_type": "execute_result"
    }
   ],
   "source": [
    "model.score(X_train,Y_train)"
   ]
  },
  {
   "cell_type": "code",
   "execution_count": 31,
   "metadata": {},
   "outputs": [
    {
     "data": {
      "text/plain": [
       "[Text(0.46383928571428573, 0.9444444444444444, 'x[1] <= 0.5\\nentropy = 0.955\\nsamples = 712\\nvalue = [444, 268]'),\n",
       " Text(0.25357142857142856, 0.8333333333333334, 'x[0] <= 2.5\\nentropy = 0.829\\nsamples = 245\\nvalue = [64, 181]'),\n",
       " Text(0.075, 0.7222222222222222, 'x[2] <= 2.5\\nentropy = 0.235\\nsamples = 130\\nvalue = [5, 125]'),\n",
       " Text(0.02857142857142857, 0.6111111111111112, 'x[4] <= 1.5\\nentropy = 1.0\\nsamples = 2\\nvalue = [1, 1]'),\n",
       " Text(0.014285714285714285, 0.5, 'entropy = 0.0\\nsamples = 1\\nvalue = [0, 1]'),\n",
       " Text(0.04285714285714286, 0.5, 'entropy = 0.0\\nsamples = 1\\nvalue = [1, 0]'),\n",
       " Text(0.12142857142857143, 0.6111111111111112, 'x[2] <= 27.5\\nentropy = 0.201\\nsamples = 128\\nvalue = [4, 124]'),\n",
       " Text(0.07142857142857142, 0.5, 'x[2] <= 23.5\\nentropy = 0.342\\nsamples = 47\\nvalue = [3, 44]'),\n",
       " Text(0.05714285714285714, 0.3888888888888889, 'entropy = 0.0\\nsamples = 29\\nvalue = [0, 29]'),\n",
       " Text(0.08571428571428572, 0.3888888888888889, 'x[2] <= 24.5\\nentropy = 0.65\\nsamples = 18\\nvalue = [3, 15]'),\n",
       " Text(0.05714285714285714, 0.2777777777777778, 'x[5] <= 13.75\\nentropy = 0.414\\nsamples = 12\\nvalue = [1, 11]'),\n",
       " Text(0.04285714285714286, 0.16666666666666666, 'entropy = 1.0\\nsamples = 2\\nvalue = [1, 1]'),\n",
       " Text(0.07142857142857142, 0.16666666666666666, 'entropy = 0.0\\nsamples = 10\\nvalue = [0, 10]'),\n",
       " Text(0.11428571428571428, 0.2777777777777778, 'x[0] <= 1.5\\nentropy = 0.918\\nsamples = 6\\nvalue = [2, 4]'),\n",
       " Text(0.1, 0.16666666666666666, 'entropy = 0.0\\nsamples = 1\\nvalue = [1, 0]'),\n",
       " Text(0.12857142857142856, 0.16666666666666666, 'x[2] <= 26.0\\nentropy = 0.722\\nsamples = 5\\nvalue = [1, 4]'),\n",
       " Text(0.11428571428571428, 0.05555555555555555, 'entropy = 0.0\\nsamples = 2\\nvalue = [0, 2]'),\n",
       " Text(0.14285714285714285, 0.05555555555555555, 'entropy = 0.918\\nsamples = 3\\nvalue = [1, 2]'),\n",
       " Text(0.17142857142857143, 0.5, 'x[2] <= 49.5\\nentropy = 0.096\\nsamples = 81\\nvalue = [1, 80]'),\n",
       " Text(0.15714285714285714, 0.3888888888888889, 'entropy = 0.0\\nsamples = 65\\nvalue = [0, 65]'),\n",
       " Text(0.18571428571428572, 0.3888888888888889, 'x[2] <= 50.5\\nentropy = 0.337\\nsamples = 16\\nvalue = [1, 15]'),\n",
       " Text(0.17142857142857143, 0.2777777777777778, 'x[5] <= 27.356\\nentropy = 0.811\\nsamples = 4\\nvalue = [1, 3]'),\n",
       " Text(0.15714285714285714, 0.16666666666666666, 'entropy = 0.0\\nsamples = 3\\nvalue = [0, 3]'),\n",
       " Text(0.18571428571428572, 0.16666666666666666, 'entropy = 0.0\\nsamples = 1\\nvalue = [1, 0]'),\n",
       " Text(0.2, 0.2777777777777778, 'entropy = 0.0\\nsamples = 12\\nvalue = [0, 12]'),\n",
       " Text(0.43214285714285716, 0.7222222222222222, 'x[5] <= 23.35\\nentropy = 1.0\\nsamples = 115\\nvalue = [59, 56]'),\n",
       " Text(0.32142857142857145, 0.6111111111111112, 'x[5] <= 7.744\\nentropy = 0.979\\nsamples = 94\\nvalue = [39, 55]'),\n",
       " Text(0.22857142857142856, 0.5, 'x[5] <= 6.987\\nentropy = 0.619\\nsamples = 13\\nvalue = [2, 11]'),\n",
       " Text(0.21428571428571427, 0.3888888888888889, 'entropy = 0.0\\nsamples = 1\\nvalue = [1, 0]'),\n",
       " Text(0.24285714285714285, 0.3888888888888889, 'x[5] <= 7.59\\nentropy = 0.414\\nsamples = 12\\nvalue = [1, 11]'),\n",
       " Text(0.22857142857142856, 0.2777777777777778, 'entropy = 0.0\\nsamples = 7\\nvalue = [0, 7]'),\n",
       " Text(0.2571428571428571, 0.2777777777777778, 'x[5] <= 7.64\\nentropy = 0.722\\nsamples = 5\\nvalue = [1, 4]'),\n",
       " Text(0.24285714285714285, 0.16666666666666666, 'entropy = 0.0\\nsamples = 1\\nvalue = [1, 0]'),\n",
       " Text(0.2714285714285714, 0.16666666666666666, 'entropy = 0.0\\nsamples = 4\\nvalue = [0, 4]'),\n",
       " Text(0.4142857142857143, 0.5, 'x[5] <= 15.373\\nentropy = 0.995\\nsamples = 81\\nvalue = [37, 44]'),\n",
       " Text(0.34285714285714286, 0.3888888888888889, 'x[5] <= 13.908\\nentropy = 0.992\\nsamples = 56\\nvalue = [31, 25]'),\n",
       " Text(0.3142857142857143, 0.2777777777777778, 'x[5] <= 10.825\\nentropy = 1.0\\nsamples = 48\\nvalue = [24, 24]'),\n",
       " Text(0.3, 0.16666666666666666, 'x[5] <= 8.04\\nentropy = 0.985\\nsamples = 42\\nvalue = [24, 18]'),\n",
       " Text(0.2857142857142857, 0.05555555555555555, 'entropy = 0.98\\nsamples = 24\\nvalue = [10, 14]'),\n",
       " Text(0.3142857142857143, 0.05555555555555555, 'entropy = 0.764\\nsamples = 18\\nvalue = [14, 4]'),\n",
       " Text(0.32857142857142857, 0.16666666666666666, 'entropy = 0.0\\nsamples = 6\\nvalue = [0, 6]'),\n",
       " Text(0.37142857142857144, 0.2777777777777778, 'x[4] <= 1.5\\nentropy = 0.544\\nsamples = 8\\nvalue = [7, 1]'),\n",
       " Text(0.35714285714285715, 0.16666666666666666, 'entropy = 0.0\\nsamples = 6\\nvalue = [6, 0]'),\n",
       " Text(0.38571428571428573, 0.16666666666666666, 'x[2] <= 29.35\\nentropy = 1.0\\nsamples = 2\\nvalue = [1, 1]'),\n",
       " Text(0.37142857142857144, 0.05555555555555555, 'entropy = 0.0\\nsamples = 1\\nvalue = [0, 1]'),\n",
       " Text(0.4, 0.05555555555555555, 'entropy = 0.0\\nsamples = 1\\nvalue = [1, 0]'),\n",
       " Text(0.4857142857142857, 0.3888888888888889, 'x[2] <= 29.35\\nentropy = 0.795\\nsamples = 25\\nvalue = [6, 19]'),\n",
       " Text(0.45714285714285713, 0.2777777777777778, 'x[3] <= 2.5\\nentropy = 0.98\\nsamples = 12\\nvalue = [5, 7]'),\n",
       " Text(0.44285714285714284, 0.16666666666666666, 'x[2] <= 25.0\\nentropy = 0.881\\nsamples = 10\\nvalue = [3, 7]'),\n",
       " Text(0.42857142857142855, 0.05555555555555555, 'entropy = 0.544\\nsamples = 8\\nvalue = [1, 7]'),\n",
       " Text(0.45714285714285713, 0.05555555555555555, 'entropy = 0.0\\nsamples = 2\\nvalue = [2, 0]'),\n",
       " Text(0.4714285714285714, 0.16666666666666666, 'entropy = 0.0\\nsamples = 2\\nvalue = [2, 0]'),\n",
       " Text(0.5142857142857142, 0.2777777777777778, 'x[2] <= 30.35\\nentropy = 0.391\\nsamples = 13\\nvalue = [1, 12]'),\n",
       " Text(0.5, 0.16666666666666666, 'entropy = 0.0\\nsamples = 8\\nvalue = [0, 8]'),\n",
       " Text(0.5285714285714286, 0.16666666666666666, 'x[2] <= 32.0\\nentropy = 0.722\\nsamples = 5\\nvalue = [1, 4]'),\n",
       " Text(0.5142857142857142, 0.05555555555555555, 'entropy = 1.0\\nsamples = 2\\nvalue = [1, 1]'),\n",
       " Text(0.5428571428571428, 0.05555555555555555, 'entropy = 0.0\\nsamples = 3\\nvalue = [0, 3]'),\n",
       " Text(0.5428571428571428, 0.6111111111111112, 'x[2] <= 5.5\\nentropy = 0.276\\nsamples = 21\\nvalue = [20, 1]'),\n",
       " Text(0.5285714285714286, 0.5, 'x[2] <= 3.5\\nentropy = 0.918\\nsamples = 3\\nvalue = [2, 1]'),\n",
       " Text(0.5142857142857142, 0.3888888888888889, 'entropy = 0.0\\nsamples = 2\\nvalue = [2, 0]'),\n",
       " Text(0.5428571428571428, 0.3888888888888889, 'entropy = 0.0\\nsamples = 1\\nvalue = [0, 1]'),\n",
       " Text(0.5571428571428572, 0.5, 'entropy = 0.0\\nsamples = 18\\nvalue = [18, 0]'),\n",
       " Text(0.6741071428571429, 0.8333333333333334, 'x[2] <= 6.5\\nentropy = 0.694\\nsamples = 467\\nvalue = [380, 87]'),\n",
       " Text(0.5857142857142857, 0.7222222222222222, 'x[3] <= 2.5\\nentropy = 0.902\\nsamples = 22\\nvalue = [7, 15]'),\n",
       " Text(0.5714285714285714, 0.6111111111111112, 'entropy = 0.0\\nsamples = 14\\nvalue = [0, 14]'),\n",
       " Text(0.6, 0.6111111111111112, 'x[4] <= 1.5\\nentropy = 0.544\\nsamples = 8\\nvalue = [7, 1]'),\n",
       " Text(0.5857142857142857, 0.5, 'entropy = 0.0\\nsamples = 5\\nvalue = [5, 0]'),\n",
       " Text(0.6142857142857143, 0.5, 'x[5] <= 31.331\\nentropy = 0.918\\nsamples = 3\\nvalue = [2, 1]'),\n",
       " Text(0.6, 0.3888888888888889, 'entropy = 0.0\\nsamples = 1\\nvalue = [1, 0]'),\n",
       " Text(0.6285714285714286, 0.3888888888888889, 'x[2] <= 2.0\\nentropy = 1.0\\nsamples = 2\\nvalue = [1, 1]'),\n",
       " Text(0.6142857142857143, 0.2777777777777778, 'entropy = 0.0\\nsamples = 1\\nvalue = [1, 0]'),\n",
       " Text(0.6428571428571429, 0.2777777777777778, 'entropy = 0.0\\nsamples = 1\\nvalue = [0, 1]'),\n",
       " Text(0.7625, 0.7222222222222222, 'x[0] <= 1.5\\nentropy = 0.639\\nsamples = 445\\nvalue = [373, 72]'),\n",
       " Text(0.6571428571428571, 0.6111111111111112, 'x[5] <= 26.144\\nentropy = 0.915\\nsamples = 91\\nvalue = [61, 30]'),\n",
       " Text(0.6428571428571429, 0.5, 'entropy = 0.0\\nsamples = 7\\nvalue = [7, 0]'),\n",
       " Text(0.6714285714285714, 0.5, 'x[5] <= 26.419\\nentropy = 0.94\\nsamples = 84\\nvalue = [54, 30]'),\n",
       " Text(0.6571428571428571, 0.3888888888888889, 'entropy = 0.0\\nsamples = 2\\nvalue = [0, 2]'),\n",
       " Text(0.6857142857142857, 0.3888888888888889, 'x[5] <= 387.665\\nentropy = 0.926\\nsamples = 82\\nvalue = [54, 28]'),\n",
       " Text(0.6714285714285714, 0.2777777777777778, 'x[5] <= 134.642\\nentropy = 0.91\\nsamples = 80\\nvalue = [54, 26]'),\n",
       " Text(0.6571428571428571, 0.16666666666666666, 'x[5] <= 115.442\\nentropy = 0.939\\nsamples = 73\\nvalue = [47, 26]'),\n",
       " Text(0.6428571428571429, 0.05555555555555555, 'entropy = 0.923\\nsamples = 71\\nvalue = [47, 24]'),\n",
       " Text(0.6714285714285714, 0.05555555555555555, 'entropy = 0.0\\nsamples = 2\\nvalue = [0, 2]'),\n",
       " Text(0.6857142857142857, 0.16666666666666666, 'entropy = 0.0\\nsamples = 7\\nvalue = [7, 0]'),\n",
       " Text(0.7, 0.2777777777777778, 'entropy = 0.0\\nsamples = 2\\nvalue = [0, 2]'),\n",
       " Text(0.8678571428571429, 0.6111111111111112, 'x[2] <= 32.25\\nentropy = 0.525\\nsamples = 354\\nvalue = [312, 42]'),\n",
       " Text(0.7928571428571428, 0.5, 'x[2] <= 31.5\\nentropy = 0.585\\nsamples = 264\\nvalue = [227, 37]'),\n",
       " Text(0.7428571428571429, 0.3888888888888889, 'x[3] <= 2.5\\nentropy = 0.539\\nsamples = 251\\nvalue = [220, 31]'),\n",
       " Text(0.7285714285714285, 0.2777777777777778, 'x[2] <= 10.0\\nentropy = 0.558\\nsamples = 238\\nvalue = [207, 31]'),\n",
       " Text(0.7142857142857143, 0.16666666666666666, 'entropy = 0.0\\nsamples = 2\\nvalue = [0, 2]'),\n",
       " Text(0.7428571428571429, 0.16666666666666666, 'x[0] <= 2.5\\nentropy = 0.538\\nsamples = 236\\nvalue = [207, 29]'),\n",
       " Text(0.7285714285714285, 0.05555555555555555, 'entropy = 0.348\\nsamples = 46\\nvalue = [43, 3]'),\n",
       " Text(0.7571428571428571, 0.05555555555555555, 'entropy = 0.576\\nsamples = 190\\nvalue = [164, 26]'),\n",
       " Text(0.7571428571428571, 0.2777777777777778, 'entropy = 0.0\\nsamples = 13\\nvalue = [13, 0]'),\n",
       " Text(0.8428571428571429, 0.3888888888888889, 'x[5] <= 20.925\\nentropy = 0.996\\nsamples = 13\\nvalue = [7, 6]'),\n",
       " Text(0.8142857142857143, 0.2777777777777778, 'x[5] <= 8.206\\nentropy = 0.918\\nsamples = 9\\nvalue = [6, 3]'),\n",
       " Text(0.8, 0.16666666666666666, 'x[5] <= 7.988\\nentropy = 0.985\\nsamples = 7\\nvalue = [4, 3]'),\n",
       " Text(0.7857142857142857, 0.05555555555555555, 'entropy = 0.918\\nsamples = 6\\nvalue = [4, 2]'),\n",
       " Text(0.8142857142857143, 0.05555555555555555, 'entropy = 0.0\\nsamples = 1\\nvalue = [0, 1]'),\n",
       " Text(0.8285714285714286, 0.16666666666666666, 'entropy = 0.0\\nsamples = 2\\nvalue = [2, 0]'),\n",
       " Text(0.8714285714285714, 0.2777777777777778, 'x[5] <= 64.998\\nentropy = 0.811\\nsamples = 4\\nvalue = [1, 3]'),\n",
       " Text(0.8571428571428571, 0.16666666666666666, 'entropy = 0.0\\nsamples = 3\\nvalue = [0, 3]'),\n",
       " Text(0.8857142857142857, 0.16666666666666666, 'entropy = 0.0\\nsamples = 1\\nvalue = [1, 0]'),\n",
       " Text(0.9428571428571428, 0.5, 'x[5] <= 13.25\\nentropy = 0.31\\nsamples = 90\\nvalue = [85, 5]'),\n",
       " Text(0.9285714285714286, 0.3888888888888889, 'x[5] <= 7.91\\nentropy = 0.404\\nsamples = 62\\nvalue = [57, 5]'),\n",
       " Text(0.9142857142857143, 0.2777777777777778, 'entropy = 0.0\\nsamples = 27\\nvalue = [27, 0]'),\n",
       " Text(0.9428571428571428, 0.2777777777777778, 'x[5] <= 7.988\\nentropy = 0.592\\nsamples = 35\\nvalue = [30, 5]'),\n",
       " Text(0.9142857142857143, 0.16666666666666666, 'x[2] <= 38.0\\nentropy = 1.0\\nsamples = 4\\nvalue = [2, 2]'),\n",
       " Text(0.9, 0.05555555555555555, 'entropy = 0.0\\nsamples = 1\\nvalue = [1, 0]'),\n",
       " Text(0.9285714285714286, 0.05555555555555555, 'entropy = 0.918\\nsamples = 3\\nvalue = [1, 2]'),\n",
       " Text(0.9714285714285714, 0.16666666666666666, 'x[0] <= 2.5\\nentropy = 0.459\\nsamples = 31\\nvalue = [28, 3]'),\n",
       " Text(0.9571428571428572, 0.05555555555555555, 'entropy = 0.696\\nsamples = 16\\nvalue = [13, 3]'),\n",
       " Text(0.9857142857142858, 0.05555555555555555, 'entropy = 0.0\\nsamples = 15\\nvalue = [15, 0]'),\n",
       " Text(0.9571428571428572, 0.3888888888888889, 'entropy = 0.0\\nsamples = 28\\nvalue = [28, 0]')]"
      ]
     },
     "execution_count": 31,
     "metadata": {},
     "output_type": "execute_result"
    },
    {
     "data": {
      "image/png": "[encoded data removed]",
      "text/plain": [
       "<Figure size 640x480 with 1 Axes>"
      ]
     },
     "metadata": {},
     "output_type": "display_data"
    }
   ],
   "source": [
    "tree.plot_tree(model)"
   ]
  },
  {
   "cell_type": "markdown",
   "metadata": {},
   "source": [
    "## RandomForest"
   ]
  },
  {
   "cell_type": "code",
   "execution_count": 32,
   "metadata": {},
   "outputs": [],
   "source": [
    "from sklearn.ensemble import RandomForestClassifier"
   ]
  },
  {
   "cell_type": "code",
   "execution_count": 33,
   "metadata": {},
   "outputs": [],
   "source": [
    "rfc = RandomForestClassifier(n_estimators=1000,max_depth=11)"
   ]
  },
  {
   "cell_type": "code",
   "execution_count": 34,
   "metadata": {},
   "outputs": [
    {
     "data": {
      "text/html": [
       "<style>#sk-container-id-3 {color: black;}#sk-container-id-3 pre{padding: 0;}#sk-container-id-3 div.sk-toggleable {background-color: white;}#sk-container-id-3 label.sk-toggleable__label {cursor: pointer;display: block;width: 100%;margin-bottom: 0;padding: 0.3em;box-sizing: border-box;text-align: center;}#sk-container-id-3 label.sk-toggleable__label-arrow:before {content: \"▸\";float: left;margin-right: 0.25em;color: #696969;}#sk-container-id-3 label.sk-toggleable__label-arrow:hover:before {color: black;}#sk-container-id-3 div.sk-estimator:hover label.sk-toggleable__label-arrow:before {color: black;}#sk-container-id-3 div.sk-toggleable__content {max-height: 0;max-width: 0;overflow: hidden;text-align: left;background-color: #f0f8ff;}#sk-container-id-3 div.sk-toggleable__content pre {margin: 0.2em;color: black;border-radius: 0.25em;background-color: #f0f8ff;}#sk-container-id-3 input.sk-toggleable__control:checked~div.sk-toggleable__content {max-height: 200px;max-width: 100%;overflow: auto;}#sk-container-id-3 input.sk-toggleable__control:checked~label.sk-toggleable__label-arrow:before {content: \"▾\";}#sk-container-id-3 div.sk-estimator input.sk-toggleable__control:checked~label.sk-toggleable__label {background-color: #d4ebff;}#sk-container-id-3 div.sk-label input.sk-toggleable__control:checked~label.sk-toggleable__label {background-color: #d4ebff;}#sk-container-id-3 input.sk-hidden--visually {border: 0;clip: rect(1px 1px 1px 1px);clip: rect(1px, 1px, 1px, 1px);height: 1px;margin: -1px;overflow: hidden;padding: 0;position: absolute;width: 1px;}#sk-container-id-3 div.sk-estimator {font-family: monospace;background-color: #f0f8ff;border: 1px dotted black;border-radius: 0.25em;box-sizing: border-box;margin-bottom: 0.5em;}#sk-container-id-3 div.sk-estimator:hover {background-color: #d4ebff;}#sk-container-id-3 div.sk-parallel-item::after {content: \"\";width: 100%;border-bottom: 1px solid gray;flex-grow: 1;}#sk-container-id-3 div.sk-label:hover label.sk-toggleable__label {background-color: #d4ebff;}#sk-container-id-3 div.sk-serial::before {content: \"\";position: absolute;border-left: 1px solid gray;box-sizing: border-box;top: 0;bottom: 0;left: 50%;z-index: 0;}#sk-container-id-3 div.sk-serial {display: flex;flex-direction: column;align-items: center;background-color: white;padding-right: 0.2em;padding-left: 0.2em;position: relative;}#sk-container-id-3 div.sk-item {position: relative;z-index: 1;}#sk-container-id-3 div.sk-parallel {display: flex;align-items: stretch;justify-content: center;background-color: white;position: relative;}#sk-container-id-3 div.sk-item::before, #sk-container-id-3 div.sk-parallel-item::before {content: \"\";position: absolute;border-left: 1px solid gray;box-sizing: border-box;top: 0;bottom: 0;left: 50%;z-index: -1;}#sk-container-id-3 div.sk-parallel-item {display: flex;flex-direction: column;z-index: 1;position: relative;background-color: white;}#sk-container-id-3 div.sk-parallel-item:first-child::after {align-self: flex-end;width: 50%;}#sk-container-id-3 div.sk-parallel-item:last-child::after {align-self: flex-start;width: 50%;}#sk-container-id-3 div.sk-parallel-item:only-child::after {width: 0;}#sk-container-id-3 div.sk-dashed-wrapped {border: 1px dashed gray;margin: 0 0.4em 0.5em 0.4em;box-sizing: border-box;padding-bottom: 0.4em;background-color: white;}#sk-container-id-3 div.sk-label label {font-family: monospace;font-weight: bold;display: inline-block;line-height: 1.2em;}#sk-container-id-3 div.sk-label-container {text-align: center;}#sk-container-id-3 div.sk-container {/* jupyter's `normalize.less` sets `[hidden] { display: none; }` but bootstrap.min.css set `[hidden] { display: none !important; }` so we also need the `!important` here to be able to override the default hidden behavior on the sphinx rendered scikit-learn.org. See: https://github.com/scikit-learn/scikit-learn/issues/21755 */display: inline-block !important;position: relative;}#sk-container-id-3 div.sk-text-repr-fallback {display: none;}</style><div id=\"sk-container-id-3\" class=\"sk-top-container\"><div class=\"sk-text-repr-fallback\"><pre>RandomForestClassifier(max_depth=11, n_estimators=1000)</pre><b>In a Jupyter environment, please rerun this cell to show the HTML representation or trust the notebook. <br />On GitHub, the HTML representation is unable to render, please try loading this page with nbviewer.org.</b></div><div class=\"sk-container\" hidden><div class=\"sk-item\"><div class=\"sk-estimator sk-toggleable\"><input class=\"sk-toggleable__control sk-hidden--visually\" id=\"sk-estimator-id-3\" type=\"checkbox\" checked><label for=\"sk-estimator-id-3\" class=\"sk-toggleable__label sk-toggleable__label-arrow\">RandomForestClassifier</label><div class=\"sk-toggleable__content\"><pre>RandomForestClassifier(max_depth=11, n_estimators=1000)</pre></div></div></div></div></div>"
      ],
      "text/plain": [
       "RandomForestClassifier(max_depth=11, n_estimators=1000)"
      ]
     },
     "execution_count": 34,
     "metadata": {},
     "output_type": "execute_result"
    }
   ],
   "source": [
    "rfc.fit(X_train,Y_train)"
   ]
  },
  {
   "cell_type": "code",
   "execution_count": 35,
   "metadata": {},
   "outputs": [
    {
     "data": {
      "text/plain": [
       "0.8044692737430168"
      ]
     },
     "execution_count": 35,
     "metadata": {},
     "output_type": "execute_result"
    }
   ],
   "source": [
    "rfc.score(X_test,Y_test)"
   ]
  },
  {
   "cell_type": "code",
   "execution_count": 36,
   "metadata": {},
   "outputs": [
    {
     "data": {
      "text/plain": [
       "0.9466292134831461"
      ]
     },
     "execution_count": 36,
     "metadata": {},
     "output_type": "execute_result"
    }
   ],
   "source": [
    "rfc.score(X_train,Y_train)"
   ]
  },
  {
   "cell_type": "code",
   "execution_count": 37,
   "metadata": {},
   "outputs": [
    {
     "data": {
      "text/plain": [
       "[DecisionTreeClassifier(max_depth=11, max_features='sqrt',\n",
       "                        random_state=1998064300),\n",
       " DecisionTreeClassifier(max_depth=11, max_features='sqrt',\n",
       "                        random_state=1806048954),\n",
       " DecisionTreeClassifier(max_depth=11, max_features='sqrt',\n",
       "                        random_state=968493238),\n",
       " DecisionTreeClassifier(max_depth=11, max_features='sqrt',\n",
       "                        random_state=212678189),\n",
       " DecisionTreeClassifier(max_depth=11, max_features='sqrt',\n",
       "                        random_state=1775184457)]"
      ]
     },
     "execution_count": 37,
     "metadata": {},
     "output_type": "execute_result"
    }
   ],
   "source": [
    "rfc.estimators_[:5]"
   ]
  },
  {
   "cell_type": "markdown",
   "metadata": {},
   "source": [
    "## Boosting Code"
   ]
  },
  {
   "cell_type": "code",
   "execution_count": 38,
   "metadata": {},
   "outputs": [],
   "source": [
    "from sklearn.ensemble import GradientBoostingClassifier"
   ]
  },
  {
   "cell_type": "code",
   "execution_count": 39,
   "metadata": {},
   "outputs": [],
   "source": [
    "gbdt = GradientBoostingClassifier(n_estimators=300)"
   ]
  },
  {
   "cell_type": "code",
   "execution_count": 40,
   "metadata": {},
   "outputs": [
    {
     "data": {
      "text/html": [
       "<style>#sk-container-id-4 {color: black;}#sk-container-id-4 pre{padding: 0;}#sk-container-id-4 div.sk-toggleable {background-color: white;}#sk-container-id-4 label.sk-toggleable__label {cursor: pointer;display: block;width: 100%;margin-bottom: 0;padding: 0.3em;box-sizing: border-box;text-align: center;}#sk-container-id-4 label.sk-toggleable__label-arrow:before {content: \"▸\";float: left;margin-right: 0.25em;color: #696969;}#sk-container-id-4 label.sk-toggleable__label-arrow:hover:before {color: black;}#sk-container-id-4 div.sk-estimator:hover label.sk-toggleable__label-arrow:before {color: black;}#sk-container-id-4 div.sk-toggleable__content {max-height: 0;max-width: 0;overflow: hidden;text-align: left;background-color: #f0f8ff;}#sk-container-id-4 div.sk-toggleable__content pre {margin: 0.2em;color: black;border-radius: 0.25em;background-color: #f0f8ff;}#sk-container-id-4 input.sk-toggleable__control:checked~div.sk-toggleable__content {max-height: 200px;max-width: 100%;overflow: auto;}#sk-container-id-4 input.sk-toggleable__control:checked~label.sk-toggleable__label-arrow:before {content: \"▾\";}#sk-container-id-4 div.sk-estimator input.sk-toggleable__control:checked~label.sk-toggleable__label {background-color: #d4ebff;}#sk-container-id-4 div.sk-label input.sk-toggleable__control:checked~label.sk-toggleable__label {background-color: #d4ebff;}#sk-container-id-4 input.sk-hidden--visually {border: 0;clip: rect(1px 1px 1px 1px);clip: rect(1px, 1px, 1px, 1px);height: 1px;margin: -1px;overflow: hidden;padding: 0;position: absolute;width: 1px;}#sk-container-id-4 div.sk-estimator {font-family: monospace;background-color: #f0f8ff;border: 1px dotted black;border-radius: 0.25em;box-sizing: border-box;margin-bottom: 0.5em;}#sk-container-id-4 div.sk-estimator:hover {background-color: #d4ebff;}#sk-container-id-4 div.sk-parallel-item::after {content: \"\";width: 100%;border-bottom: 1px solid gray;flex-grow: 1;}#sk-container-id-4 div.sk-label:hover label.sk-toggleable__label {background-color: #d4ebff;}#sk-container-id-4 div.sk-serial::before {content: \"\";position: absolute;border-left: 1px solid gray;box-sizing: border-box;top: 0;bottom: 0;left: 50%;z-index: 0;}#sk-container-id-4 div.sk-serial {display: flex;flex-direction: column;align-items: center;background-color: white;padding-right: 0.2em;padding-left: 0.2em;position: relative;}#sk-container-id-4 div.sk-item {position: relative;z-index: 1;}#sk-container-id-4 div.sk-parallel {display: flex;align-items: stretch;justify-content: center;background-color: white;position: relative;}#sk-container-id-4 div.sk-item::before, #sk-container-id-4 div.sk-parallel-item::before {content: \"\";position: absolute;border-left: 1px solid gray;box-sizing: border-box;top: 0;bottom: 0;left: 50%;z-index: -1;}#sk-container-id-4 div.sk-parallel-item {display: flex;flex-direction: column;z-index: 1;position: relative;background-color: white;}#sk-container-id-4 div.sk-parallel-item:first-child::after {align-self: flex-end;width: 50%;}#sk-container-id-4 div.sk-parallel-item:last-child::after {align-self: flex-start;width: 50%;}#sk-container-id-4 div.sk-parallel-item:only-child::after {width: 0;}#sk-container-id-4 div.sk-dashed-wrapped {border: 1px dashed gray;margin: 0 0.4em 0.5em 0.4em;box-sizing: border-box;padding-bottom: 0.4em;background-color: white;}#sk-container-id-4 div.sk-label label {font-family: monospace;font-weight: bold;display: inline-block;line-height: 1.2em;}#sk-container-id-4 div.sk-label-container {text-align: center;}#sk-container-id-4 div.sk-container {/* jupyter's `normalize.less` sets `[hidden] { display: none; }` but bootstrap.min.css set `[hidden] { display: none !important; }` so we also need the `!important` here to be able to override the default hidden behavior on the sphinx rendered scikit-learn.org. See: https://github.com/scikit-learn/scikit-learn/issues/21755 */display: inline-block !important;position: relative;}#sk-container-id-4 div.sk-text-repr-fallback {display: none;}</style><div id=\"sk-container-id-4\" class=\"sk-top-container\"><div class=\"sk-text-repr-fallback\"><pre>GradientBoostingClassifier(n_estimators=300)</pre><b>In a Jupyter environment, please rerun this cell to show the HTML representation or trust the notebook. <br />On GitHub, the HTML representation is unable to render, please try loading this page with nbviewer.org.</b></div><div class=\"sk-container\" hidden><div class=\"sk-item\"><div class=\"sk-estimator sk-toggleable\"><input class=\"sk-toggleable__control sk-hidden--visually\" id=\"sk-estimator-id-4\" type=\"checkbox\" checked><label for=\"sk-estimator-id-4\" class=\"sk-toggleable__label sk-toggleable__label-arrow\">GradientBoostingClassifier</label><div class=\"sk-toggleable__content\"><pre>GradientBoostingClassifier(n_estimators=300)</pre></div></div></div></div></div>"
      ],
      "text/plain": [
       "GradientBoostingClassifier(n_estimators=300)"
      ]
     },
     "execution_count": 40,
     "metadata": {},
     "output_type": "execute_result"
    }
   ],
   "source": [
    "gbdt.fit(X_train,Y_train)"
   ]
  },
  {
   "cell_type": "code",
   "execution_count": 41,
   "metadata": {},
   "outputs": [
    {
     "data": {
      "text/plain": [
       "0.8268156424581006"
      ]
     },
     "execution_count": 41,
     "metadata": {},
     "output_type": "execute_result"
    }
   ],
   "source": [
    "gbdt.score(X_test,Y_test)"
   ]
  },
  {
   "cell_type": "code",
   "execution_count": 42,
   "metadata": {},
   "outputs": [
    {
     "data": {
      "text/plain": [
       "0.9424157303370787"
      ]
     },
     "execution_count": 42,
     "metadata": {},
     "output_type": "execute_result"
    }
   ],
   "source": [
    "gbdt.score(X_train,Y_train)"
   ]
  },
  {
   "cell_type": "code",
   "execution_count": null,
   "metadata": {},
   "outputs": [],
   "source": []
  }
 ],
 "metadata": {
  "kernelspec": {
   "display_name": "Python 3",
   "language": "python",
   "name": "python3"
  },
  "language_info": {
   "codemirror_mode": {
    "name": "ipython",
    "version": 3
   },
   "file_extension": ".py",
   "mimetype": "text/x-python",
   "name": "python",
   "nbconvert_exporter": "python",
   "pygments_lexer": "ipython3",
   "version": "3.11.5"
  }
 },
 "nbformat": 4,
 "nbformat_minor": 2
}
