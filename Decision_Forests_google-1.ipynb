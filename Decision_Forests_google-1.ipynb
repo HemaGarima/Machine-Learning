{
 "cells": [
  {
   "cell_type": "markdown",
   "metadata": {},
   "source": [
    "### Making of a decision tree"
   ]
  },
  {
   "cell_type": "code",
   "execution_count": 4,
   "metadata": {},
   "outputs": [],
   "source": [
    "def train_decision_tree(training_examples):\n",
    "    root = create_root() # create a decision tree with a single empty root\n",
    "    grow_tree(root,training_examples) # Grow the root node\n",
    "    return root"
   ]
  },
  {
   "cell_type": "code",
   "execution_count": 5,
   "metadata": {},
   "outputs": [],
   "source": [
    "def grow_tree(node , examples):\n",
    "    condition = find_best_condition(examples) # Find the best condition\n",
    "    if condition is None:\n",
    "        # No satisfying conditions were found , therefore the grow of the branch stops.\n",
    "        set_leaf_prediction(node , examples)\n",
    "        return\n",
    "    \n",
    "    # Create two children for the node\n",
    "    positive_child , negative_child = split_node(node , condition)\n",
    "\n",
    "    # List the training examples used by each children\n",
    "    negative_examples = [example for example in examples if not condition(example)]\n",
    "    positive_examples = [example for example in examples if condition(example)]\n",
    "\n",
    "    # Continue the growth of the children\n",
    "    grow_tree(negative_child , negative_examples)\n",
    "    grow_tree(positive_child , positive_examples)"
   ]
  },
  {
   "cell_type": "code",
   "execution_count": null,
   "metadata": {},
   "outputs": [],
   "source": []
  }
 ],
 "metadata": {
  "kernelspec": {
   "display_name": "Python 3",
   "language": "python",
   "name": "python3"
  },
  "language_info": {
   "codemirror_mode": {
    "name": "ipython",
    "version": 3
   },
   "file_extension": ".py",
   "mimetype": "text/x-python",
   "name": "python",
   "nbconvert_exporter": "python",
   "pygments_lexer": "ipython3",
   "version": "3.11.5"
  }
 },
 "nbformat": 4,
 "nbformat_minor": 2
}
